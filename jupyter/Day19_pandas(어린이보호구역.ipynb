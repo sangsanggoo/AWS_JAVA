{
 "cells": [
  {
   "cell_type": "code",
   "execution_count": 22,
   "id": "8c20576b",
   "metadata": {},
   "outputs": [
    {
     "name": "stdout",
     "output_type": "stream",
     "text": [
      "           CCTV설치대수\n",
      "시설종류               \n",
      "국제학교            3.0\n",
      "대안학교            0.0\n",
      "어린이집         3881.0\n",
      "외국인교육기관         0.0\n",
      "외국인학교           8.0\n",
      "유치원          6041.0\n",
      "초등학교        19937.0\n",
      "초등학교+어린이집      39.0\n",
      "특수학교          243.0\n",
      "학원             64.0\n",
      "cctv설치대수 평균 2.5865434001027223\n"
     ]
    },
    {
     "data": {
      "text/plain": [
       "0     9\n",
       "1     9\n",
       "2    18\n",
       "3    18\n",
       "4     9\n",
       "Name: 보호구역도로폭, dtype: object"
      ]
     },
     "execution_count": 22,
     "metadata": {},
     "output_type": "execute_result"
    }
   ],
   "source": [
    "import numpy as np\n",
    "import pandas as pd\n",
    "\n",
    "data = pd.read_csv('전국어린이보호구역표준데이터.csv',encoding='cp949')\n",
    "sub_data = data[['시설종류','CCTV설치대수']]\n",
    "print(sub_data.groupby('시설종류').sum())\n",
    "print('cctv설치대수 평균',data['CCTV설치대수'].mean())\n",
    "r1 = data['CCTV설치대수']\n",
    "r2 = data['보호구역도로폭']\n",
    "\n",
    "#print('도로폭/cctv 설치대수 상관도',r1.corr())"
   ]
  }
 ],
 "metadata": {
  "kernelspec": {
   "display_name": "Python 3 (ipykernel)",
   "language": "python",
   "name": "python3"
  },
  "language_info": {
   "codemirror_mode": {
    "name": "ipython",
    "version": 3
   },
   "file_extension": ".py",
   "mimetype": "text/x-python",
   "name": "python",
   "nbconvert_exporter": "python",
   "pygments_lexer": "ipython3",
   "version": "3.10.9"
  }
 },
 "nbformat": 4,
 "nbformat_minor": 5
}
