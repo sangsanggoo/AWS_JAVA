{
 "cells": [
  {
   "cell_type": "markdown",
   "id": "cf4a1446",
   "metadata": {},
   "source": [
    "#### UCI 전복\n",
    "data url : https://archive.ics.uci.edu/ml/machine-learning-databases/abalone/abalone.data\n",
    "\n",
    "1.[함수] requests 패키지를 이용해 데이터 가져와서 ndaaray로 변환.\n",
    "\n",
    "2.[함수] 성별이'M'인 데이터를 필터, Lenght와 Diameter 간 상관도를 반환\n",
    "\n",
    "3. name값이 main값이면, 1,2 함수를 실해아 2번함수의 반환값을 프린트\n",
    "\n"
   ]
  },
  {
   "cell_type": "code",
   "execution_count": 36,
   "id": "ea3475ee",
   "metadata": {},
   "outputs": [
    {
     "name": "stdout",
     "output_type": "stream",
     "text": [
      "<Response [200]>\n"
     ]
    }
   ],
   "source": []
  },
  {
   "cell_type": "code",
   "execution_count": 39,
   "id": "95494c47",
   "metadata": {},
   "outputs": [
    {
     "ename": "ValueError",
     "evalue": "maximum supported dimension for an ndarray is 32, found 1528",
     "output_type": "error",
     "traceback": [
      "\u001b[1;31m---------------------------------------------------------------------------\u001b[0m",
      "\u001b[1;31mValueError\u001b[0m                                Traceback (most recent call last)",
      "Cell \u001b[1;32mIn[39], line 14\u001b[0m\n\u001b[0;32m     12\u001b[0m         Lengh_list\u001b[38;5;241m.\u001b[39mappend(x[\u001b[38;5;241m1\u001b[39m])\n\u001b[0;32m     13\u001b[0m         Diameter_list\u001b[38;5;241m.\u001b[39mappend(x[\u001b[38;5;241m2\u001b[39m])\n\u001b[1;32m---> 14\u001b[0m Lengh_list\u001b[38;5;241m=\u001b[39m \u001b[43mnp\u001b[49m\u001b[38;5;241;43m.\u001b[39;49m\u001b[43mndarray\u001b[49m\u001b[43m(\u001b[49m\u001b[43mLengh_list\u001b[49m\u001b[43m)\u001b[49m\n\u001b[0;32m     15\u001b[0m Diameter_list\u001b[38;5;241m=\u001b[39m np\u001b[38;5;241m.\u001b[39mndarray(Diameter_list)\n",
      "\u001b[1;31mValueError\u001b[0m: maximum supported dimension for an ndarray is 32, found 1528"
     ]
    }
   ],
   "source": [
    "data_list = []\n",
    "Lengh_list=[]\n",
    "Diameter_list=[]\n",
    "import requests\n",
    "import numpy as np\n",
    "x= requests.get('https://archive.ics.uci.edu/ml/machine-learning-databases/abalone/abalone.data')\n",
    "\n",
    "for line in x.text.split('\\n') :\n",
    "    data_list.append(line.split(','))\n",
    "for x in data_list :\n",
    "    if x[0] == 'M' :\n",
    "        Lengh_list.append(x[1])\n",
    "        Diameter_list.append(x[2])\n",
    "Lengh_list= np.ndarray(Lengh_list)\n",
    "Diameter_list= np.ndarray(Diameter_list)\n"
   ]
  },
  {
   "cell_type": "code",
   "execution_count": 57,
   "id": "d659c6bb",
   "metadata": {},
   "outputs": [],
   "source": [
    "def fetch_uci_data(url) :\n",
    "    d = requests.get(url)\n",
    "    t = []\n",
    "    for line in d.text.split('\\n'):\n",
    "        if len(line)!=0:\n",
    "            t.append(line.split(','))\n",
    "    return np.array(t)\n",
    "\n",
    "def get_corr(d) :\n",
    "    male_filter = d[:,0] =='M'\n",
    "    male_samples = d[male_filter]\n",
    "    male_length = male_samples[:,1].astype(np.float64)\n",
    "    male_diameter = male_samples[:,2].astype(np.float64)\n",
    "    return np.corrcoef(male_length,male_diameter)"
   ]
  },
  {
   "cell_type": "code",
   "execution_count": 60,
   "id": "b79738c2",
   "metadata": {},
   "outputs": [
    {
     "name": "stdout",
     "output_type": "stream",
     "text": [
      "[[1.         0.98190714]\n",
      " [0.98190714 1.        ]]\n",
      "0.9819071375281404\n"
     ]
    }
   ],
   "source": [
    "url = 'https://archive.ics.uci.edu/ml/machine-learning-databases/abalone/abalone.data'\n",
    "if __name__ == '__main__' :\n",
    "    np_data= fetch_uci_data(url)\n",
    "    corr_value = get_corr(np_data)\n",
    "    print(corr_value)\n",
    "    print(corr_value[0,1])"
   ]
  },
  {
   "cell_type": "code",
   "execution_count": 63,
   "id": "4c7c09da",
   "metadata": {},
   "outputs": [
    {
     "ename": "SyntaxError",
     "evalue": "invalid syntax (1209967246.py, line 2)",
     "output_type": "error",
     "traceback": [
      "\u001b[1;36m  Cell \u001b[1;32mIn[63], line 2\u001b[1;36m\u001b[0m\n\u001b[1;33m    create table abalone(lenght number, diameter number)\u001b[0m\n\u001b[1;37m           ^\u001b[0m\n\u001b[1;31mSyntaxError\u001b[0m\u001b[1;31m:\u001b[0m invalid syntax\n"
     ]
    }
   ],
   "source": [
    "import sqllite3\n",
    "create table abalone(lenght number, diameter number)"
   ]
  }
 ],
 "metadata": {
  "kernelspec": {
   "display_name": "Python 3 (ipykernel)",
   "language": "python",
   "name": "python3"
  },
  "language_info": {
   "codemirror_mode": {
    "name": "ipython",
    "version": 3
   },
   "file_extension": ".py",
   "mimetype": "text/x-python",
   "name": "python",
   "nbconvert_exporter": "python",
   "pygments_lexer": "ipython3",
   "version": "3.10.9"
  }
 },
 "nbformat": 4,
 "nbformat_minor": 5
}
