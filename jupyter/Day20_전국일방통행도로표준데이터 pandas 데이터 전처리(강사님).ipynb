{
 "cells": [
  {
   "cell_type": "markdown",
   "id": "535a16c8",
   "metadata": {},
   "source": [
    "### 전국일방통행도로표준데이터\n",
    "- 데이터 전처리\n",
    "시도명,지정사요, 지정연도, 도로폭, 도로차로수, 보차분리여부\n",
    "\n",
    "- 결측치 처리(column 개별 기준)\n",
    "- 오류치 처리(unit의 차이)\n",
    "- 이상치 처리(iqr 사용)\n",
    "- 전처리 내용 정리"
   ]
  },
  {
   "cell_type": "code",
   "execution_count": 68,
   "id": "34db1d01",
   "metadata": {},
   "outputs": [],
   "source": [
    "import numpy as np\n",
    "import pandas as pd\n",
    "\n",
    "pd_raw = pd.read_csv('전국일방통행도로표준데이터.csv',encoding='cp949')\n",
    "\n",
    "col_selection = ['시도명','지정사유','지정연도','도로폭','도로차로수','보차분리여부']\n",
    "pd_data= pd_raw[col_selection]"
   ]
  },
  {
   "cell_type": "code",
   "execution_count": 69,
   "id": "a1edcc6f",
   "metadata": {},
   "outputs": [
    {
     "name": "stdout",
     "output_type": "stream",
     "text": [
      "(2159, 6)\n",
      "시도명        object\n",
      "지정사유       object\n",
      "지정연도      float64\n",
      "도로폭       float64\n",
      "도로차로수     float64\n",
      "보차분리여부     object\n",
      "dtype: object\n",
      "시도명 \t False\n",
      "지정사유 \t True\n",
      "지정연도 \t True\n",
      "도로폭 \t False\n",
      "도로차로수 \t True\n",
      "보차분리여부 \t False\n"
     ]
    }
   ],
   "source": [
    "print(pd_data.shape)\n",
    "print(pd_data.dtypes)\n",
    "for e in pd_data :\n",
    "    print(e,'\\t',pd_data[e].hasnans)"
   ]
  },
  {
   "cell_type": "code",
   "execution_count": 70,
   "id": "9b9c69c1",
   "metadata": {},
   "outputs": [
    {
     "name": "stdout",
     "output_type": "stream",
     "text": [
      "['경기도' '경상북도' '제주특별자치도' '인천광역시' '강원도' '경상남도' '서울특별시' '충청남도' '전라남도' '전라북도'\n",
      " '광주광역시' '충청북도' '10']\n",
      "False\n",
      "['경기도' '경상북도' '제주특별자치도' '인천광역시' '강원도' '경상남도' '서울특별시' '충청남도' '전라남도' '전라북도'\n",
      " '광주광역시' '충청북도']\n",
      "False\n"
     ]
    }
   ],
   "source": [
    "#시도명\n",
    "print(pd_data['시도명'].unique())\n",
    "print(pd_data['시도명'].hasnans)\n",
    "#결측치 없음\n",
    "\n",
    "#오류치 : 10  --> '강원도'\n",
    "#print(pd_raw[pd_raw['시도명']=='10'])\n",
    "filter1 = pd_raw['시도명']=='10'\n",
    "#pd_data[filter1]['시도명']='강원도'    #warning\n",
    "pd_data.loc[filter1, '시도명'] = '강원도'\n",
    "\n",
    "# 이상치 : 없음\n",
    "\n",
    "print(pd_data['시도명'].unique())\n",
    "print(pd_data['시도명'].hasnans)"
   ]
  },
  {
   "cell_type": "code",
   "execution_count": 71,
   "id": "80ea64ce",
   "metadata": {},
   "outputs": [
    {
     "name": "stdout",
     "output_type": "stream",
     "text": [
      "[nan '통행원활' '교통불편 해소' '원활한 차량통행을 위하여 지정' '보행안전' '통행안전' '원활한교통통행'\n",
      " '차량소통 촉진 및 보행자 안전' '보행자안전확보' '주민건의' '교행불가' '교통소통' '원활한 교통흐름 및 보행 안전'\n",
      " '주차혼잡구간' '본도로 진입불가' '시장혼잡구간' '주택밀집지역' '고가도로' '교통사고 다발' '원통전통시장주차장 출입구'\n",
      " '교통안전' '교통흐름을 원활히 하기 위함' '부채도로' '주민편의' '순환차로' '교통혼잡 및 소통 원활 필요' '도로협소'\n",
      " '혼잡지역' '혼자지역' '혼잡구역' '혼잡비역' '차량교행']\n",
      "True\n",
      "True     1567\n",
      "False     592\n",
      "Name: 지정사유, dtype: int64\n",
      "['불분명' '원할' '불편' '안전' '주민건의' '교행불가' '교통소통' '혼잡' '본도로 진입불가' '주택밀집지역' '고가도로'\n",
      " '교통사고 다발' '원통전통시장주차장 출입구' '부채도로' '주민편의' '순환차로' '도로협소' '혼자지역' '차량교행']\n",
      "False\n"
     ]
    },
    {
     "name": "stderr",
     "output_type": "stream",
     "text": [
      "C:\\Users\\ITPS\\AppData\\Local\\Temp\\ipykernel_10304\\1422881139.py:22: SettingWithCopyWarning: \n",
      "A value is trying to be set on a copy of a slice from a DataFrame.\n",
      "Try using .loc[row_indexer,col_indexer] = value instead\n",
      "\n",
      "See the caveats in the documentation: https://pandas.pydata.org/pandas-docs/stable/user_guide/indexing.html#returning-a-view-versus-a-copy\n",
      "  pd_data.loc[:,'지정사유'] = pd_data.loc[:,'지정사유'].apply(e1)\n"
     ]
    }
   ],
   "source": [
    "#지정사유\n",
    "print(pd_data['지정사유'].unique())\n",
    "print(pd_data['지정사유'].hasnans)\n",
    "\n",
    "#결측치\n",
    "na_filter = pd_data['지정사유'].isna()\n",
    "print(na_filter.value_counts())\n",
    "pd_data.loc[na_filter,'지정사유'] = '불분명' #pd_data['지정사유'].fillna('불분명')\n",
    "\n",
    "#오류치 같은내용 다름이름 정리\n",
    "def e1(x) :\n",
    "    if '원활' in x:\n",
    "        return '원할'\n",
    "    elif '불편' in x:\n",
    "        return '불편'\n",
    "    elif '안전' in x:\n",
    "        return '안전'\n",
    "    elif '혼잡' in x:\n",
    "        return '혼잡'\n",
    "    else:\n",
    "        return x\n",
    "pd_data.loc[:,'지정사유'] = pd_data.loc[:,'지정사유'].apply(e1)\n",
    "print(pd_data['지정사유'].unique())\n",
    "print(pd_data['지정사유'].hasnans)\n"
   ]
  },
  {
   "cell_type": "code",
   "execution_count": 72,
   "id": "9c614580",
   "metadata": {},
   "outputs": [
    {
     "name": "stdout",
     "output_type": "stream",
     "text": [
      "[  nan 2017. 2018. 2014. 2005. 2019. 2022. 2016. 2012. 1999. 2021. 2015.\n",
      " 2013. 2004. 2002. 2008. 2009. 2010. 2011. 1998. 2001. 2003. 2006. 2000.\n",
      " 1995. 2020. 2007. 1990. 1997. 1996.]\n",
      "True\n",
      "True     1609\n",
      "False     550\n",
      "Name: 지정연도, dtype: int64\n",
      "[   0. 2017. 2018. 2014. 2005. 2019. 2022. 2016. 2012. 1999. 2021. 2015.\n",
      " 2013. 2004. 2002. 2008. 2009. 2010. 2011. 1998. 2001. 2003. 2006. 2000.\n",
      " 1995. 2020. 2007. 1990. 1997. 1996.]\n",
      "False\n"
     ]
    }
   ],
   "source": [
    "# 지정연도\n",
    "print(pd_data['지정연도'].unique())\n",
    "print(pd_data['지정연도'].hasnans)\n",
    "\n",
    "#결측치\n",
    "na_filter = pd_data['지정연도'].isna()\n",
    "print(na_filter.value_counts())\n",
    "pd_data.loc[na_filter,'지정연도'] = 0\n",
    "\n",
    "#오류치, 이상치 : 없음\n",
    "print(pd_data['지정연도'].unique())\n",
    "print(pd_data['지정연도'].hasnans)"
   ]
  },
  {
   "cell_type": "code",
   "execution_count": 81,
   "id": "b9cc9319",
   "metadata": {},
   "outputs": [
    {
     "name": "stdout",
     "output_type": "stream",
     "text": [
      "[5.  9.  4.  6.  7.5 8.  7.  nan 3.5 5.5 3.  4.5 6.5 2.5 7.1 6.3 3.7 8.5\n",
      " 8.2 2.  4.9 4.6 2.8 4.8 5.6 8.1 6.4 4.1 6.6 5.7 4.7 4.3 3.8 7.4 5.3 5.8\n",
      " 4.2 3.2 4.4 5.1 5.9 3.9 5.4 3.4 7.3 3.3 7.6 8.4 5.2 7.8 6.2 6.7 8.8 7.7\n",
      " 8.3 6.1 6.9 6.8]\n",
      "True\n",
      "count    2039.000000\n",
      "mean        5.544973\n",
      "std         1.535591\n",
      "min         2.000000\n",
      "25%         4.000000\n",
      "50%         6.000000\n",
      "75%         6.000000\n",
      "max         9.000000\n",
      "Name: 도로폭, dtype: float64\n",
      "1.0 9.0\n",
      "False    2159\n",
      "Name: 도로폭, dtype: int64\n",
      "[5.  9.  4.  6.  7.5 8.  7.  nan 3.5 5.5 3.  4.5 6.5 2.5 7.1 6.3 3.7 8.5\n",
      " 8.2 2.  4.9 4.6 2.8 4.8 5.6 8.1 6.4 4.1 6.6 5.7 4.7 4.3 3.8 7.4 5.3 5.8\n",
      " 4.2 3.2 4.4 5.1 5.9 3.9 5.4 3.4 7.3 3.3 7.6 8.4 5.2 7.8 6.2 6.7 8.8 7.7\n",
      " 8.3 6.1 6.9 6.8]\n",
      "True\n"
     ]
    }
   ],
   "source": [
    "#도로폭\n",
    "print(pd_data['도로폭'].unique())\n",
    "print(pd_data['도로폭'].hasnans)\n",
    "\n",
    "#결측치,오류치 : 없음\n",
    "\n",
    "#이상치 : upper 보다 큰 값을 np.NaN으로 교체 , 후에 dropna() 이용 샘플 삭제\n",
    "print(pd_data['도로폭'].describe())\n",
    "q1, q3 = pd_data['도로폭'].quantile([0.25,0.75])\n",
    "iqr = q3 - q1\n",
    "upper = q3 + 1.5*iqr\n",
    "lower = q1 - 1.5*iqr\n",
    "print(lower,upper)\n",
    "filter = pd_data['도로폭']>upper\n",
    "print(filter.value_counts())\n",
    "pd_data.loc[filter,'도로폭'] = np.NaN\n",
    "\n",
    "print(pd_data['도로폭'].unique())\n",
    "print(pd_data['도로폭'].hasnans)"
   ]
  },
  {
   "cell_type": "code",
   "execution_count": 86,
   "id": "19493976",
   "metadata": {},
   "outputs": [
    {
     "name": "stdout",
     "output_type": "stream",
     "text": [
      "[ 1.  2.  4.  3.  5. nan]\n",
      "True\n",
      "False    2157\n",
      "True        2\n",
      "Name: 도로차로수, dtype: int64\n",
      "False    2159\n",
      "Name: 도로차로수, dtype: int64\n",
      "[ 1.  2.  4.  3.  5. nan]\n",
      "True\n"
     ]
    }
   ],
   "source": [
    "#도로 차로수\n",
    "print(pd_data['도로차로수'].unique())\n",
    "print(pd_data['도로차로수'].hasnans)\n",
    "\n",
    "#결측치 1개 샘플, 후에 dropna()이용 제거\n",
    "na_filter = pd_data['도로차로수'].isna()\n",
    "print(na_filter.value_counts())\n",
    "\n",
    "#오류치 : \n",
    "filter1 = pd_data['도로차로수'] == 60\n",
    "print(filter1.value_counts())\n",
    "pd_data.loc[filter1,'도로차로수'] = np.NaN\n",
    "\n",
    "print(pd_data['도로차로수'].unique())\n",
    "print(pd_data['도로차로수'].hasnans)\n",
    "\n",
    "#이상치 : 없음\n"
   ]
  },
  {
   "cell_type": "code",
   "execution_count": 87,
   "id": "7008e2cf",
   "metadata": {},
   "outputs": [
    {
     "name": "stdout",
     "output_type": "stream",
     "text": [
      "['Y' 'N' nan]\n",
      "True\n",
      "False    2159\n",
      "Name: 보차분리여부, dtype: int64\n"
     ]
    }
   ],
   "source": [
    "#보차분리여부\n",
    "print(pd_data['보차분리여부'].unique())\n",
    "print(pd_data['보차분리여부'].hasnans)\n",
    "\n",
    "#결측치 : ' ' -->np.NaN으로 대체, 후에 dropna()이용 삭제\n",
    "na_filter = pd_data['보차분리여부'] == ' '\n",
    "print(na_filter.value_counts())\n",
    "pd_data.loc[na_filter,'보차분리여부'] = np.NaN\n",
    "\n",
    "#이상치 오류치 : 없음"
   ]
  },
  {
   "cell_type": "code",
   "execution_count": 88,
   "id": "12eaf47d",
   "metadata": {},
   "outputs": [
    {
     "name": "stdout",
     "output_type": "stream",
     "text": [
      "(2159, 6)\n",
      "(2038, 6)\n"
     ]
    }
   ],
   "source": [
    "pd_data_f = pd_data.dropna()\n",
    "print(pd_data.shape)\n",
    "print(pd_data_f.shape)"
   ]
  },
  {
   "cell_type": "code",
   "execution_count": null,
   "id": "c64b953c",
   "metadata": {},
   "outputs": [],
   "source": []
  }
 ],
 "metadata": {
  "kernelspec": {
   "display_name": "Python 3 (ipykernel)",
   "language": "python",
   "name": "python3"
  },
  "language_info": {
   "codemirror_mode": {
    "name": "ipython",
    "version": 3
   },
   "file_extension": ".py",
   "mimetype": "text/x-python",
   "name": "python",
   "nbconvert_exporter": "python",
   "pygments_lexer": "ipython3",
   "version": "3.10.9"
  }
 },
 "nbformat": 4,
 "nbformat_minor": 5
}
