{
 "cells": [
  {
   "cell_type": "code",
   "execution_count": 23,
   "id": "7611d970",
   "metadata": {},
   "outputs": [],
   "source": [
    "def my_split(s):\n",
    "    block_start = False\n",
    "    start_index = 0\n",
    "    ret_list=[]\n",
    "    for i, c in enumerate(s):\n",
    "        if block_start==False:\n",
    "            if c==',':\n",
    "                ret_list.append(s[start_index:i])\n",
    "                start_index=i+1\n",
    "            elif c=='\"':\n",
    "                block_start=True\n",
    "                start_index = i\n",
    "        else:\n",
    "            if c=='\"':\n",
    "                block_start=False\n",
    "    if s[-1]!=',':\n",
    "        ret_list.append(s[start_index:])\n",
    "    return ret_list"
   ]
  },
  {
   "cell_type": "code",
   "execution_count": 26,
   "id": "e0047515",
   "metadata": {},
   "outputs": [
    {
     "name": "stdout",
     "output_type": "stream",
     "text": [
      "711\n",
      "507\n"
     ]
    }
   ],
   "source": [
    "data_list=[]\n",
    "naejin_list = []\n",
    "with open('전국육교정보표준데이터.csv') as f :\n",
    "    for line in f :\n",
    "        data_list.append(my_split(line))\n",
    "data_list = data_list[1:]\n",
    "for i in data_list :\n",
    "    naejin_list.append(i[14])   \n",
    "\n",
    "#print(naejin_list)\n",
    "Y_count = naejin_list.count('Y')\n",
    "N_count = naejin_list.count('N')\n",
    "print(Y_count)\n",
    "print(N_count )"
   ]
  },
  {
   "cell_type": "code",
   "execution_count": null,
   "id": "4fdd6bb7",
   "metadata": {},
   "outputs": [],
   "source": []
  }
 ],
 "metadata": {
  "kernelspec": {
   "display_name": "Python 3 (ipykernel)",
   "language": "python",
   "name": "python3"
  },
  "language_info": {
   "codemirror_mode": {
    "name": "ipython",
    "version": 3
   },
   "file_extension": ".py",
   "mimetype": "text/x-python",
   "name": "python",
   "nbconvert_exporter": "python",
   "pygments_lexer": "ipython3",
   "version": "3.10.9"
  }
 },
 "nbformat": 4,
 "nbformat_minor": 5
}
