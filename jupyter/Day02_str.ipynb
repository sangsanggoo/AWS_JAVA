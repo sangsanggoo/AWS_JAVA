{
 "cells": [
  {
   "cell_type": "code",
   "execution_count": 1,
   "id": "d50fdb03",
   "metadata": {},
   "outputs": [
    {
     "name": "stdout",
     "output_type": "stream",
     "text": [
      "abcdefg\n"
     ]
    }
   ],
   "source": [
    "s = 'asdfaew'\n",
    "s = 'abcdefg'\n",
    "print(s)"
   ]
  },
  {
   "cell_type": "code",
   "execution_count": 2,
   "id": "2e2ee808",
   "metadata": {},
   "outputs": [
    {
     "name": "stdout",
     "output_type": "stream",
     "text": [
      "d\n",
      "cde\n",
      "ceg\n"
     ]
    }
   ],
   "source": [
    "print(s[3])\n",
    "print(s[2:5])\n",
    "print(s[2:7:2])"
   ]
  },
  {
   "cell_type": "code",
   "execution_count": 3,
   "id": "b1127138",
   "metadata": {},
   "outputs": [
    {
     "name": "stdout",
     "output_type": "stream",
     "text": [
      "haed def tall 10\n"
     ]
    }
   ],
   "source": [
    "a = 10\n",
    "b = 'def'\n",
    "\n",
    "s = \"haed {} tall {}\".format(b,a)\n",
    "print(s)"
   ]
  },
  {
   "cell_type": "code",
   "execution_count": 5,
   "id": "00285641",
   "metadata": {},
   "outputs": [
    {
     "name": "stdout",
     "output_type": "stream",
     "text": [
      "abc\n"
     ]
    }
   ],
   "source": [
    "s = '                               abc'\n",
    "print(s.lstrip())"
   ]
  }
 ],
 "metadata": {
  "kernelspec": {
   "display_name": "Python 3 (ipykernel)",
   "language": "python",
   "name": "python3"
  },
  "language_info": {
   "codemirror_mode": {
    "name": "ipython",
    "version": 3
   },
   "file_extension": ".py",
   "mimetype": "text/x-python",
   "name": "python",
   "nbconvert_exporter": "python",
   "pygments_lexer": "ipython3",
   "version": "3.10.9"
  }
 },
 "nbformat": 4,
 "nbformat_minor": 5
}
