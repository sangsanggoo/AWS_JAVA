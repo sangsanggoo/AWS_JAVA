{
 "cells": [
  {
   "cell_type": "markdown",
   "id": "c39ba586",
   "metadata": {},
   "source": [
    "# Heading1\n",
    "\n",
    "\n",
    "## heading2\n",
    "## heading3\n",
    "\n"
   ]
  },
  {
   "cell_type": "markdown",
   "id": "075e25e8",
   "metadata": {},
   "source": [
    "문장1문장2문장3\n",
    "\n",
    "문장4\n",
    "\n",
    "문단x"
   ]
  },
  {
   "cell_type": "markdown",
   "id": "84febffb",
   "metadata": {},
   "source": [
    "$$\n",
    "    \\hat y = x_{i}+\\sum 3\n",
    "$$"
   ]
  }
 ],
 "metadata": {
  "kernelspec": {
   "display_name": "Python 3 (ipykernel)",
   "language": "python",
   "name": "python3"
  },
  "language_info": {
   "codemirror_mode": {
    "name": "ipython",
    "version": 3
   },
   "file_extension": ".py",
   "mimetype": "text/x-python",
   "name": "python",
   "nbconvert_exporter": "python",
   "pygments_lexer": "ipython3",
   "version": "3.10.9"
  }
 },
 "nbformat": 4,
 "nbformat_minor": 5
}
