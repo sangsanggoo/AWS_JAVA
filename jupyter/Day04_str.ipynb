{
 "cells": [
  {
   "cell_type": "code",
   "execution_count": 80,
   "id": "a68827e5",
   "metadata": {},
   "outputs": [
    {
     "name": "stdout",
     "output_type": "stream",
     "text": [
      "[['5', '17', '26', '27', '35', '38', '1'], ['21', '26', '30', '32', '33', '35', '44'], ['6', '12', '31', '35', '38', '43', '17']]\n"
     ]
    },
    {
     "data": {
      "text/plain": [
       "1"
      ]
     },
     "execution_count": 80,
     "metadata": {},
     "output_type": "execute_result"
    }
   ],
   "source": [
    "import math\n",
    "csv_data = []\n",
    "with open('lott.CSV') as f :\n",
    "    for line in f:\n",
    "        csv_data.append(line[:-1].split(','))\n",
    "print(csv_data[:3]) #문자열\n",
    "int(csv_data[0][-1])\n"
   ]
  },
  {
   "cell_type": "code",
   "execution_count": 81,
   "id": "42fb950a",
   "metadata": {},
   "outputs": [
    {
     "name": "stdout",
     "output_type": "stream",
     "text": [
      "[[5, 17, 26, 27, 35, 38, 1], [21, 26, 30, 32, 33, 35, 44], [6, 12, 31, 35, 38, 43, 17]]\n"
     ]
    }
   ],
   "source": [
    "for e in csv_data :\n",
    "    for i,e_i in enumerate(e) :\n",
    "        e[i] = int(e_i)\n",
    "print(csv_data[:3]) # int형"
   ]
  },
  {
   "cell_type": "code",
   "execution_count": 82,
   "id": "2ea33e02",
   "metadata": {},
   "outputs": [
    {
     "name": "stdout",
     "output_type": "stream",
     "text": [
      "21.285714285714285\n",
      "26\n",
      "[-20.285714285714285, -16.285714285714285, -4.285714285714285, 4.714285714285715, 5.714285714285715, 13.714285714285715, 16.714285714285715]\n",
      "202.90476190476193\n",
      "14.244464254746893\n"
     ]
    }
   ],
   "source": [
    "game1 = csv_data[0]\n",
    "def mean(num_list) :\n",
    "    return (sum(num_list)/len(game1))\n",
    "print(mean(game1))\n",
    "game1.sort()\n",
    "\n",
    "def dev(num_list): # 편차 : 각 값에서 평균을 뺀값\n",
    "    m = mean(num_list)\n",
    "    return [x-m for x in num_list]\n",
    "\n",
    "def var(num_list) : #분산 : 각 편차를 제곱을 해서 총 개수로 나누기\n",
    "    n = len(num_list)\n",
    "    d = dev(num_list)\n",
    "    return sum([x*x for x in d])/(n-1)\n",
    "\n",
    "def stdev(num_list) : #표준 편차 \n",
    "    return math.sqrt(var(num_list))\n",
    "#print(game1)\n",
    "\n",
    "if len(game1)%2== 0:\n",
    "    print((game1[len(game1)//2]+game[(len(game1)//2)-1])/2)\n",
    "else :\n",
    "    print(game1[(len(game1)-1)//2])\n",
    "\n",
    "print(dev(game1))\n",
    "print(var(game1))\n",
    "print(stdev(game1))"
   ]
  },
  {
   "cell_type": "code",
   "execution_count": 69,
   "id": "c85168ba",
   "metadata": {},
   "outputs": [
    {
     "name": "stdout",
     "output_type": "stream",
     "text": [
      "[1, 5, 17, 26, 27, 35, 38]\n",
      "after sorted: [5, 17, 26, 27, 35, 38, 1]\n",
      "[1, 5, 17, 26, 27, 35, 38]\n"
     ]
    }
   ],
   "source": [
    "#in-place\n",
    "list_a = [5, 17, 26, 27, 35, 38, 1]\n",
    "print(sorted(list_a)) #원본은 그대로 이고 오름차순으로 출력만 하는거\n",
    "print('after sorted:',list_a) #그래서 원본을 다시 출력하면 그대로 출력됨\n",
    "\n",
    "list_a.sort() #원본을 바꾸는거기 때문에 \n",
    "print(list_a) #출력을 다시 하면 오름차순을 바껴있음 이게 in-place \n",
    "\n"
   ]
  },
  {
   "cell_type": "code",
   "execution_count": 71,
   "id": "95310f1a",
   "metadata": {},
   "outputs": [
    {
     "name": "stdout",
     "output_type": "stream",
     "text": [
      "list_a:  [5, 17, 26, 27, 35, 38, 1]\n",
      "list_b:  [5, 17, 26, 27, 35, 38, 1]\n",
      "list_a:  [100, 17, 26, 27, 35, 38, 1]\n",
      "list_b:  [100, 17, 26, 27, 35, 38, 1]\n",
      "{7}\n"
     ]
    }
   ],
   "source": [
    "#reference\n",
    "list_a = [5, 17, 26, 27, 35, 38, 1]\n",
    "list_b = list_a #shallow copy, 얕은 복사\n",
    "print('list_a: ',list_a)\n",
    "print('list_b: ',list_b)\n",
    "list_a[0]=100 # 깊은 복사\n",
    "print('list_a: ',list_a)\n",
    "print('list_b: ',list_b)\n",
    "\n",
    "def split_len(data_list) :\n",
    "    len_list = []\n",
    "    for e in data_list :\n",
    "        len_list.append(len(e))\n",
    "    print(set(len_list))\n",
    "    if len(set(len_list))>1:\n",
    "        for i in set(len_list):\n",
    "            print(i,len_list.count(I))\n",
    "\n",
    "split_len(csv_data) \n",
    "\n"
   ]
  }
 ],
 "metadata": {
  "kernelspec": {
   "display_name": "Python 3 (ipykernel)",
   "language": "python",
   "name": "python3"
  },
  "language_info": {
   "codemirror_mode": {
    "name": "ipython",
    "version": 3
   },
   "file_extension": ".py",
   "mimetype": "text/x-python",
   "name": "python",
   "nbconvert_exporter": "python",
   "pygments_lexer": "ipython3",
   "version": "3.10.9"
  }
 },
 "nbformat": 4,
 "nbformat_minor": 5
}
