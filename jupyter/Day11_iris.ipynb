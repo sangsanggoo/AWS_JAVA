{
 "cells": [
  {
   "cell_type": "code",
   "execution_count": 45,
   "id": "c886c929",
   "metadata": {},
   "outputs": [
    {
     "name": "stdout",
     "output_type": "stream",
     "text": [
      "(150,)\n",
      "(150, 1)\n"
     ]
    }
   ],
   "source": [
    "import pickle\n",
    "import numpy as np\n",
    "import matplotlib.pyplot as plt\n",
    "\n",
    "\n",
    "with open('iris_ndarray.pickle', 'rb') as f :\n",
    "    iris_np = pickle.load(f)\n",
    "\n",
    "#print(iris_np)\n",
    "#sepal ratio : sepal length[0] / sepal width[1]\n",
    "sepal_length = iris_np[:,0]\n",
    "sepal_width = iris_np[:,1]\n",
    "sepal_ratio = sepal_length/sepal_width\n",
    "#print(sepal_ratio)\n",
    "#petal ratio : petal length[2] / petal width[3]\n",
    "petal_length = iris_np[:,2]\n",
    "petal_width = iris_np[:,3]\n",
    "petal_ratio = petal_length/petal_width\n",
    "#print(petal_ratio)\n",
    "# (150,) 를 (150,1)로 바꾸기\n",
    "print(sepal_ratio.shape)\n",
    "sepal_ratio_2d = np.expand_dims(sepal_ratio,1) \n",
    "print(sepal_ratio_2d.shape)\n",
    "# (150,) 를 (150,1)로 바꾸기2\n",
    "#print(petal_ratio.shape)\n",
    "petal_ratio_2d=petal_ratio[:,np.newaxis]\n",
    "#print(petal_ratio_2d.shape)\n",
    "\n",
    "\n"
   ]
  },
  {
   "cell_type": "code",
   "execution_count": 55,
   "id": "b272db46",
   "metadata": {},
   "outputs": [
    {
     "data": {
      "text/plain": [
       "<matplotlib.collections.PathCollection at 0x1e8f3caf280>"
      ]
     },
     "execution_count": 55,
     "metadata": {},
     "output_type": "execute_result"
    },
    {
     "data": {
      "image/png": "[encoded data removed]",
      "text/plain": [
       "<Figure size 640x480 with 1 Axes>"
      ]
     },
     "metadata": {},
     "output_type": "display_data"
    }
   ],
   "source": [
    "filter_class0 = iris_np[:,-1] ==0.0\n",
    "iris_np_class0 = iris_np[filter_class0]\n",
    "\n",
    "filter_class1 = iris_np[:,-1] ==1.0\n",
    "iris_np_class1 = iris_np[filter_class1]\n",
    "\n",
    "filter_class2 = iris_np[:,-1] ==2.0\n",
    "iris_np_class2 = iris_np[filter_class2]\n",
    "\n",
    "concat_result=np.concatenate((sepal_ratio_2d,petal_ratio_2d),axis=1)\n",
    "#print(concat_result.shape)\n",
    "#print(concat_result)\n",
    "_, axe = plt.subplots()\n",
    "axe.set_xlim(0,8) #x 범위\n",
    "axe.set_ylim(0,3) #y 범위\n",
    "axe.scatter(iris_np_class1[:,2],iris_np_class1[:,3])\n",
    "axe.scatter(iris_np_class0[:,2],iris_np_class0[:,3])\n",
    "axe.scatter(iris_np_class2[:,2],iris_np_class2[:,3])"
   ]
  },
  {
   "cell_type": "code",
   "execution_count": 77,
   "id": "119a6cde",
   "metadata": {},
   "outputs": [
    {
     "name": "stdout",
     "output_type": "stream",
     "text": [
      "[3.82753184 3.82753184 3.92173431 3.73363094 3.82753184 3.47850543\n",
      " 3.79473319 3.73363094 3.82753184 3.76961536 3.73363094 3.64005494\n",
      " 3.86264158 4.14366987 4.01621713 3.66878727 3.86005181 3.79473319\n",
      " 3.51140997 3.7        3.54682957 3.66878727 4.20594817 3.44818793\n",
      " 3.36154726 3.64005494 3.57351368 3.73363094 3.82753184 3.64005494\n",
      " 3.64005494 3.66878727 3.76961536 3.82753184 3.76961536 4.01621713\n",
      " 3.92173431 3.76961536 3.92173431 3.73363094 3.88973007 3.88973007\n",
      " 3.92173431 3.51710108 3.28937684 3.79473319 3.64005494 3.82753184\n",
      " 3.73363094 3.82753184 0.31622777 0.5        0.1        1.0198039\n",
      " 0.4        0.53851648 0.31622777 1.77200451 0.4472136  1.1045361\n",
      " 1.58113883 0.8        1.11803399 0.31622777 1.41421356 0.60827625\n",
      " 0.5        1.02956301 0.5        1.17046999 0.36055513 1.0198039\n",
      " 0.1        0.42426407 0.72801099 0.60827625 0.2236068  0.2\n",
      " 0.5        1.58113883 1.26491106 1.39283883 1.14017543 0.14142136\n",
      " 0.5        0.50990195 0.3        0.63245553 0.92195445 1.0198039\n",
      " 0.67082039 0.41231056 1.04403065 1.77200451 0.82462113 0.85440037\n",
      " 0.82462113 0.72801099 2.03960781 0.92195445 1.41421356 0.41231056\n",
      " 1.08166538 0.67082039 1.06301458 1.70880075 0.53851648 1.33416641\n",
      " 0.85440037 1.48660687 0.50990195 0.5        0.78102497 0.5\n",
      " 0.90553851 0.85440037 0.58309519 1.83847763 2.06155281 0.\n",
      " 1.06301458 0.50990195 1.77200451 0.31622777 0.92195445 1.04403065\n",
      " 0.36055513 0.31622777 0.84852814 0.80622577 1.17046999 1.48660687\n",
      " 0.92195445 0.1        0.60827625 1.36014705 1.08166538 0.58309519\n",
      " 0.36055513 0.72111026 1.08166538 0.80622577 0.41231056 1.20415946\n",
      " 1.22065556 0.82462113 0.4        0.53851648 0.89442719 0.31622777]\n"
     ]
    }
   ],
   "source": [
    "import math\n",
    "guri = []\n",
    "\n",
    "def kNN_predict(iris_np_data, petal_length, petal_width) :\n",
    "#(150,2) (2,)\n",
    "    sub_data = iris_np_data[:,2:4]\n",
    "    target_np = np.array([petal_length,petal_width])\n",
    "    #rint(sub_data.shape)\n",
    "    #print(target_np.shape)\n",
    "    #print(target_np-sub_data) \n",
    "    #print((target_np-sub_data)**2)\n",
    "    #print(           np.sum(          ((target_np-sub_data)**2),axis=1)             )\n",
    "    dist = np.sqrt(     np.sum(          ((target_np-sub_data)**2),axis=1)    )         \n",
    "    print(dist)\n",
    "     \n",
    "kNN_predict(iris_np,5.0, 1.5)\n"
   ]
  }
 ],
 "metadata": {
  "kernelspec": {
   "display_name": "Python 3 (ipykernel)",
   "language": "python",
   "name": "python3"
  },
  "language_info": {
   "codemirror_mode": {
    "name": "ipython",
    "version": 3
   },
   "file_extension": ".py",
   "mimetype": "text/x-python",
   "name": "python",
   "nbconvert_exporter": "python",
   "pygments_lexer": "ipython3",
   "version": "3.10.9"
  }
 },
 "nbformat": 4,
 "nbformat_minor": 5
}
