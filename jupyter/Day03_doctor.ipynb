{
 "cells": [
  {
   "cell_type": "code",
   "execution_count": 60,
   "id": "eb3dad40",
   "metadata": {},
   "outputs": [
    {
     "name": "stdout",
     "output_type": "stream",
     "text": [
      "센터 갯수:  292 개\n"
     ]
    }
   ],
   "source": [
    "csv_data = []\n",
    "center_list = []\n",
    "center_set = () \n",
    "center_count = 0;\n",
    "with open('전국건강증진센터표준데이터.csv') as f:\n",
    "    for line in f:\n",
    "        csv_data.append(line.split(','))\n",
    "    #print(csv_data[:])\n",
    "    for n in csv_data[1:] :\n",
    "        center_list.append(n[0])\n",
    "    #print(center_list)\n",
    "    center_set = set(center_list)\n",
    "    for n in center_set :\n",
    "        center_count = center_count + center_list.count(n)\n",
    "    print('센터 갯수: ',center_count , '개')"
   ]
  },
  {
   "cell_type": "code",
   "execution_count": 13,
   "id": "31077b8c",
   "metadata": {},
   "outputs": [
    {
     "name": "stdout",
     "output_type": "stream",
     "text": [
      "0\n"
     ]
    },
    {
     "ename": "TypeError",
     "evalue": "unsupported operand type(s) for +: 'int' and 'str'",
     "output_type": "error",
     "traceback": [
      "\u001b[1;31m---------------------------------------------------------------------------\u001b[0m",
      "\u001b[1;31mTypeError\u001b[0m                                 Traceback (most recent call last)",
      "Cell \u001b[1;32mIn[13], line 15\u001b[0m\n\u001b[0;32m     13\u001b[0m \u001b[38;5;28;01mfor\u001b[39;00m n \u001b[38;5;129;01min\u001b[39;00m no_docter_center_list :\n\u001b[0;32m     14\u001b[0m     \u001b[38;5;28mprint\u001b[39m(n)\n\u001b[1;32m---> 15\u001b[0m     no_docter_center_count \u001b[38;5;241m=\u001b[39m \u001b[43mno_docter_center_count\u001b[49m\u001b[43m \u001b[49m\u001b[38;5;241;43m+\u001b[39;49m\u001b[43m \u001b[49m\u001b[43mn\u001b[49m\n\u001b[0;32m     17\u001b[0m \u001b[38;5;28mprint\u001b[39m(\u001b[38;5;124m'\u001b[39m\u001b[38;5;124m의사가 0명인 센터수\u001b[39m\u001b[38;5;124m'\u001b[39m,no_docter_center_list[\u001b[38;5;241m1\u001b[39m:]\u001b[38;5;241m.\u001b[39mcount(\u001b[38;5;124m'\u001b[39m\u001b[38;5;124m0\u001b[39m\u001b[38;5;124m'\u001b[39m))\n\u001b[0;32m     19\u001b[0m \u001b[38;5;28mprint\u001b[39m(\u001b[38;5;124m'\u001b[39m\u001b[38;5;124m의사 총명수 : \u001b[39m\u001b[38;5;124m'\u001b[39m,no_docter_center_count)\n",
      "\u001b[1;31mTypeError\u001b[0m: unsupported operand type(s) for +: 'int' and 'str'"
     ]
    }
   ],
   "source": [
    "csv2_data = []\n",
    "no_docter_center_list = []\n",
    "no_docter_center_set = 0\n",
    "no_docter_center_count = 0\n",
    "\n",
    "with open('전국건강증진센터표준데이터(,없앤거).csv') as f:\n",
    "    for line in f:\n",
    "        csv2_data.append(line.split(','))\n",
    "    #print(csv2_data)\n",
    "    for n in csv2_data[1:]:\n",
    "        no_docter_center_list.append(n[11])\n",
    "        #print(no_docter_center_list)\n",
    "    for n in no_docter_center_list :\n",
    "        print(n)\n",
    "        no_docter_center_count = no_docter_center_count + n\n",
    "        \n",
    "    print('의사가 0명인 센터수',no_docter_center_list[1:].count('0'))\n",
    "    \n",
    "    print('의사 총명수 : ',no_docter_center_count)"
   ]
  },
  {
   "cell_type": "code",
   "execution_count": null,
   "id": "797d796b",
   "metadata": {},
   "outputs": [],
   "source": []
  }
 ],
 "metadata": {
  "kernelspec": {
   "display_name": "Python 3 (ipykernel)",
   "language": "python",
   "name": "python3"
  },
  "language_info": {
   "codemirror_mode": {
    "name": "ipython",
    "version": 3
   },
   "file_extension": ".py",
   "mimetype": "text/x-python",
   "name": "python",
   "nbconvert_exporter": "python",
   "pygments_lexer": "ipython3",
   "version": "3.10.9"
  }
 },
 "nbformat": 4,
 "nbformat_minor": 5
}
