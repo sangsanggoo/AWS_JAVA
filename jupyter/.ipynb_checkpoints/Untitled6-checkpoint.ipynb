{
 "cells": [
  {
   "cell_type": "code",
   "execution_count": 4,
   "id": "34a81d93",
   "metadata": {},
   "outputs": [
    {
     "name": "stdout",
     "output_type": "stream",
     "text": [
      "30\n"
     ]
    }
   ],
   "source": [
    "def score_check():\n",
    "   \n",
    "   print(score)\n",
    "\n",
    "def my_sq_prod(number_list):\n",
    "   return_value = 1;\n",
    "   for number in number_list:\n",
    "        return_value = return_value * number**2\n",
    "   return return_value\n",
    "\n",
    "score_check()"
   ]
  }
 ],
 "metadata": {
  "kernelspec": {
   "display_name": "Python 3 (ipykernel)",
   "language": "python",
   "name": "python3"
  },
  "language_info": {
   "codemirror_mode": {
    "name": "ipython",
    "version": 3
   },
   "file_extension": ".py",
   "mimetype": "text/x-python",
   "name": "python",
   "nbconvert_exporter": "python",
   "pygments_lexer": "ipython3",
   "version": "3.10.9"
  }
 },
 "nbformat": 4,
 "nbformat_minor": 5
}
