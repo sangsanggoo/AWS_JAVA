{
 "cells": [
  {
   "cell_type": "code",
   "execution_count": 2,
   "id": "8c20576b",
   "metadata": {},
   "outputs": [
    {
     "name": "stdout",
     "output_type": "stream",
     "text": [
      "           CCTV설치대수\n",
      "시설종류               \n",
      "국제학교            3.0\n",
      "대안학교            0.0\n",
      "어린이집         3881.0\n",
      "외국인교육기관         0.0\n",
      "외국인학교           8.0\n",
      "유치원          6041.0\n",
      "초등학교        19937.0\n",
      "초등학교+어린이집      39.0\n",
      "특수학교          243.0\n",
      "학원             64.0\n",
      "cctv설치대수 평균 2.5865434001027223\n"
     ]
    }
   ],
   "source": [
    "import numpy as np\n",
    "import pandas as pd\n",
    "\n",
    "data = pd.read_csv('전국어린이보호구역표준데이터.csv',encoding='cp949')\n",
    "sub_data = data[['시설종류','CCTV설치대수']]\n",
    "comlumn_selection = ['시설종류','관할경찰서명','CCTV설치여부','CCTV설치대수','제공기관명','보호구역도로폭']\n",
    "print(sub_data.groupby('시설종류').sum())\n",
    "print('cctv설치대수 평균',data['CCTV설치대수'].mean())\n",
    "r1 = data['CCTV설치대수']\n",
    "r2 = data['보호구역도로폭']\n",
    "\n",
    "#print('도로폭/cctv 설치대수 상관도',r1.corr())"
   ]
  },
  {
   "cell_type": "code",
   "execution_count": 25,
   "id": "6a146bfc",
   "metadata": {},
   "outputs": [
    {
     "data": {
      "text/html": [
       "<div>\n",
       "<style scoped>\n",
       "    .dataframe tbody tr th:only-of-type {\n",
       "        vertical-align: middle;\n",
       "    }\n",
       "\n",
       "    .dataframe tbody tr th {\n",
       "        vertical-align: top;\n",
       "    }\n",
       "\n",
       "    .dataframe thead th {\n",
       "        text-align: right;\n",
       "    }\n",
       "</style>\n",
       "<table border=\"1\" class=\"dataframe\">\n",
       "  <thead>\n",
       "    <tr style=\"text-align: right;\">\n",
       "      <th></th>\n",
       "      <th>시설종류</th>\n",
       "      <th>관할경찰서명</th>\n",
       "      <th>CCTV설치여부</th>\n",
       "      <th>CCTV설치대수</th>\n",
       "      <th>제공기관명</th>\n",
       "      <th>보호구역도로폭</th>\n",
       "    </tr>\n",
       "  </thead>\n",
       "  <tbody>\n",
       "    <tr>\n",
       "      <th>count</th>\n",
       "      <td>15056</td>\n",
       "      <td>15056</td>\n",
       "      <td>15056</td>\n",
       "      <td>11682.000000</td>\n",
       "      <td>15056</td>\n",
       "      <td>10684</td>\n",
       "    </tr>\n",
       "    <tr>\n",
       "      <th>unique</th>\n",
       "      <td>10</td>\n",
       "      <td>262</td>\n",
       "      <td>2</td>\n",
       "      <td>NaN</td>\n",
       "      <td>225</td>\n",
       "      <td>528</td>\n",
       "    </tr>\n",
       "    <tr>\n",
       "      <th>top</th>\n",
       "      <td>초등학교</td>\n",
       "      <td>서부경찰서</td>\n",
       "      <td>Y</td>\n",
       "      <td>NaN</td>\n",
       "      <td>경상남도</td>\n",
       "      <td>6</td>\n",
       "    </tr>\n",
       "    <tr>\n",
       "      <th>freq</th>\n",
       "      <td>6965</td>\n",
       "      <td>299</td>\n",
       "      <td>11687</td>\n",
       "      <td>NaN</td>\n",
       "      <td>759</td>\n",
       "      <td>1600</td>\n",
       "    </tr>\n",
       "    <tr>\n",
       "      <th>mean</th>\n",
       "      <td>NaN</td>\n",
       "      <td>NaN</td>\n",
       "      <td>NaN</td>\n",
       "      <td>2.586543</td>\n",
       "      <td>NaN</td>\n",
       "      <td>NaN</td>\n",
       "    </tr>\n",
       "    <tr>\n",
       "      <th>std</th>\n",
       "      <td>NaN</td>\n",
       "      <td>NaN</td>\n",
       "      <td>NaN</td>\n",
       "      <td>2.937831</td>\n",
       "      <td>NaN</td>\n",
       "      <td>NaN</td>\n",
       "    </tr>\n",
       "    <tr>\n",
       "      <th>min</th>\n",
       "      <td>NaN</td>\n",
       "      <td>NaN</td>\n",
       "      <td>NaN</td>\n",
       "      <td>0.000000</td>\n",
       "      <td>NaN</td>\n",
       "      <td>NaN</td>\n",
       "    </tr>\n",
       "    <tr>\n",
       "      <th>25%</th>\n",
       "      <td>NaN</td>\n",
       "      <td>NaN</td>\n",
       "      <td>NaN</td>\n",
       "      <td>1.000000</td>\n",
       "      <td>NaN</td>\n",
       "      <td>NaN</td>\n",
       "    </tr>\n",
       "    <tr>\n",
       "      <th>50%</th>\n",
       "      <td>NaN</td>\n",
       "      <td>NaN</td>\n",
       "      <td>NaN</td>\n",
       "      <td>2.000000</td>\n",
       "      <td>NaN</td>\n",
       "      <td>NaN</td>\n",
       "    </tr>\n",
       "    <tr>\n",
       "      <th>75%</th>\n",
       "      <td>NaN</td>\n",
       "      <td>NaN</td>\n",
       "      <td>NaN</td>\n",
       "      <td>3.000000</td>\n",
       "      <td>NaN</td>\n",
       "      <td>NaN</td>\n",
       "    </tr>\n",
       "    <tr>\n",
       "      <th>max</th>\n",
       "      <td>NaN</td>\n",
       "      <td>NaN</td>\n",
       "      <td>NaN</td>\n",
       "      <td>46.000000</td>\n",
       "      <td>NaN</td>\n",
       "      <td>NaN</td>\n",
       "    </tr>\n",
       "  </tbody>\n",
       "</table>\n",
       "</div>"
      ],
      "text/plain": [
       "         시설종류 관할경찰서명 CCTV설치여부      CCTV설치대수  제공기관명 보호구역도로폭\n",
       "count   15056  15056    15056  11682.000000  15056   10684\n",
       "unique     10    262        2           NaN    225     528\n",
       "top      초등학교  서부경찰서        Y           NaN   경상남도       6\n",
       "freq     6965    299    11687           NaN    759    1600\n",
       "mean      NaN    NaN      NaN      2.586543    NaN     NaN\n",
       "std       NaN    NaN      NaN      2.937831    NaN     NaN\n",
       "min       NaN    NaN      NaN      0.000000    NaN     NaN\n",
       "25%       NaN    NaN      NaN      1.000000    NaN     NaN\n",
       "50%       NaN    NaN      NaN      2.000000    NaN     NaN\n",
       "75%       NaN    NaN      NaN      3.000000    NaN     NaN\n",
       "max       NaN    NaN      NaN     46.000000    NaN     NaN"
      ]
     },
     "execution_count": 25,
     "metadata": {},
     "output_type": "execute_result"
    }
   ],
   "source": [
    "data = data[comlumn_selection]\n",
    "#print(data.columns)\n",
    "#print(data.dtypes)\n",
    "data['시설종류'] = data['시설종류'].astype('category')\n",
    "data['관할경찰서명'] = data['관할경찰서명'].astype('category')\n",
    "data.describe(include='all')"
   ]
  },
  {
   "cell_type": "code",
   "execution_count": 26,
   "id": "24115d50",
   "metadata": {
    "scrolled": true
   },
   "outputs": [
    {
     "name": "stdout",
     "output_type": "stream",
     "text": [
      "시설종류 False\n",
      "관할경찰서명 False\n",
      "CCTV설치여부 False\n",
      "CCTV설치대수 True\n",
      "False    11682\n",
      "True      3374\n",
      "Name: CCTV설치대수, dtype: int64\n",
      "제공기관명 False\n",
      "보호구역도로폭 True\n",
      "False    10684\n",
      "True      4372\n",
      "Name: 보호구역도로폭, dtype: int64\n"
     ]
    }
   ],
   "source": [
    "# 결측치 확인\n",
    "#print(data.shape)\n",
    "#print(data.describe(include='all'))\n",
    "\n",
    "for e in data :\n",
    "    print(e,data[e].hasnans)\n",
    "    if data[e].hasnans == True :\n",
    "        print(data[e].isna().value_counts())"
   ]
  },
  {
   "cell_type": "code",
   "execution_count": 46,
   "id": "43215263",
   "metadata": {
    "scrolled": true
   },
   "outputs": [
    {
     "name": "stdout",
     "output_type": "stream",
     "text": [
      "False    10684\n",
      "True      4372\n",
      "Name: 보호구역도로폭, dtype: int64\n",
      "False    10684\n",
      "True      4372\n",
      "Name: 보호구역도로폭, dtype: int64\n"
     ]
    }
   ],
   "source": [
    "def myfn1(x) :\n",
    "    if type(x) == type(' '):\n",
    "        if '~' in x :\n",
    "            m = np.array(x.split('~')).astype(np.float64).mean()\n",
    "            return str(m)\n",
    "# 도로폭 : 오류치 처리\n",
    "# 숫자~숫자 형태의 문자열 --> 평균치 np.float64값으로 대체\n",
    "#print(data['보호구역도로폭'].isna().value_counts())\n",
    "\n",
    "data['보호구역도로폭'].apply(myfn1)\n",
    "#print(data['보호구역도로폭'])\n",
    "print(data['보호구역도로폭'].isna().value_counts())\n",
    "y = y.astype(np.float64)\n",
    "y = y.replace(np.NaN,y.mean())\n",
    "#print(y.isna.value_counts())\n",
    "data['도로구역도로폭'] = y\n"
   ]
  },
  {
   "cell_type": "markdown",
   "id": "2d94c273",
   "metadata": {},
   "source": [
    "### 시설종류\n",
    "* dtype : category\n",
    "* value :\n",
    "* 결측치 없음\n",
    "### 관할경찰서명\n",
    "* dtype : object\n",
    "* 결측치 없음\n",
    "### CCTV 설치여부\n",
    "* dtype : category\n",
    "* value: 'Y', 'N'\n",
    "\n",
    "### CCTV 설치대수\n",
    "* dtype: np.int64\n",
    "* min/ max : 0/ \n",
    "* 결측치 (개, 처리후 결측치 없음)\n",
    "    CCTV 설치 여부 'Y' --> 1\n",
    "    CCTv 설치 여부 'N' --> 0\n",
    "\n"
   ]
  },
  {
   "cell_type": "code",
   "execution_count": 53,
   "id": "8d1a675e",
   "metadata": {},
   "outputs": [
    {
     "data": {
      "text/plain": [
       "시설종류\n",
       "국제학교             3.0\n",
       "대안학교             0.0\n",
       "어린이집          3881.0\n",
       "외국인교육기관          0.0\n",
       "외국인학교            8.0\n",
       "유치원           6041.0\n",
       "초등학교         19937.0\n",
       "초등학교+어린이집       39.0\n",
       "특수학교           243.0\n",
       "학원              64.0\n",
       "Name: CCTV설치대수, dtype: float64"
      ]
     },
     "execution_count": 53,
     "metadata": {},
     "output_type": "execute_result"
    }
   ],
   "source": [
    "g1 = data.groupby('시설종류')\n",
    "#g1.count()\n",
    "g1['CCTV설치대수'].sum()"
   ]
  },
  {
   "cell_type": "code",
   "execution_count": 9,
   "id": "8ce44f83",
   "metadata": {},
   "outputs": [
    {
     "name": "stdout",
     "output_type": "stream",
     "text": [
      "   a  b\n",
      "0  1  5\n",
      "1  1  6\n",
      "2  2  5\n",
      "3  2  6\n",
      "***********\n",
      "   a  b\n",
      "0  1  5\n",
      "1  1  6\n",
      "**********\n",
      "   a    b\n",
      "0  1    5\n",
      "1  1  100\n",
      "2  2    5\n",
      "3  2    6\n"
     ]
    }
   ],
   "source": [
    "df_t = pd.DataFrame({'a' : [1,1,2,2], 'b' : [5,6,5,6]})\n",
    "print(df_t)\n",
    "f1  = df_t['a']==1 \n",
    "print('***********')\n",
    "print(df_t.loc[f1,:]) # a의 값이 1인값\n",
    "df_t.loc[f1,'b'] = df_t.loc[f1,'b'].replace(6,100) # a의 값이 1인값들중에 b의 값이 6인값을 100을 바꾸기\n",
    "print('**********')\n",
    "print(df_t)"
   ]
  }
 ],
 "metadata": {
  "kernelspec": {
   "display_name": "Python 3 (ipykernel)",
   "language": "python",
   "name": "python3"
  },
  "language_info": {
   "codemirror_mode": {
    "name": "ipython",
    "version": 3
   },
   "file_extension": ".py",
   "mimetype": "text/x-python",
   "name": "python",
   "nbconvert_exporter": "python",
   "pygments_lexer": "ipython3",
   "version": "3.10.9"
  }
 },
 "nbformat": 4,
 "nbformat_minor": 5
}
