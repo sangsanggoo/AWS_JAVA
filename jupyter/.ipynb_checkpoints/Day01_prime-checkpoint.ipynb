{
 "cells": [
  {
   "cell_type": "code",
   "execution_count": 7,
   "id": "d289d61f",
   "metadata": {},
   "outputs": [
    {
     "name": "stdout",
     "output_type": "stream",
     "text": [
      "29 은 소수입니다.\n"
     ]
    }
   ],
   "source": [
    "# 솟수 : 1과 자기자신으로만 나누어 떨어지는 수 ex)2, 3, 5, 7, 11\n",
    "n = 29\n",
    "count = 0;\n",
    "for i in range(2,n) :\n",
    "    if n%i == 0 :\n",
    "        count = count + 1;\n",
    "\n",
    "if count>0 :\n",
    "    print(n,'은 소수가아닙니다.')\n",
    "else :\n",
    "    print(n,'은 소수입니다.')"
   ]
  },
  {
   "cell_type": "code",
   "execution_count": 4,
   "id": "75629f26",
   "metadata": {},
   "outputs": [
    {
     "name": "stdout",
     "output_type": "stream",
     "text": [
      "[2, 3, 5, 7, 11, 13, 17, 19, 23, 29, 31, 37, 41, 43, 47, 53, 59, 61, 67, 71, 73, 79, 83, 89, 97, 101, 103, 107, 109, 113, 127, 131, 137, 139, 149, 151, 157, 163, 167, 173, 179, 181, 191, 193, 197, 199, 211, 223, 227, 229, 233, 239, 241, 251, 257, 263, 269, 271, 277, 281, 283, 293, 307, 311, 313, 317, 331, 337, 347, 349, 353, 359, 367, 373, 379, 383, 389, 397, 401, 409, 419, 421, 431, 433, 439, 443, 449, 457, 461, 463, 467, 479, 487, 491, 499, 503, 509, 521, 523, 541, 547, 557, 563, 569, 571, 577, 587, 593, 599, 601, 607, 613, 617, 619, 631, 641, 643, 647, 653, 659, 661, 673, 677, 683, 691, 701, 709, 719, 727, 733, 739, 743, 751, 757, 761, 769, 773, 787, 797, 809, 811, 821, 823, 827, 829, 839, 853, 857, 859, 863, 877, 881, 883, 887, 907, 911, 919, 929, 937, 941, 947, 953, 967, 971, 977, 983, 991, 997]\n"
     ]
    }
   ],
   "source": [
    "# 1000 아래 모든 솟수를 list_prime에 넣기\n",
    "prime_list=[]\n",
    "for n in range(2,1000):\n",
    "    flag = 0 \n",
    "    for i in range(2,n):\n",
    "        if n%i ==0:\n",
    "           # print('Not prime')\n",
    "            flag =1\n",
    "            break;\n",
    "            \n",
    "    if flag ==0:\n",
    "        prime_list.append(n)\n",
    "        #print('prime',n)\n",
    "print(prime_list)"
   ]
  }
 ],
 "metadata": {
  "kernelspec": {
   "display_name": "Python 3 (ipykernel)",
   "language": "python",
   "name": "python3"
  },
  "language_info": {
   "codemirror_mode": {
    "name": "ipython",
    "version": 3
   },
   "file_extension": ".py",
   "mimetype": "text/x-python",
   "name": "python",
   "nbconvert_exporter": "python",
   "pygments_lexer": "ipython3",
   "version": "3.10.9"
  }
 },
 "nbformat": 4,
 "nbformat_minor": 5
}
