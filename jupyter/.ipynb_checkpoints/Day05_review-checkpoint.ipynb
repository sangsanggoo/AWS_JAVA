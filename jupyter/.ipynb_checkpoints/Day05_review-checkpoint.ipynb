{
 "cells": [
  {
   "cell_type": "code",
   "execution_count": 5,
   "id": "fc00dfb9",
   "metadata": {},
   "outputs": [
    {
     "name": "stdout",
     "output_type": "stream",
     "text": [
      "datatype:list\n"
     ]
    }
   ],
   "source": [
    "# int, float, bool, str\n",
    "a = 10.5\n",
    "a = [ 20.5, '10.5']\n",
    "if isinstance(a, type([])): #데이터 타입이 리스트인가요?\n",
    "    print('datatype:list')\n",
    "elif isinstance(a,type('')): #데이터 타입이 스티링인가요?\n",
    "    print('datatype:str')\n",
    "# list, tuple, set ,dictinoary\n",
    "\n"
   ]
  },
  {
   "cell_type": "code",
   "execution_count": 8,
   "id": "9b5c432b",
   "metadata": {},
   "outputs": [
    {
     "name": "stdout",
     "output_type": "stream",
     "text": [
      "False\n"
     ]
    }
   ],
   "source": [
    "# if : -  else:\n",
    "# if : - elif: - else:\n",
    "\n",
    "if []:\n",
    "    print('True')\n",
    "else :\n",
    "    print('False') #0, 비어있는 문자열 / list\n"
   ]
  },
  {
   "cell_type": "code",
   "execution_count": 12,
   "id": "e95bf150",
   "metadata": {},
   "outputs": [
    {
     "name": "stdout",
     "output_type": "stream",
     "text": [
      "0 a\n",
      "1 b\n",
      "2 c\n",
      "3 d\n",
      "4 e\n",
      "['a']\n"
     ]
    }
   ],
   "source": [
    "# for -range() ?list , enumerate()\n",
    "lista= list('abcde')\n",
    "for i, c in enumerate(lista) :\n",
    "    print(i,c)\n",
    "\n",
    "#while - 조건\n",
    "while len(lista)>1:\n",
    "    lista.remove(lista[-1])\n",
    "print(lista)"
   ]
  },
  {
   "cell_type": "code",
   "execution_count": 32,
   "id": "54787211",
   "metadata": {},
   "outputs": [
    {
     "name": "stdout",
     "output_type": "stream",
     "text": [
      "myfunction1 10\n",
      "100\n",
      "mymethod1\n",
      "const\n",
      "--------\n",
      "myclasss\n",
      "--------\n",
      "dest\n"
     ]
    }
   ],
   "source": [
    "# 함수,클래스\n",
    "def myfunction1(n):\n",
    "    print('myfunction1',n)\n",
    "    return 10*n\n",
    "    \n",
    "class myclass:\n",
    "    def mymethod1(self): #정의할때는 self를 해줘야함\n",
    "        print('mymethod1')\n",
    "\n",
    "class myclass2(myclass): #t상속\n",
    "    def __init__(self): #기본생성자\n",
    "        print('const')\n",
    "    def __del__(self) : #없앨때 실행\n",
    "        print('dest')\n",
    "    def __str__(self): #tostring 같은 느낌\n",
    "        return 'myclasss'\n",
    "        \n",
    "print(myfunction1(10))\n",
    "\n",
    "myclass.mymethod1(1)\n",
    "\n",
    "x = myclass2()    # __init__  - const\n",
    "print('--------')\n",
    "print(x)          # __str__   - myclassss\n",
    "print('--------')\n",
    "del x            # __del__   -dest"
   ]
  },
  {
   "cell_type": "code",
   "execution_count": 41,
   "id": "878938da",
   "metadata": {},
   "outputs": [],
   "source": [
    "with open('lott.csv') as f:\n",
    "    for line in f:\n",
    "        pass\n",
    "        #print(line[:])\n",
    "\n",
    "# file wirte\n",
    "with open('test.txt','w')as f:\n",
    "    for i in range(3,10):\n",
    "        f.write('test string {}\\n'.format(i))"
   ]
  },
  {
   "cell_type": "code",
   "execution_count": null,
   "id": "e7be7fd2",
   "metadata": {},
   "outputs": [],
   "source": [
    "#dictionary : key -value\n",
    "dict - {'a'= 1, 'b':2, 'c':3}\n",
    "key_list list('xyz')\n",
    "value_list = [10,20,30]\n"
   ]
  }
 ],
 "metadata": {
  "kernelspec": {
   "display_name": "Python 3 (ipykernel)",
   "language": "python",
   "name": "python3"
  },
  "language_info": {
   "codemirror_mode": {
    "name": "ipython",
    "version": 3
   },
   "file_extension": ".py",
   "mimetype": "text/x-python",
   "name": "python",
   "nbconvert_exporter": "python",
   "pygments_lexer": "ipython3",
   "version": "3.10.9"
  }
 },
 "nbformat": 4,
 "nbformat_minor": 5
}
