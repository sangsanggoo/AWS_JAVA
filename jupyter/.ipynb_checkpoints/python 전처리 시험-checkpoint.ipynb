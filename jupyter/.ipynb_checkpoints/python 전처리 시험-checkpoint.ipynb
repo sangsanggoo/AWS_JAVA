{
 "cells": [
  {
   "cell_type": "code",
   "execution_count": 84,
   "id": "76eb0f97",
   "metadata": {},
   "outputs": [
    {
     "name": "stdout",
     "output_type": "stream",
     "text": [
      "     index petal_length petal_width sepal_length sepal_width           class\n",
      "0        0          4.9         3.0          1.4         0.2     Iris-setosa\n",
      "1        1          4.7         3.2          1.3         0.2     Iris-setosa\n",
      "2        2          4.6         3.1          1.5         0.2     Iris-setosa\n",
      "3        3          5.0         3.6          1.4         0.2     Iris-setosa\n",
      "4        4          5.4         3.9          1.7         0.4     Iris-setosa\n",
      "..     ...          ...         ...          ...         ...             ...\n",
      "148    148          5.9         3.0          5.1         1.8  Iris-virginica\n",
      "149      0          102         103          100         101             104\n",
      "150      1          107         108          105         106             109\n",
      "151      2          112         113          110         111             114\n",
      "152      3          117         118          115         116             119\n",
      "\n",
      "[153 rows x 6 columns]\n"
     ]
    }
   ],
   "source": [
    "import numpy as np\n",
    "import pandas as pd\n",
    "import random\n",
    "\n",
    "random.seed(123)\n",
    "pd_iris = pd.read_csv('https://archive.ics.uci.edu/ml/machine-learning-databases/iris/iris.data')\n",
    "pd_iris.columns = ['petal_length', 'petal_width', 'sepal_length', 'sepal_width', 'class']\n",
    "rand_axis0 = [random.randint(0,150) for _ in range(5)]\n",
    "rand_axis1 = [random.randint(0, 4) for _ in range(5)]\n",
    "pd_iris.iloc[rand_axis0, rand_axis1] = np.NaN\n",
    "rand_axis0 = [random.randint(0,150) for _ in range(5)]\n",
    "rand_axis1 = [random.randint(0, 4) for _ in range(5)]\n",
    "pd_iris.iloc[rand_axis0, rand_axis1] = 123.4 + random.randint(0,4)/10\n",
    "df1 = pd.DataFrame(np.arange(100, 120).reshape(4,5), dtype='str')\n",
    "df1.columns= ['sepal_length', 'sepal_width', 'petal_length', 'petal_width', 'class']\n",
    "pd_iris = pd.concat([pd_iris,df1])\n",
    "pd_iris = pd_iris.reset_index()\n",
    "print(pd_iris)\n",
    "\n"
   ]
  }
 ],
 "metadata": {
  "kernelspec": {
   "display_name": "Python 3 (ipykernel)",
   "language": "python",
   "name": "python3"
  },
  "language_info": {
   "codemirror_mode": {
    "name": "ipython",
    "version": 3
   },
   "file_extension": ".py",
   "mimetype": "text/x-python",
   "name": "python",
   "nbconvert_exporter": "python",
   "pygments_lexer": "ipython3",
   "version": "3.10.9"
  }
 },
 "nbformat": 4,
 "nbformat_minor": 5
}
