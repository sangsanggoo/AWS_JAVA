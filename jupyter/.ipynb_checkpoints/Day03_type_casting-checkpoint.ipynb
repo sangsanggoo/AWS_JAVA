{
 "cells": [
  {
   "cell_type": "code",
   "execution_count": 13,
   "id": "0d70de3e",
   "metadata": {},
   "outputs": [
    {
     "name": "stdout",
     "output_type": "stream",
     "text": [
      "abc\n",
      "<class 'str'>\n",
      "-2\n",
      "<class 'int'>\n"
     ]
    }
   ],
   "source": [
    "a = 'abc' #문자는 숫자로 바꿀수 없음\n",
    "print(a)\n",
    "print(type(a))\n",
    "x = []\n",
    "try :\n",
    "    #b = float(a) #문자는 숫자로 바꿀수 없기 때문에 예외처리\n",
    "    print(x[0])\n",
    "except ValueError: #에러종류에 따라 실행 ValueError값 에러\n",
    "    b = -1 \n",
    "except IndexError: # Index값 에러\n",
    "    b = -2 \n",
    "\n",
    "print(b)\n",
    "print(type(b))"
   ]
  }
 ],
 "metadata": {
  "kernelspec": {
   "display_name": "Python 3 (ipykernel)",
   "language": "python",
   "name": "python3"
  },
  "language_info": {
   "codemirror_mode": {
    "name": "ipython",
    "version": 3
   },
   "file_extension": ".py",
   "mimetype": "text/x-python",
   "name": "python",
   "nbconvert_exporter": "python",
   "pygments_lexer": "ipython3",
   "version": "3.10.9"
  }
 },
 "nbformat": 4,
 "nbformat_minor": 5
}
