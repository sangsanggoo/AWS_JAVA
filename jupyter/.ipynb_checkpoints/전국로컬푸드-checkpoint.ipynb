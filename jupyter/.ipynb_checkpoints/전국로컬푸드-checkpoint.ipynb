{
 "cells": [
  {
   "cell_type": "markdown",
   "id": "d33a7152",
   "metadata": {},
   "source": [
    "### 전국로컬푸드인증정보표준데이터\n",
    "* 인기품목 top10(품목별 카운트)\n",
    "* dictionary 작성 : {군단위 지역명: [품목명]}\n",
    "* dictionary 작성 : {품목 : [군단위 지역명]}\n",
    "* jupyter note 업로드 : 이름_로컬푸드jpynb\n",
    "* 192.168.2.101:8000/upload\n"
   ]
  },
  {
   "cell_type": "code",
   "execution_count": 1,
   "id": "f58ab87c",
   "metadata": {},
   "outputs": [],
   "source": [
    "import numpy as np\n",
    "def my_split1(s):\n",
    "    block_start = False\n",
    "    start_index = 0\n",
    "    ret_list=[]\n",
    "    for i, c in enumerate(s):\n",
    "        if block_start==False:\n",
    "            if c=='+':\n",
    "                ret_list.append(s[start_index:i])\n",
    "                start_index=i+1\n",
    "            elif c=='\"':\n",
    "                block_start=True\n",
    "                start_index = i\n",
    "        else:\n",
    "            if c=='\"':\n",
    "                block_start=False\n",
    "    if s[-1]!='+':\n",
    "        ret_list.append(s[start_index:])\n",
    "    return ret_list\n",
    "def my_split2(s):\n",
    "    block_start = False\n",
    "    start_index = 0\n",
    "    ret_list=[]\n",
    "    for i, c in enumerate(s):\n",
    "        if block_start==False:\n",
    "            if c==',':\n",
    "                ret_list.append(s[start_index:i])\n",
    "                start_index=i+1\n",
    "            elif c=='\"':\n",
    "                block_start=True\n",
    "                start_index = i\n",
    "        else:\n",
    "            if c=='\"':\n",
    "                block_start=False\n",
    "    if s[-1]!=',':\n",
    "        ret_list.append(s[start_index:])\n",
    "    return ret_list\n",
    "def my_split3(s): # 외 없애기\n",
    "    for i in s :\n",
    "        if('외' in s) :\n",
    "            print('외가 있음')\n",
    "        else : \n",
    "            print('외가 없음')"
   ]
  },
  {
   "cell_type": "code",
   "execution_count": 2,
   "id": "3f9c6b4b",
   "metadata": {},
   "outputs": [
    {
     "name": "stdout",
     "output_type": "stream",
     "text": [
      "대파 499 개\n",
      "상추 460 개\n",
      "배추 416 개\n",
      "감자 399 개\n",
      "무 362 개\n",
      "고구마 342 개\n",
      "고추 289 개\n",
      "쪽파 287 개\n",
      "시금치 280 개\n",
      "부추 264 개\n"
     ]
    }
   ],
   "source": [
    "data_list = []\n",
    "data_list_name = []\n",
    "data_list_name_noplus = [] # 품목 + 있는거를 리스트로 바꾸기\n",
    "data_list_name_noplus_list = [] # 품목 2개이상 있는거 랑 한개있는거 하나로 리스트화\n",
    "data_list_name_noplus_set = ()\n",
    "data_list_name_noplus_set_list  = [] # 중복 제거한것을 다시 list화 시킨것\n",
    "data_list_name_noplus_set_list_count = [] #중복 제거한거 갯수 넣을용\n",
    "data_list_name_noplus_count_rank = [] \n",
    "data_list_name_noplus_count_rank_10 = [] # 갯수 상위 10등\n",
    "data_list_name_noplus_nodot = [] #주소가 ''인 품목들 없앤거\n",
    "data_list_country = []\n",
    "data_list_country_nodot = [] #주소가 ''인 주소 없애기\n",
    "with open('전국로컬푸드인증정보표준데이터.csv') as f :\n",
    "    for line in f :\n",
    "        data_list.append(my_split2(line))\n",
    "    for i in data_list[1:] :\n",
    "        data_list_country.append(i[4])\n",
    "        data_list_name.append(i[8])  #품목명 (+포함)\n",
    "    for i in data_list_name :\n",
    "        if '+' in i :\n",
    "            data_list_name_noplus.append(my_split1(i))\n",
    "        elif ',' in i :\n",
    "            data_list_name_noplus.append(my_split2(i))\n",
    "        else :\n",
    "            data_list_name_noplus.append(i)\n",
    "            \n",
    "    for i in data_list_name_noplus :\n",
    "        if type(i) == str :\n",
    "            data_list_name_noplus_list.append(i)\n",
    "        elif type(i) == list :\n",
    "            for e in i :\n",
    "                data_list_name_noplus_list.append(e)\n",
    "    data_list_name_noplus_set=set(data_list_name_noplus_list)\n",
    "    for i in data_list_name_noplus_set :\n",
    "        data_list_name_noplus_count_rank.append(data_list_name_noplus_list.count(i))\n",
    "        data_list_name_noplus_set_list.append(i)\n",
    "        data_list_name_noplus_set_list_count.append(data_list_name_noplus_list.count(i))\n",
    "    \n",
    "    data_list_name_noplus_count_rank_10=(sorted(data_list_name_noplus_count_rank[:],reverse=True))[:10] # 품목 상위 10개 판매개수\n",
    "    for i in data_list_name_noplus_count_rank_10 :\n",
    "        print(data_list_name_noplus_set_list[data_list_name_noplus_set_list_count.index(i)],i,'개')\n",
    "    for n,i in enumerate(data_list_country) :\n",
    "        if i!='' :\n",
    "            data_list_country_nodot.append((i.split(' '))[1])\n",
    "            data_list_name_noplus_nodot.append(data_list_name_noplus[n])\n",
    "#d=dict(zip(data_list_country_nodot,data_list_name_noplus_nodot))\n",
    "#print(d)\n",
    "data_list_name2_nodot_setlist = []\n",
    "\n"
   ]
  },
  {
   "cell_type": "code",
   "execution_count": null,
   "id": "4dbf610d",
   "metadata": {},
   "outputs": [
    {
     "name": "stdout",
     "output_type": "stream",
     "text": [
      "['오산시', '수원시', '화성시', '원주시', '옥천군', '완주군', '함양군', '군산시', '아산시']\n"
     ]
    }
   ],
   "source": [
    "for n,i in enumerate(data_list_country_nodot) :\n",
    "    if i == '옥천군안내면' :\n",
    "        data_list_country_nodot[n] = '옥천군' \n",
    "data_list_country_nodot_setlist = list(set(data_list_country_nodot))\n",
    "data_list_name_nodot_setlist = []\n",
    "for i in range(len(data_list_country_nodot_setlist)) :\n",
    "    data_list_name_nodot_setlist.append([]) #리스트 안에 도시 개수만큼 리스트 만들기\n",
    "#print(data_list_name_nodot_setlist)\n",
    "#print(data_list_country_nodot_setlist)\n",
    "for n,i in enumerate(data_list_country_nodot) :\n",
    "    if type(data_list_name_noplus_nodot[n]) == list:\n",
    "        for f in data_list_name_noplus_nodot[n] :\n",
    "            data_list_name_nodot_setlist[data_list_country_nodot_setlist.index(i)].append(f)\n",
    "    else :\n",
    "        data_list_name_nodot_setlist[data_list_country_nodot_setlist.index(i)].append(data_list_name_noplus_nodot[n])\n",
    "for i,n in enumerate(data_list_name_nodot_setlist) :\n",
    "    data_list_name_nodot_setlist[i] = set(n)\n",
    "d=dict(zip(data_list_country_nodot_setlist,data_list_name_nodot_setlist))\n",
    "#d 딕셔너리화 시킨거임\n",
    "a = str\n",
    "print(data_list_country_nodot_setlist)\n",
    "a = input('지역명 : ')\n",
    "print(d[a])\n"
   ]
  },
  {
   "cell_type": "code",
   "execution_count": null,
   "id": "da2167d9",
   "metadata": {},
   "outputs": [],
   "source": [
    "for i in range(len(data_list_name_noplus_set_list)) :\n",
    "    data_list_name2_nodot_setlist.append([]) #리스트 안에 도시 개수만큼 리스트 만들기\n",
    "print(data_list_name2_nodot_setlist)\n",
    "print(data_list_name_noplus_set_list)\n",
    "e=dict(zip(data_list_name_nodot_setlist,data_list_country_nodot_setlist))\n",
    "b = str\n",
    "print(data_list_country_nodot_setlist)\n",
    "b = input('지역명 : ')\n",
    "print(e[b])\n",
    "# 포기.."
   ]
  }
 ],
 "metadata": {
  "kernelspec": {
   "display_name": "Python 3 (ipykernel)",
   "language": "python",
   "name": "python3"
  },
  "language_info": {
   "codemirror_mode": {
    "name": "ipython",
    "version": 3
   },
   "file_extension": ".py",
   "mimetype": "text/x-python",
   "name": "python",
   "nbconvert_exporter": "python",
   "pygments_lexer": "ipython3",
   "version": "3.10.9"
  }
 },
 "nbformat": 4,
 "nbformat_minor": 5
}
