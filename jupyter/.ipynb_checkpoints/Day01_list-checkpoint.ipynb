{
 "cells": [
  {
   "cell_type": "code",
   "execution_count": 8,
   "id": "2e35f1c9",
   "metadata": {},
   "outputs": [
    {
     "name": "stdout",
     "output_type": "stream",
     "text": [
      "[0, 1, 2, 3, 4, 5, 6, 7, 8, 9]\n",
      "True\n",
      "False\n",
      "[0, 1, 2, 3, 4, 5, 6, 7, 8, 9, 100, 101, 102, 103, 104, 105, 106, 107, 108, 109]\n"
     ]
    },
    {
     "data": {
      "text/plain": [
       "[0, 1, 2, 3, 4, 5, 6, 7, 8, 9, 0, 1, 2, 3, 4, 5, 6, 7, 8, 9]"
      ]
     },
     "execution_count": 8,
     "metadata": {},
     "output_type": "execute_result"
    }
   ],
   "source": [
    "list_a = [i for i in range(10)]\n",
    "list_b = [i for i in range(100,110)]\n",
    "print(list_a)\n",
    "\n",
    "# in : 리스트에 값이 있는지 없는지 확인하는것 있으면 true 없으면 false\n",
    "# not in : in과 반대 의미\n",
    "print(5 in list_a)\n",
    "\n",
    "if 100 in list_a :\n",
    "    print('True')\n",
    "else :\n",
    "    print('False')\n",
    "\n",
    "# list+list : 두개 이어 붙이기\n",
    "print(list_a+list_b)\n",
    "\n",
    "#* 리스트 원하는 횟수 만큼 곱하기\n",
    "list_a *2    # 2*list_a 와 같음\n",
    "\n",
    "\n",
    "\n"
   ]
  },
  {
   "cell_type": "code",
   "execution_count": 33,
   "id": "740f2039",
   "metadata": {
    "scrolled": true
   },
   "outputs": [
    {
     "name": "stdout",
     "output_type": "stream",
     "text": [
      "['a', 'b', 'c', 'd', 'e', 'f', 'g', 'h', 'i', 'c', 'j', 'k', 'l', 'm', 'n']\n",
      "d\n",
      "['d', 'e', 'f']\n",
      "['d', 'f']\n",
      "15\n",
      "a\n",
      "n\n",
      "['a', 'b', 'c', 'd', 'e', 'f', 'g', 'h', 'i', 'c', 'j', 'k', 'l', 'm', 'n']\n",
      "count: 2\n"
     ]
    }
   ],
   "source": [
    "list_d = list('abcdefghicjklmn')\n",
    "print(list_d)\n",
    "print(list_d[3]) #인덱스가 3인값\n",
    "print(list_d[3:6]) #인덱스가 3에서 5까지 값\n",
    "print(list_d[3:6:2]) #인덱스 3에서 5까지 값인데 2칸씩 증가\n",
    "print(len(list_d)) #길이\n",
    "print(min(list_d)) #최소값\n",
    "print(max(list_d)) #최대값\n",
    "c_index = list_d.index('c',3,10) #c가 몇번째 있는지 찾기  (찾을거 , 찾을 시작 위치 ,끝나는 위치(포함 x))\n",
    "list_d[c_index] = 'c' #c찾아서 c로 바꾸기\n",
    "print(list_d)\n",
    "print('count:',list_d.count('c')) #a의 갯수 찾기\n"
   ]
  },
  {
   "cell_type": "code",
   "execution_count": 51,
   "id": "3552d08b",
   "metadata": {},
   "outputs": [
    {
     "name": "stdout",
     "output_type": "stream",
     "text": [
      "r 14\n",
      "t 25\n",
      "o 15\n",
      "i 18\n",
      "n 20\n",
      "W 1\n",
      "l 9\n",
      "g 4\n",
      "P 4\n",
      "y 8\n",
      "w 1\n",
      "h 14\n",
      "L 1\n",
      "e 29\n",
      "T 1\n",
      "p 2\n",
      "c 10\n",
      "s 18\n",
      "m 6\n",
      "x 2\n",
      "f 4\n",
      "b 7\n",
      "R 1\n",
      "u 6\n",
      "a 19\n",
      "d 11\n",
      "I 1\n"
     ]
    }
   ],
   "source": [
    "s = 'While The Python Language Reference describes the exact syntax and semantics of the Python language, this library reference manual describes the standard library that is distributed with Python. It also describes some of the optional components that are commonly included in Python distributions.'\n",
    "#print(s)\n",
    "list_s = list(s)\n",
    "set_s = set(list_s)\n",
    "#print(set_s)\n",
    "exclude_list = [',','.',' '] # , . (띄어쓰기) 없애기\n",
    "for i in set_s :\n",
    "    if i not in exclude_list :\n",
    "        print(i,list_s.count(i))"
   ]
  },
  {
   "cell_type": "code",
   "execution_count": 71,
   "id": "e970ac08",
   "metadata": {},
   "outputs": [
    {
     "name": "stdout",
     "output_type": "stream",
     "text": [
      "[1, 2, 3]\n",
      "['a', 'b', 'c']\n",
      "{'a': 1, 'b': 2, 'c': 3}\n",
      "{'a': 1, 'b': 2, 'c': 3}\n",
      "dict_items([('a', 1), ('b', 2), ('c', 3)])\n",
      "{'a': 1, 'b': 2, 'c': 3}\n",
      "3\n",
      "3\n",
      "None\n",
      "{'a': 1, 'b': 2, 'c': 3, 'y': 15}\n"
     ]
    }
   ],
   "source": [
    "list_a = [1,2,3,]\n",
    "list_b = list('abc')\n",
    "d1 = {'a' : 1 , 'b': 2 ,'c':3}\n",
    "print(list_a)\n",
    "print(list_b)\n",
    "print(d1)\n",
    "\n",
    "d2 = dict(zip(list_b,list_a)) # b:a로 만들어 준다\n",
    "print(d2)\n",
    "print(d2.items())\n",
    "\n",
    "d3 = dict([('a', 1), ('b', 2), ('c', 3)])\n",
    "print(d3)\n",
    "\n",
    "print(d3['c']) #value값을 찾기\n",
    "print(d3.get('c'))\n",
    "print(d3.get('x'))\n",
    "d3['y'] = 15 #새로운 키값과 밸류값을 만들어주기\n",
    "print(d3)\n"
   ]
  },
  {
   "cell_type": "code",
   "execution_count": 75,
   "id": "c3ad5ee5",
   "metadata": {},
   "outputs": [
    {
     "name": "stdout",
     "output_type": "stream",
     "text": [
      "a 1\n",
      "b 2\n",
      "c 3\n",
      "y 15\n",
      "dict_keys(['a', 'b', 'c', 'y'])\n",
      "dict_values([1, 2, 3, 15])\n",
      "1\n",
      "2\n",
      "3\n",
      "15\n"
     ]
    }
   ],
   "source": [
    "for i in d3:\n",
    "    print(i,d3[i])\n",
    "\n",
    "print(d3.keys()) #key값들만 가져오기\n",
    "print(d3.values()) #value값들만 가져오기\n",
    "\n",
    "for i in d3.values(): #value값 순환시켜서 가져오기\n",
    "    print(i)"
   ]
  },
  {
   "cell_type": "code",
   "execution_count": 76,
   "id": "18ea7151",
   "metadata": {},
   "outputs": [
    {
     "name": "stdout",
     "output_type": "stream",
     "text": [
      "Help on class dict in module builtins:\n",
      "\n",
      "class dict(object)\n",
      " |  dict() -> new empty dictionary\n",
      " |  dict(mapping) -> new dictionary initialized from a mapping object's\n",
      " |      (key, value) pairs\n",
      " |  dict(iterable) -> new dictionary initialized as if via:\n",
      " |      d = {}\n",
      " |      for k, v in iterable:\n",
      " |          d[k] = v\n",
      " |  dict(**kwargs) -> new dictionary initialized with the name=value pairs\n",
      " |      in the keyword argument list.  For example:  dict(one=1, two=2)\n",
      " |  \n",
      " |  Built-in subclasses:\n",
      " |      StgDict\n",
      " |  \n",
      " |  Methods defined here:\n",
      " |  \n",
      " |  __contains__(self, key, /)\n",
      " |      True if the dictionary has the specified key, else False.\n",
      " |  \n",
      " |  __delitem__(self, key, /)\n",
      " |      Delete self[key].\n",
      " |  \n",
      " |  __eq__(self, value, /)\n",
      " |      Return self==value.\n",
      " |  \n",
      " |  __ge__(self, value, /)\n",
      " |      Return self>=value.\n",
      " |  \n",
      " |  __getattribute__(self, name, /)\n",
      " |      Return getattr(self, name).\n",
      " |  \n",
      " |  __getitem__(...)\n",
      " |      x.__getitem__(y) <==> x[y]\n",
      " |  \n",
      " |  __gt__(self, value, /)\n",
      " |      Return self>value.\n",
      " |  \n",
      " |  __init__(self, /, *args, **kwargs)\n",
      " |      Initialize self.  See help(type(self)) for accurate signature.\n",
      " |  \n",
      " |  __ior__(self, value, /)\n",
      " |      Return self|=value.\n",
      " |  \n",
      " |  __iter__(self, /)\n",
      " |      Implement iter(self).\n",
      " |  \n",
      " |  __le__(self, value, /)\n",
      " |      Return self<=value.\n",
      " |  \n",
      " |  __len__(self, /)\n",
      " |      Return len(self).\n",
      " |  \n",
      " |  __lt__(self, value, /)\n",
      " |      Return self<value.\n",
      " |  \n",
      " |  __ne__(self, value, /)\n",
      " |      Return self!=value.\n",
      " |  \n",
      " |  __or__(self, value, /)\n",
      " |      Return self|value.\n",
      " |  \n",
      " |  __repr__(self, /)\n",
      " |      Return repr(self).\n",
      " |  \n",
      " |  __reversed__(self, /)\n",
      " |      Return a reverse iterator over the dict keys.\n",
      " |  \n",
      " |  __ror__(self, value, /)\n",
      " |      Return value|self.\n",
      " |  \n",
      " |  __setitem__(self, key, value, /)\n",
      " |      Set self[key] to value.\n",
      " |  \n",
      " |  __sizeof__(...)\n",
      " |      D.__sizeof__() -> size of D in memory, in bytes\n",
      " |  \n",
      " |  clear(...)\n",
      " |      D.clear() -> None.  Remove all items from D.\n",
      " |  \n",
      " |  copy(...)\n",
      " |      D.copy() -> a shallow copy of D\n",
      " |  \n",
      " |  get(self, key, default=None, /)\n",
      " |      Return the value for key if key is in the dictionary, else default.\n",
      " |  \n",
      " |  items(...)\n",
      " |      D.items() -> a set-like object providing a view on D's items\n",
      " |  \n",
      " |  keys(...)\n",
      " |      D.keys() -> a set-like object providing a view on D's keys\n",
      " |  \n",
      " |  pop(...)\n",
      " |      D.pop(k[,d]) -> v, remove specified key and return the corresponding value.\n",
      " |      \n",
      " |      If the key is not found, return the default if given; otherwise,\n",
      " |      raise a KeyError.\n",
      " |  \n",
      " |  popitem(self, /)\n",
      " |      Remove and return a (key, value) pair as a 2-tuple.\n",
      " |      \n",
      " |      Pairs are returned in LIFO (last-in, first-out) order.\n",
      " |      Raises KeyError if the dict is empty.\n",
      " |  \n",
      " |  setdefault(self, key, default=None, /)\n",
      " |      Insert key with a value of default if key is not in the dictionary.\n",
      " |      \n",
      " |      Return the value for key if key is in the dictionary, else default.\n",
      " |  \n",
      " |  update(...)\n",
      " |      D.update([E, ]**F) -> None.  Update D from dict/iterable E and F.\n",
      " |      If E is present and has a .keys() method, then does:  for k in E: D[k] = E[k]\n",
      " |      If E is present and lacks a .keys() method, then does:  for k, v in E: D[k] = v\n",
      " |      In either case, this is followed by: for k in F:  D[k] = F[k]\n",
      " |  \n",
      " |  values(...)\n",
      " |      D.values() -> an object providing a view on D's values\n",
      " |  \n",
      " |  ----------------------------------------------------------------------\n",
      " |  Class methods defined here:\n",
      " |  \n",
      " |  __class_getitem__(...) from builtins.type\n",
      " |      See PEP 585\n",
      " |  \n",
      " |  fromkeys(iterable, value=None, /) from builtins.type\n",
      " |      Create a new dictionary with keys from iterable and values set to value.\n",
      " |  \n",
      " |  ----------------------------------------------------------------------\n",
      " |  Static methods defined here:\n",
      " |  \n",
      " |  __new__(*args, **kwargs) from builtins.type\n",
      " |      Create and return a new object.  See help(type) for accurate signature.\n",
      " |  \n",
      " |  ----------------------------------------------------------------------\n",
      " |  Data and other attributes defined here:\n",
      " |  \n",
      " |  __hash__ = None\n",
      "\n"
     ]
    }
   ],
   "source": [
    "help(dict)"
   ]
  }
 ],
 "metadata": {
  "kernelspec": {
   "display_name": "Python 3 (ipykernel)",
   "language": "python",
   "name": "python3"
  },
  "language_info": {
   "codemirror_mode": {
    "name": "ipython",
    "version": 3
   },
   "file_extension": ".py",
   "mimetype": "text/x-python",
   "name": "python",
   "nbconvert_exporter": "python",
   "pygments_lexer": "ipython3",
   "version": "3.10.9"
  }
 },
 "nbformat": 4,
 "nbformat_minor": 5
}
