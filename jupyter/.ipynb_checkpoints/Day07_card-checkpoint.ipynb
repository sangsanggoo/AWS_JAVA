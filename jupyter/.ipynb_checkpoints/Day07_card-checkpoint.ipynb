{
 "cells": [
  {
   "cell_type": "code",
   "execution_count": 2,
   "id": "b1953048",
   "metadata": {},
   "outputs": [
    {
     "name": "stdout",
     "output_type": "stream",
     "text": [
      "[5, 1, 6, 2, 4, 3]\n"
     ]
    }
   ],
   "source": [
    "import random\n",
    "\n",
    "lista=[1,2,3,4,5,6]\n",
    "random.shuffle(lista)\n",
    "print(lista)"
   ]
  },
  {
   "cell_type": "code",
   "execution_count": 15,
   "id": "f4016eb8",
   "metadata": {},
   "outputs": [
    {
     "name": "stdout",
     "output_type": "stream",
     "text": [
      "['Clover', 'Diamond', 'Heart', 'Spade']\n",
      "['Ace', '2', '3', '4', '5', '6', '7', '8', '9', '10', 'Jack', 'Queen', 'King']\n"
     ]
    }
   ],
   "source": [
    "suits=['Clover','Diamond','Heart','Spade']\n",
    "rank = [str(i) for i in range(2,11)]\n",
    "rank = ['Ace'] + rank + ['Jack','Queen','King']\n",
    "print(suits)\n",
    "print(rank)\n"
   ]
  },
  {
   "cell_type": "code",
   "execution_count": 211,
   "id": "db10465e",
   "metadata": {},
   "outputs": [
    {
     "name": "stdout",
     "output_type": "stream",
     "text": [
      "['Clover-Ace', 'Clover-2', 'Clover-3', 'Clover-4', 'Clover-5', 'Clover-6', 'Clover-7', 'Clover-8', 'Clover-9', 'Clover-10', 'Clover-Jack', 'Clover-Queen', 'Clover-King', 'Diamond-Ace', 'Diamond-2', 'Diamond-3', 'Diamond-4', 'Diamond-5', 'Diamond-6', 'Diamond-7', 'Diamond-8', 'Diamond-9', 'Diamond-10', 'Diamond-Jack', 'Diamond-Queen', 'Diamond-King', 'Heart-Ace', 'Heart-2', 'Heart-3', 'Heart-4', 'Heart-5', 'Heart-6', 'Heart-7', 'Heart-8', 'Heart-9', 'Heart-10', 'Heart-Jack', 'Heart-Queen', 'Heart-King', 'Spade-Ace', 'Spade-2', 'Spade-3', 'Spade-4', 'Spade-5', 'Spade-6', 'Spade-7', 'Spade-8', 'Spade-9', 'Spade-10', 'Spade-Jack', 'Spade-Queen', 'Spade-King']\n",
      "{'Clover-Ace': 1, 'Clover-2': 2, 'Clover-3': 3, 'Clover-4': 4, 'Clover-5': 5, 'Clover-6': 6, 'Clover-7': 7, 'Clover-8': 8, 'Clover-9': 9, 'Clover-10': 10, 'Clover-Jack': 10, 'Clover-Queen': 10, 'Clover-King': 10, 'Diamond-Ace': 1, 'Diamond-2': 2, 'Diamond-3': 3, 'Diamond-4': 4, 'Diamond-5': 5, 'Diamond-6': 6, 'Diamond-7': 7, 'Diamond-8': 8, 'Diamond-9': 9, 'Diamond-10': 10, 'Diamond-Jack': 10, 'Diamond-Queen': 10, 'Diamond-King': 10, 'Heart-Ace': 1, 'Heart-2': 2, 'Heart-3': 3, 'Heart-4': 4, 'Heart-5': 5, 'Heart-6': 6, 'Heart-7': 7, 'Heart-8': 8, 'Heart-9': 9, 'Heart-10': 10, 'Heart-Jack': 10, 'Heart-Queen': 10, 'Heart-King': 10, 'Spade-Ace': 1, 'Spade-2': 2, 'Spade-3': 3, 'Spade-4': 4, 'Spade-5': 5, 'Spade-6': 6, 'Spade-7': 7, 'Spade-8': 8, 'Spade-9': 9, 'Spade-10': 10, 'Spade-Jack': 10, 'Spade-Queen': 10, 'Spade-King': 10}\n"
     ]
    }
   ],
   "source": [
    "Deck=[] #'Clover - Ace', 'clover-2'\n",
    "for i in suits :\n",
    "    for e in rank :\n",
    "        Deck.append(i+'-'+e)\n",
    "print(Deck)\n",
    "score_list = [i+1 for i in range(10)]\n",
    "score_list = score_list + [10]*3\n",
    "score_list = score_list*4\n",
    "#print(score_list)\n",
    "score_dic = dict(zip(Deck,score_list))\n",
    "print(score_dic)\n",
    "\n",
    "def score_hand(hand) :\n",
    "    score = 0\n",
    "    for card in hand:\n",
    "        score = score+ score_dic[card]\n",
    "    return score"
   ]
  },
  {
   "cell_type": "code",
   "execution_count": 212,
   "id": "7defedcd",
   "metadata": {},
   "outputs": [
    {
     "name": "stdout",
     "output_type": "stream",
     "text": [
      "['Diamond-5', 'Diamond-King', 'Clover-Jack', 'Heart-4', 'Clover-10', 'Heart-Jack', 'Heart-6', 'Clover-Ace', 'Clover-King', 'Diamond-10', 'Spade-King', 'Clover-4', 'Diamond-9', 'Spade-Jack', 'Heart-Ace', 'Spade-4', 'Diamond-4', 'Clover-7', 'Heart-5', 'Diamond-Jack', 'Heart-2', 'Spade-2', 'Heart-9', 'Clover-Queen', 'Heart-3', 'Clover-5', 'Spade-Ace', 'Diamond-2', 'Clover-6', 'Spade-Queen', 'Spade-3', 'Diamond-3', 'Diamond-6', 'Clover-8', 'Heart-King', 'Spade-5', 'Spade-8', 'Spade-7', 'Diamond-Ace', 'Diamond-Queen', 'Spade-6', 'Heart-7', 'Diamond-8', 'Heart-10', 'Clover-2', 'Heart-Queen', 'Spade-10', 'Clover-9', 'Clover-3', 'Heart-8', 'Spade-9', 'Diamond-7']\n"
     ]
    }
   ],
   "source": [
    "random.shuffle(Deck)\n",
    "print(Deck)"
   ]
  },
  {
   "cell_type": "code",
   "execution_count": 213,
   "id": "339d3e96",
   "metadata": {},
   "outputs": [
    {
     "name": "stdout",
     "output_type": "stream",
     "text": [
      "Game Start\n",
      "\n",
      "Dealer Hands\n",
      "['Diamond-7', 'Spade-9'] 16\n",
      "\n",
      "\n",
      "Player Hands\n",
      "['Heart-8', 'Clover-3'] 11\n",
      "Deal(1) or Stop(0)1\n",
      "['Heart-8', 'Clover-3', 'Clover-9'] 20\n",
      "Player 승리\n"
     ]
    }
   ],
   "source": [
    "print('Game Start\\n')\n",
    "print('Dealer Hands')\n",
    "dealer_hand = [Deck.pop() for _ in range(2)]\n",
    "print(dealer_hand,score_hand(dealer_hand))\n",
    "print('\\n\\nPlayer Hands')\n",
    "player_hand = [Deck.pop() for _ in range(2)]\n",
    "print(player_hand,score_hand(player_hand))\n",
    "\n",
    "if score_hand(player_hand) <21 :\n",
    "    ans = int(input('Deal(1) or Stop(0)'))\n",
    "    if ans == 1:\n",
    "        player_hand.append(Deck.pop())\n",
    "        print(player_hand, score_hand(player_hand))\n",
    "if score_hand(player_hand) > 21 :\n",
    "    print('Player 패배')\n",
    "elif score_hand(player_hand)> score_hand(dealer_hand) :\n",
    "    print('Player 승리')\n",
    "else :\n",
    "    print('Dealer 승리')\n"
   ]
  }
 ],
 "metadata": {
  "kernelspec": {
   "display_name": "Python 3 (ipykernel)",
   "language": "python",
   "name": "python3"
  },
  "language_info": {
   "codemirror_mode": {
    "name": "ipython",
    "version": 3
   },
   "file_extension": ".py",
   "mimetype": "text/x-python",
   "name": "python",
   "nbconvert_exporter": "python",
   "pygments_lexer": "ipython3",
   "version": "3.10.10"
  }
 },
 "nbformat": 4,
 "nbformat_minor": 5
}
