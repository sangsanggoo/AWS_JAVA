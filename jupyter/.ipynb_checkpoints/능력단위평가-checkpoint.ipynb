{
 "cells": [
  {
   "cell_type": "markdown",
   "id": "cc411b00",
   "metadata": {},
   "source": [
    "### 시각화의 목표가 제시되어있다\n",
    "\n",
    "농업을 할 경우에 어떤 작물을 해야 소득이 많이 생기고 많은 이윤을 남기는지 알기위함\n",
    "\n",
    "### 시각화의 범위가 설정되어 있다.\n",
    "\n",
    "소득과 소득률 상위 품목들을 그래프화 시켰음\n",
    "\n",
    "### 시각화의 개발절차가 명시되어있다.\n",
    "\n",
    "통계청 kosis.kr에서 농작물 소득총괄표를 이용하여 시각화 시켰음\n",
    "\n",
    "### 시각화 자료를 활용한 사용자 수준의 및 취향, 목적이 제시되어 있다.\n",
    "\n",
    "소득 상위 5개 품목과 소득률 상위 5개 품목을 그래프화 시켰음\n",
    "\n",
    "### 시각화 자료의 제시 시나리오 또는 스토리보드가 제시 되어있다.\n",
    "\n",
    "요즘 시대 귀농하여 작물을 키우면서 소소하게 살고 싶어하는 사람들이 많이때문에\n",
    "\n",
    "그래도 조금더 소득을 많게 하기위해서는 어떤 작물을 선택하는 것이 좋은가 알아봄\n",
    "\n",
    "### 시각화 표현의 형태 및 규칙이 글로서 명시되어있다.\n",
    "\n",
    "다른 작물들과 비교하여 보기 쉽게 하기 위해서 bar그래프를 선택 하였고 소득률 그래프와 소득 그래프를 따로 나눠서 만들었음\n",
    "\n",
    "### 시각화 UI가 글로서 명시되어 있다.\n",
    "\n",
    "x축에는 작물들의 이름을 넣고 y축에는 소득과 소득률을 각각 넣었다.\n",
    "\n",
    "### 시각화 내용 정리를 위한 적절한 분석 작업이 이루어졌다.\n",
    "\n",
    "자료가 너무 많았기 때문에 소득과 소득률이 높은 5가지를 오름차순으로\n",
    "한뒤 상위 5품목을 제외하고 없앤뒤 그래프를 만들었음\n",
    "\n",
    "### 시각화 목적에 부합하는 시각화 표현이 적절히 이루어졌다.\n",
    "\n",
    "겹쳐보이는 그래프를 조금더 보기 쉽게 만들고 제목을 각각 붙였음"
   ]
  },
  {
   "cell_type": "code",
   "execution_count": 21,
   "id": "23e7e5ce",
   "metadata": {},
   "outputs": [
    {
     "data": {
      "text/html": [
       "<div>\n",
       "<style scoped>\n",
       "    .dataframe tbody tr th:only-of-type {\n",
       "        vertical-align: middle;\n",
       "    }\n",
       "\n",
       "    .dataframe tbody tr th {\n",
       "        vertical-align: top;\n",
       "    }\n",
       "\n",
       "    .dataframe thead th {\n",
       "        text-align: right;\n",
       "    }\n",
       "</style>\n",
       "<table border=\"1\" class=\"dataframe\">\n",
       "  <thead>\n",
       "    <tr style=\"text-align: right;\">\n",
       "      <th></th>\n",
       "      <th>년도</th>\n",
       "      <th>품목명</th>\n",
       "      <th>소득</th>\n",
       "      <th>소득률</th>\n",
       "    </tr>\n",
       "  </thead>\n",
       "  <tbody>\n",
       "    <tr>\n",
       "      <th>1</th>\n",
       "      <td>2021</td>\n",
       "      <td>겉보리</td>\n",
       "      <td>118525</td>\n",
       "      <td>30.3</td>\n",
       "    </tr>\n",
       "    <tr>\n",
       "      <th>2</th>\n",
       "      <td>2021</td>\n",
       "      <td>쌀보리</td>\n",
       "      <td>201414</td>\n",
       "      <td>39.6</td>\n",
       "    </tr>\n",
       "    <tr>\n",
       "      <th>3</th>\n",
       "      <td>2021</td>\n",
       "      <td>밀</td>\n",
       "      <td>229152</td>\n",
       "      <td>45.8</td>\n",
       "    </tr>\n",
       "    <tr>\n",
       "      <th>4</th>\n",
       "      <td>2021</td>\n",
       "      <td>노지풋옥수수</td>\n",
       "      <td>1029639</td>\n",
       "      <td>54.7</td>\n",
       "    </tr>\n",
       "    <tr>\n",
       "      <th>5</th>\n",
       "      <td>2021</td>\n",
       "      <td>고구마</td>\n",
       "      <td>2005282</td>\n",
       "      <td>52.3</td>\n",
       "    </tr>\n",
       "  </tbody>\n",
       "</table>\n",
       "</div>"
      ],
      "text/plain": [
       "     년도     품목명       소득   소득률\n",
       "1  2021     겉보리   118525  30.3\n",
       "2  2021     쌀보리   201414  39.6\n",
       "3  2021       밀   229152  45.8\n",
       "4  2021  노지풋옥수수  1029639  54.7\n",
       "5  2021     고구마  2005282  52.3"
      ]
     },
     "execution_count": 21,
     "metadata": {},
     "output_type": "execute_result"
    }
   ],
   "source": [
    "import seaborn as sns\n",
    "import numpy as np\n",
    "import pandas as pd\n",
    "import matplotlib.pyplot as plt\n",
    "from matplotlib import font_manager, rc\n",
    "f_path = \"c:/Windows/Fonts/malgun.ttf\"\n",
    "font_name = font_manager.FontProperties(fname=f_path).get_name()\n",
    "rc('font', family=font_name)\n",
    "\n",
    "pd_data = pd.read_csv('소득총괄표_20230313170304.csv',encoding='cp949',header=0)\n",
    "#pd_data = pd_data.drop(pd_data['품목군별(1)'])\n",
    "#print(pd_data)\n",
    "filter1 = pd_data['품목군별(2)']== '소계'\n",
    "pd_data.loc[filter1,'품목군별(2)']=np.NaN\n",
    "pd_data = pd_data.dropna()\n",
    "pd_data=pd_data.drop(pd_data.columns[1],axis=1)\n",
    "pd_data.columns=['년도','품목명','소득','소득률']\n",
    "pd_data.head()\n"
   ]
  },
  {
   "cell_type": "code",
   "execution_count": 27,
   "id": "82081420",
   "metadata": {},
   "outputs": [
    {
     "name": "stdout",
     "output_type": "stream",
     "text": [
      "   index    년도      품목명        소득   소득률  소득 순위  소득률 순위\n",
      "0     25  2021   오이(촉성)  12607184  42.7    1.0    37.0\n",
      "1     24  2021   딸기(촉성)  11920023  45.0    2.0    32.0\n",
      "2     49  2021     시설포도  11520676  63.1    3.0     3.0\n",
      "3     32  2021     시설가지  11287423  45.5    4.0    30.0\n",
      "4     29  2021  토마토(촉성)  11244269  44.7    5.0    33.0\n",
      "   index    년도    품목명        소득   소득률  소득 순위  소득률 순위\n",
      "0     42  2021   노지포도   7324899  69.9   12.0     1.0\n",
      "1     16  2021  노지시금치   2219173  65.9   28.0     2.0\n",
      "2     49  2021   시설포도  11520676  63.1    3.0     3.0\n",
      "3     56  2021     들깨    673854  62.7   47.0     4.0\n",
      "4     43  2021   노지감귤   2550807  62.7   27.0     4.0\n"
     ]
    }
   ],
   "source": [
    "pd_data['소득 순위'] = pd_data['소득'].rank(method='min', ascending=False)\n",
    "pd_data['소득률 순위'] = pd_data['소득률'].rank(method='min', ascending=False)\n",
    "pd_data.head()\n",
    "#sns.relplot(data=pd_data,x='품목명',y='소득')\n",
    "income_rank = pd_data.sort_values('소득 순위')\n",
    "income_rank = income_rank.reset_index()\n",
    "#income_top5 = income_top5.drop((income_top5['소득 순위']>5).index)\n",
    "income_top5 = income_rank.loc[:4,:]\n",
    "print(income_top5)\n",
    "incomerate_rank= pd_data.sort_values('소득률 순위')\n",
    "incomerate_rank = incomerate_rank.reset_index()\n",
    "incomerate_top5 = incomerate_rank.loc[:4,:]\n",
    "print(incomerate_top5)\n",
    "\n"
   ]
  },
  {
   "cell_type": "code",
   "execution_count": 66,
   "id": "93648a8f",
   "metadata": {},
   "outputs": [
    {
     "data": {
      "text/plain": [
       "Text(0.5, 1.0, '소득률 상위5품목')"
      ]
     },
     "execution_count": 66,
     "metadata": {},
     "output_type": "execute_result"
    },
    {
     "data": {
      "image/png": "[encoded data removed]",
      "text/plain": [
       "<Figure size 1000x800 with 2 Axes>"
      ]
     },
     "metadata": {},
     "output_type": "display_data"
    }
   ],
   "source": [
    "fig,ax = plt.subplots(ncols=2,figsize=(10,8))\n",
    "sns.barplot(data=income_top5,x='품목명',y='소득',ax=ax[0])\n",
    "sns.barplot(data=incomerate_top5,x='품목명',y='소득률',ax=ax[1])\n",
    "ax[0].set_title('소득 상위5품목')\n",
    "ax[1].set_title('소득률 상위5품목')"
   ]
  }
 ],
 "metadata": {
  "kernelspec": {
   "display_name": "Python 3 (ipykernel)",
   "language": "python",
   "name": "python3"
  },
  "language_info": {
   "codemirror_mode": {
    "name": "ipython",
    "version": 3
   },
   "file_extension": ".py",
   "mimetype": "text/x-python",
   "name": "python",
   "nbconvert_exporter": "python",
   "pygments_lexer": "ipython3",
   "version": "3.10.9"
  }
 },
 "nbformat": 4,
 "nbformat_minor": 5
}
