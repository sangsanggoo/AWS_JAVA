{
 "cells": [
  {
   "cell_type": "markdown",
   "id": "4cc7ba66",
   "metadata": {},
   "source": [
    "### 전국일방통행도로표준데이터\n",
    "- 데이터 전처리\n",
    "시도명,지정사요, 지정연도, 도로폭, 도로차로수, 보차분리여부\n",
    "\n",
    "- 결측치 처리(column 개별 기준)\n",
    "- 오류치 처리(unit의 차이)\n",
    "- 이상치 처리(iqr 사용)\n",
    "- 전처리 내용 정리"
   ]
  },
  {
   "cell_type": "code",
   "execution_count": 63,
   "id": "c223fbc2",
   "metadata": {},
   "outputs": [
    {
     "name": "stdout",
     "output_type": "stream",
     "text": [
      "시도명 False\n",
      "지정사유 True\n",
      "True     1567\n",
      "False     592\n",
      "Name: 지정사유, dtype: int64\n",
      "지정연도 True\n",
      "True     1609\n",
      "False     550\n",
      "Name: 지정연도, dtype: int64\n",
      "도로폭 False\n",
      "도로차로수 True\n",
      "False    2158\n",
      "True        1\n",
      "Name: 도로차로수, dtype: int64\n",
      "보차분리여부 False\n",
      "시도명        object\n",
      "지정사유       object\n",
      "지정연도      float64\n",
      "도로폭       float64\n",
      "도로차로수     float64\n",
      "보차분리여부     object\n",
      "dtype: object\n"
     ]
    }
   ],
   "source": [
    "import numpy as np\n",
    "import pandas as pd\n",
    "\n",
    "data = pd.read_csv('전국일방통행도로표준데이터.csv',encoding='cp949')\n",
    "#data.describe()\n",
    "selected_columns = ['시도명','지정사유','지정연도','도로폭','도로차로수','보차분리여부']\n",
    "data = data[selected_columns]\n",
    "#print(data)\n",
    "for e in data :\n",
    "    print(e,data[e].hasnans)\n",
    "    if data[e].hasnans == True :\n",
    "        print(data[e].isna().value_counts())\n",
    "\n",
    "\n",
    "\n",
    "print(data.dtypes)"
   ]
  },
  {
   "cell_type": "code",
   "execution_count": 64,
   "id": "1f97d597",
   "metadata": {},
   "outputs": [
    {
     "name": "stdout",
     "output_type": "stream",
     "text": [
      "1998.0    110\n",
      "2001.0     65\n",
      "2016.0     63\n",
      "1999.0     41\n",
      "2002.0     39\n",
      "2010.0     24\n",
      "2017.0     19\n",
      "2013.0     17\n",
      "2018.0     16\n",
      "2011.0     15\n",
      "2009.0     14\n",
      "2021.0     12\n",
      "2019.0     11\n",
      "2015.0     11\n",
      "2020.0     10\n",
      "1996.0      9\n",
      "2004.0      9\n",
      "2012.0      9\n",
      "2005.0      9\n",
      "2022.0      8\n",
      "2000.0      8\n",
      "2014.0      8\n",
      "1995.0      5\n",
      "2006.0      4\n",
      "1997.0      4\n",
      "2003.0      3\n",
      "2007.0      3\n",
      "2008.0      3\n",
      "1990.0      1\n",
      "Name: 지정연도, dtype: int64\n"
     ]
    }
   ],
   "source": [
    "#print(data['시도명'].value_counts())\n",
    "#print(data['지정사유'].value_counts())\n",
    "print(data['지정연도'].value_counts())\n",
    "#print(data['도로폭'].value_counts())\n",
    "#print(data['도로차로수'].value_counts())\n",
    "#print(data['보차분리여부'].value_counts())"
   ]
  },
  {
   "cell_type": "code",
   "execution_count": 65,
   "id": "57f04f1b",
   "metadata": {},
   "outputs": [
    {
     "name": "stdout",
     "output_type": "stream",
     "text": [
      "서울특별시      755\n",
      "경기도        384\n",
      "경상북도       329\n",
      "경상남도       152\n",
      "전라남도       115\n",
      "충청남도       113\n",
      "강원도         58\n",
      "광주광역시       58\n",
      "제주특별자치도     55\n",
      "인천광역시       51\n",
      "충청북도        42\n",
      "전라북도        37\n",
      "우리나라        10\n",
      "Name: 시도명, dtype: int64\n"
     ]
    }
   ],
   "source": [
    "# 시도명\n",
    "data['시도명'] = data['시도명'].replace(np.NaN,'우리나라')\n",
    "data['시도명'] = data['시도명'].replace('10','우리나라')\n",
    "print(data['시도명'].value_counts())"
   ]
  },
  {
   "cell_type": "code",
   "execution_count": 66,
   "id": "392edc77",
   "metadata": {},
   "outputs": [
    {
     "name": "stdout",
     "output_type": "stream",
     "text": [
      "알수없음                1567\n",
      "차량소통 촉진 및 보행자 안전     165\n",
      "통행원활                  98\n",
      "교행불가                  60\n",
      "교통불편 해소               55\n",
      "보행안전                  55\n",
      "교통안전                  27\n",
      "주민건의                  24\n",
      "혼잡지역                  18\n",
      "원활한 교통흐름 및 보행 안전      17\n",
      "교통흐름을 원활히 하기 위함       11\n",
      "원활한 차량통행을 위하여 지정      10\n",
      "주민편의                  10\n",
      "통행안전                   6\n",
      "주차혼잡구간                 5\n",
      "부채도로                   4\n",
      "주택밀집지역                 4\n",
      "교통소통                   3\n",
      "보행자안전확보                3\n",
      "시장혼잡구간                 2\n",
      "도로협소                   2\n",
      "원활한교통통행                2\n",
      "차량교행                   2\n",
      "고가도로                   1\n",
      "교통사고 다발                1\n",
      "원통전통시장주차장 출입구          1\n",
      "본도로 진입불가               1\n",
      "순환차로                   1\n",
      "교통혼잡 및 소통 원활 필요        1\n",
      "혼자지역                   1\n",
      "혼잡구역                   1\n",
      "혼잡비역                   1\n",
      "Name: 지정사유, dtype: int64\n"
     ]
    }
   ],
   "source": [
    "#지정사유\n",
    "data['지정사유'] = data['지정사유'].replace(np.NaN,'알수없음')\n",
    "print(data['지정사유'].value_counts())\n"
   ]
  },
  {
   "cell_type": "code",
   "execution_count": 71,
   "id": "d369bd02",
   "metadata": {},
   "outputs": [],
   "source": [
    "data['지정연도'] = data['지정연도'].replace(np.NaN,2023)"
   ]
  },
  {
   "cell_type": "code",
   "execution_count": 67,
   "id": "53cc3c37",
   "metadata": {},
   "outputs": [
    {
     "name": "stdout",
     "output_type": "stream",
     "text": [
      "6.0     574\n",
      "4.0     336\n",
      "5.0     238\n",
      "8.0     208\n",
      "3.0     151\n",
      "       ... \n",
      "6.4       1\n",
      "4.4       1\n",
      "9.1       1\n",
      "17.0      1\n",
      "6.8       1\n",
      "Name: 도로폭, Length: 77, dtype: int64\n"
     ]
    }
   ],
   "source": [
    "#도로폭\n",
    "print(data['도로폭'].value_counts())"
   ]
  },
  {
   "cell_type": "code",
   "execution_count": 72,
   "id": "f78d50a7",
   "metadata": {},
   "outputs": [
    {
     "name": "stdout",
     "output_type": "stream",
     "text": [
      "1.0     2042\n",
      "2.0       90\n",
      "4.0       12\n",
      "3.0        9\n",
      "5.0        4\n",
      "1          1\n",
      "60.0       1\n",
      "Name: 도로차로수, dtype: int64\n"
     ]
    }
   ],
   "source": [
    "#도로차로수\n",
    "print(data['도로차로수'].value_counts())\n",
    "for i in data['도로차로수'] :\n",
    "    data['도로차로수'] = data['도로차로수'].replace(np.NaN,'1')\n",
    "    "
   ]
  },
  {
   "cell_type": "code",
   "execution_count": 79,
   "id": "fa587a7e",
   "metadata": {},
   "outputs": [
    {
     "name": "stderr",
     "output_type": "stream",
     "text": [
      "C:\\Users\\ITPS\\AppData\\Local\\Temp\\ipykernel_13248\\4080730010.py:1: FutureWarning: The default value of numeric_only in DataFrame.mean is deprecated. In a future version, it will default to False. In addition, specifying 'numeric_only=None' is deprecated. Select only valid columns or specify the value of numeric_only to silence this warning.\n",
      "  data.mean()\n"
     ]
    },
    {
     "data": {
      "text/plain": [
       "지정연도    2018.785549\n",
       "도로폭        5.917508\n",
       "dtype: float64"
      ]
     },
     "execution_count": 79,
     "metadata": {},
     "output_type": "execute_result"
    }
   ],
   "source": [
    "data.\n"
   ]
  }
 ],
 "metadata": {
  "kernelspec": {
   "display_name": "Python 3 (ipykernel)",
   "language": "python",
   "name": "python3"
  },
  "language_info": {
   "codemirror_mode": {
    "name": "ipython",
    "version": 3
   },
   "file_extension": ".py",
   "mimetype": "text/x-python",
   "name": "python",
   "nbconvert_exporter": "python",
   "pygments_lexer": "ipython3",
   "version": "3.10.9"
  }
 },
 "nbformat": 4,
 "nbformat_minor": 5
}
