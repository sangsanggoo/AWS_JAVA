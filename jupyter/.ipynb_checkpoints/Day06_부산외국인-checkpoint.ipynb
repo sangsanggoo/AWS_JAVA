{
 "cells": [
  {
   "cell_type": "code",
   "execution_count": null,
   "id": "77a72781",
   "metadata": {},
   "outputs": [],
   "source": []
  },
  {
   "cell_type": "code",
   "execution_count": 169,
   "id": "da8f31c7",
   "metadata": {},
   "outputs": [
    {
     "name": "stdout",
     "output_type": "stream",
     "text": [
      "['베트남', '중국', '한국계 중국인', '미국', '인도네시아', '필리핀', '우즈베키스탄', '타이완', '일본', '미얀마', '한국계 러시아인', '캄보디아', '러시아(연방)', '네팔', '캐나다', '스리랑카', '파키스탄', '타이', '몽골']\n",
      "[11232, 6897, 4364, 2961, 3047, 1750, 2006, 1356, 1589, 1430, 1149, 1127, 1041, 995, 895, 626, 615, 628, 581]\n"
     ]
    },
    {
     "ename": "TypeError",
     "evalue": "'int' object is not callable",
     "output_type": "error",
     "traceback": [
      "\u001b[1;31m---------------------------------------------------------------------------\u001b[0m",
      "\u001b[1;31mTypeError\u001b[0m                                 Traceback (most recent call last)",
      "Cell \u001b[1;32mIn[169], line 20\u001b[0m\n\u001b[0;32m     18\u001b[0m \u001b[38;5;28mprint\u001b[39m(country_list)\n\u001b[0;32m     19\u001b[0m \u001b[38;5;28mprint\u001b[39m(country_people_2)\n\u001b[1;32m---> 20\u001b[0m \u001b[38;5;28;43msum\u001b[39;49m\u001b[43m(\u001b[49m\u001b[43mcountry_list\u001b[49m\u001b[43m)\u001b[49m\n\u001b[0;32m     21\u001b[0m \u001b[38;5;28;01mfor\u001b[39;00m j \u001b[38;5;129;01min\u001b[39;00m country_people_2 :\n\u001b[0;32m     22\u001b[0m     country_percent\u001b[38;5;241m.\u001b[39mappend((j\u001b[38;5;241m*\u001b[39m\u001b[38;5;241m100\u001b[39m)\u001b[38;5;241m/\u001b[39m\u001b[38;5;28msum\u001b[39m(country_people_2))\n",
      "\u001b[1;31mTypeError\u001b[0m: 'int' object is not callable"
     ]
    }
   ],
   "source": [
    "country_list=[]\n",
    "csv_data  = []\n",
    "country_people_2 = []\n",
    "country_percent = []\n",
    "avg = 0;\n",
    "with open('국적별_외국인_현황_20230207151056.csv') as f :\n",
    "    for line in f :\n",
    "        csv_data.append(line.split(','))\n",
    "    del csv_data[1]\n",
    "    for i in csv_data :\n",
    "        del i[1]\n",
    "    for e in i[1:]:\n",
    "        country_people_2.append(int(e.rstrip()))\n",
    "        \n",
    "    for i in csv_data[0][1:] :\n",
    "        country_list.append(i.rstrip())\n",
    "\n",
    "    print(country_list)\n",
    "    print(country_people_2)\n",
    "    for j in country_people_2 :\n",
    "        country_percent.append((j*100)/sum(country_people_2))\n",
    "    print(country_percent)"
   ]
  },
  {
   "cell_type": "code",
   "execution_count": 82,
   "id": "6f9699d2",
   "metadata": {},
   "outputs": [
    {
     "data": {
      "text/plain": [
       "'512'"
      ]
     },
     "execution_count": 82,
     "metadata": {},
     "output_type": "execute_result"
    }
   ],
   "source": [
    "'512\\n'.rstrip()"
   ]
  }
 ],
 "metadata": {
  "kernelspec": {
   "display_name": "Python 3 (ipykernel)",
   "language": "python",
   "name": "python3"
  },
  "language_info": {
   "codemirror_mode": {
    "name": "ipython",
    "version": 3
   },
   "file_extension": ".py",
   "mimetype": "text/x-python",
   "name": "python",
   "nbconvert_exporter": "python",
   "pygments_lexer": "ipython3",
   "version": "3.10.9"
  }
 },
 "nbformat": 4,
 "nbformat_minor": 5
}
