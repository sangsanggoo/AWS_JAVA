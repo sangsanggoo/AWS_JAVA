{
 "cells": [
  {
   "cell_type": "code",
   "execution_count": 8,
   "id": "5edf228f",
   "metadata": {},
   "outputs": [
    {
     "name": "stdout",
     "output_type": "stream",
     "text": [
      "       0    1    2    3               4\n",
      "0    5.1  3.5  1.4  0.2     Iris-setosa\n",
      "1    4.9  3.0  1.4  0.2     Iris-setosa\n",
      "2    4.7  3.2  1.3  0.2     Iris-setosa\n",
      "3    4.6  3.1  1.5  0.2     Iris-setosa\n",
      "4    5.0  3.6  1.4  0.2     Iris-setosa\n",
      "..   ...  ...  ...  ...             ...\n",
      "145  6.7  3.0  5.2  2.3  Iris-virginica\n",
      "146  6.3  2.5  5.0  1.9  Iris-virginica\n",
      "147  6.5  3.0  5.2  2.0  Iris-virginica\n",
      "148  6.2  3.4  5.4  2.3  Iris-virginica\n",
      "149  5.9  3.0  5.1  1.8  Iris-virginica\n",
      "\n",
      "[150 rows x 5 columns]\n"
     ]
    }
   ],
   "source": [
    "import numpy as np\n",
    "import pandas as pd\n",
    "\n",
    "\n",
    "iris_df = pd.read_csv('iris.data',header=None)\n",
    "print(iris_df)"
   ]
  },
  {
   "cell_type": "code",
   "execution_count": 11,
   "id": "41fe2968",
   "metadata": {},
   "outputs": [
    {
     "name": "stdout",
     "output_type": "stream",
     "text": [
      "0    a\n",
      "1    b\n",
      "2    c\n",
      "3    e\n",
      "4    d\n",
      "dtype: object\n"
     ]
    }
   ],
   "source": [
    "s1 =pd.Series(list('abced'))\n",
    "print(s1)"
   ]
  },
  {
   "cell_type": "code",
   "execution_count": 16,
   "id": "0c1c8005",
   "metadata": {},
   "outputs": [
    {
     "name": "stdout",
     "output_type": "stream",
     "text": [
      "0      1\n",
      "1    1.0\n",
      "2      a\n",
      "dtype: object\n",
      "0    10\n",
      "1    11\n",
      "2    12\n",
      "3    13\n",
      "4    14\n",
      "5    15\n",
      "6    16\n",
      "7    17\n",
      "8    18\n",
      "9    19\n",
      "dtype: int64\n",
      "13\n"
     ]
    }
   ],
   "source": [
    "s2 = pd.Series([1,1.0,'a'])\n",
    "print(s2)\n",
    "s3 = pd.Series([x for x in range(10,20)])\n",
    "print(s3)\n",
    "print(s3[3])"
   ]
  },
  {
   "cell_type": "code",
   "execution_count": 22,
   "id": "4b522fff",
   "metadata": {},
   "outputs": [
    {
     "name": "stdout",
     "output_type": "stream",
     "text": [
      "[30 33 36 39 42 45 48 51 54 57]\n",
      "[0 0 0 0 0 0 0 0 0 0]\n"
     ]
    }
   ],
   "source": [
    "s3_np = s3.to_numpy()\n",
    "print(s3_np*3) #브로드캐스팅 가능\n",
    "print(s3_np-s3_np)"
   ]
  },
  {
   "cell_type": "code",
   "execution_count": 30,
   "id": "414b7c03",
   "metadata": {},
   "outputs": [
    {
     "name": "stdout",
     "output_type": "stream",
     "text": [
      "0     10.0\n",
      "1     11.0\n",
      "2     12.0\n",
      "3     13.0\n",
      "4     14.0\n",
      "5     15.0\n",
      "6     16.0\n",
      "7     17.0\n",
      "8     18.0\n",
      "9     19.0\n",
      "10     NaN\n",
      "11     NaN\n",
      "12     NaN\n",
      "13     NaN\n",
      "14     NaN\n",
      "15     NaN\n",
      "16     NaN\n",
      "17     NaN\n",
      "18     NaN\n",
      "19     NaN\n",
      "Name: a, dtype: float64\n"
     ]
    }
   ],
   "source": [
    "### df\n",
    "\n",
    "s1 = pd.Series([x for x in range(10,20)])\n",
    "s2 = pd.Series([x for x in range(100,120)])\n",
    "df1 = pd.DataFrame({'a' : s1, 'b' : s2})\n",
    "#print(df1)\n",
    "print(df1['a'])\n"
   ]
  },
  {
   "cell_type": "code",
   "execution_count": 32,
   "id": "064edfbb",
   "metadata": {},
   "outputs": [
    {
     "name": "stdout",
     "output_type": "stream",
     "text": [
      "      a    b\n",
      "0  10.0  100\n",
      "1  11.0  101\n",
      "2  12.0  102\n",
      "3  13.0  103\n",
      "4  14.0  104\n",
      "     a    b\n",
      "15 NaN  115\n",
      "16 NaN  116\n",
      "17 NaN  117\n",
      "18 NaN  118\n",
      "19 NaN  119\n"
     ]
    }
   ],
   "source": [
    "print(df1.head()) #위 5개\n",
    "print(df1.tail()) #아래 5개"
   ]
  }
 ],
 "metadata": {
  "kernelspec": {
   "display_name": "Python 3 (ipykernel)",
   "language": "python",
   "name": "python3"
  },
  "language_info": {
   "codemirror_mode": {
    "name": "ipython",
    "version": 3
   },
   "file_extension": ".py",
   "mimetype": "text/x-python",
   "name": "python",
   "nbconvert_exporter": "python",
   "pygments_lexer": "ipython3",
   "version": "3.10.9"
  }
 },
 "nbformat": 4,
 "nbformat_minor": 5
}
