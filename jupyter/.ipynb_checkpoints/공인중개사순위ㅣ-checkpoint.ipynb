{
 "cells": [
  {
   "cell_type": "code",
   "execution_count": 1,
   "id": "33f4e193",
   "metadata": {},
   "outputs": [],
   "source": [
    "def my_split(s):\n",
    "    block_start = False\n",
    "    start_index = 0\n",
    "    ret_list=[]\n",
    "    for i, c in enumerate(s):\n",
    "        if block_start==False:\n",
    "            if c==',':\n",
    "                ret_list.append(s[start_index:i])\n",
    "                start_index=i+1\n",
    "            elif c=='\"':\n",
    "                block_start=True\n",
    "                start_index = i\n",
    "        else:\n",
    "            if c=='\"':\n",
    "                block_start=False\n",
    "    if s[-1]!=',':\n",
    "        ret_list.append(s[start_index:])\n",
    "    return ret_list"
   ]
  },
  {
   "cell_type": "code",
   "execution_count": 2,
   "id": "8e0b9c8f",
   "metadata": {},
   "outputs": [
    {
     "name": "stdout",
     "output_type": "stream",
     "text": [
      "공인중개사 / 개업공인중개사 비율 :  82.36946120241315 % / 17.630538797586855 %\n"
     ]
    }
   ],
   "source": [
    "data_list = []\n",
    "count=[]\n",
    "name1 = []\n",
    "name2 = []\n",
    "with open('전국공인중개사사무소표준데이터.csv') as f :\n",
    "    for i in f :\n",
    "        data_list.append(my_split(i))\n",
    "data_list=data_list[1:]\n",
    "#print(data_list[:3])\n",
    "for i in data_list:\n",
    "    count.append(i[2])\n",
    "count1 = count.count('공인중개사')\n",
    "count2 = count.count('개업공인중개사')\n",
    "print('공인중개사 / 개업공인중개사 비율 : ',(count1/(count1+count2)*100) , '% /', (count2/(count1+count2)*100) , '%')"
   ]
  },
  {
   "cell_type": "code",
   "execution_count": 3,
   "id": "377a7212",
   "metadata": {},
   "outputs": [
    {
     "name": "stdout",
     "output_type": "stream",
     "text": [
      "공제 미가입 중개사 수  :  30 개    0.10214852395382887 %\n"
     ]
    }
   ],
   "source": [
    "register = []\n",
    "for i in data_list :\n",
    "    register.append(i[7])\n",
    "reg_count1 = 0\n",
    "reg_count2 = 0\n",
    "reg_count1 = register.count('Y')\n",
    "reg_count2 = register.count('N')\n",
    "#print(reg_count1,reg_count2)\n",
    "print('공제 미가입 중개사 수  : ', reg_count2 ,'개   ' , (reg_count2/(reg_count1+reg_count2)*100) , '%',)"
   ]
  },
  {
   "cell_type": "code",
   "execution_count": 30,
   "id": "dbfbd5d9",
   "metadata": {},
   "outputs": [
    {
     "name": "stdout",
     "output_type": "stream",
     "text": [
      "1 등 120 개      삼성\n",
      "2 등 114 개      현대\n",
      "3 등 100 개      우리\n",
      "4 등 89 개      행운\n",
      "5 등 88 개      하나\n",
      "6 등 84 개      미래\n",
      "7 등 77 개      태양\n",
      "8 등 77 개      태양\n",
      "9 등 72 개      제일\n",
      "10 등 71 개      에이스\n",
      "11 등 70 개      대박\n",
      "12 등 68 개      강남\n",
      "13 등 67 개      탑\n",
      "14 등 66 개      드림\n",
      "15 등 65 개      행복\n"
     ]
    }
   ],
   "source": [
    "yes_name = []\n",
    "yes_name_setlist = []\n",
    "yes_count = []\n",
    "yes_count_sorted = []\n",
    "common_name_list = []\n",
    "no_name = []\n",
    "no_count = []\n",
    "for i in data_list : \n",
    "    i= i[0].replace(\" \",\"\")\n",
    "    #print(i)\n",
    "    if '공인중개사' in i :\n",
    "        yes_name.append(i.replace('공인중개사사무소',''))\n",
    "    else : \n",
    "        no_name.append(i.replace('공인중개사사무소',''))\n",
    "\n",
    "\n",
    "yes_name_setlist = list(set(yes_name))\n",
    "for i in yes_name_setlist :\n",
    "    yes_count.append(yes_name.count(i))\n",
    "\n",
    "\n",
    "yes_count_sorted=sorted(yes_count,reverse=1)[:15]\n",
    "for n , i in enumerate(yes_count_sorted):\n",
    "    print(n+1,'등',i,'개     ',yes_name_setlist[yes_count.index(i)])"
   ]
  },
  {
   "cell_type": "code",
   "execution_count": null,
   "id": "58e9ff74",
   "metadata": {},
   "outputs": [],
   "source": []
  }
 ],
 "metadata": {
  "kernelspec": {
   "display_name": "Python 3 (ipykernel)",
   "language": "python",
   "name": "python3"
  },
  "language_info": {
   "codemirror_mode": {
    "name": "ipython",
    "version": 3
   },
   "file_extension": ".py",
   "mimetype": "text/x-python",
   "name": "python",
   "nbconvert_exporter": "python",
   "pygments_lexer": "ipython3",
   "version": "3.10.9"
  }
 },
 "nbformat": 4,
 "nbformat_minor": 5
}
