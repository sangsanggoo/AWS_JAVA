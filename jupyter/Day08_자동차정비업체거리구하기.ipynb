{
 "cells": [
  {
   "cell_type": "code",
   "execution_count": 78,
   "id": "8640a9cf",
   "metadata": {},
   "outputs": [
    {
     "name": "stdout",
     "output_type": "stream",
     "text": [
      "[0.003641458334736921, 0.004289225115225322, 0.005374277444714859, 0.005732409896341039, 0.0062547030929548325]\n",
      "카젠범천점\n",
      "경남카서비스\n",
      "한국타이어 전포대리점\n",
      "타이어프로원스탑 전포점\n",
      "SC MOTORS\n"
     ]
    }
   ],
   "source": [
    "import numpy as np\n",
    "import math\n",
    "data_list=[]\n",
    "data_list_location=[]\n",
    "data_list_name=[]\n",
    "data_list_distance=[]\n",
    "data_list_distance_rank= []\n",
    "def dist_np(p1,p2) : \n",
    "    return math.sqrt(sum((p2-p1)**2))\n",
    "\n",
    "with open('전국자동차정비업체표준데이터.csv') as f :\n",
    "    for line in f :\n",
    "        data_list.append(line.split(','))\n",
    "    for e in data_list[1:] :\n",
    "        data_list_name.append(e[0]) \n",
    "        for i,n in enumerate(e) :\n",
    "            try :\n",
    "                e[i] = float(n)\n",
    "            except :\n",
    "                e[i] = 0.0\n",
    "        data_list_location.append(np.array([float(e[4]),float(e[5])]))\n",
    "#print(data_list_location[:500])\n",
    "#print(data_list_name[:500])\n",
    "mywee = 35.1525\n",
    "mygyung = 129.0596\n",
    "mylocation=np.array([mywee,mygyung])\n",
    "for i in data_list_location :\n",
    "    data_list_distance.append(dist_np(i,mylocation))\n",
    "data_list_distance_rank=sorted(data_list_distance)[0:5]\n",
    "#print(data_list_distance)\n",
    "print(data_list_distance_rank)\n",
    "for i in data_list_distance_rank :\n",
    "    print(data_list_name[data_list_distance.index(i)])\n",
    "\n"
   ]
  }
 ],
 "metadata": {
  "kernelspec": {
   "display_name": "Python 3 (ipykernel)",
   "language": "python",
   "name": "python3"
  },
  "language_info": {
   "codemirror_mode": {
    "name": "ipython",
    "version": 3
   },
   "file_extension": ".py",
   "mimetype": "text/x-python",
   "name": "python",
   "nbconvert_exporter": "python",
   "pygments_lexer": "ipython3",
   "version": "3.10.9"
  }
 },
 "nbformat": 4,
 "nbformat_minor": 5
}
