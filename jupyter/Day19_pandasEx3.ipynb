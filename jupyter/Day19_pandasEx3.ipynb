{
 "cells": [
  {
   "cell_type": "markdown",
   "id": "bafdd7f3",
   "metadata": {},
   "source": [
    "전국평생학습강좌표준데이더\n",
    "drop : 교육시작시각, 교육종료시작, 강좌내용, 운영기관전화번호\n",
    "\n",
    "column 별 적절한 dtype 지정 --> astype()이용\n",
    "\n",
    "    수치값: np.int64/np.float64\n",
    "    \n",
    "    종류를 구반하는 문자열 : category\n",
    "    \n",
    "    날짜 np.datatime64\n",
    "    \n",
    "    이외 : object\n",
    "\n",
    "전체 dataframe에 대한 describe() 결과 보기\n",
    "\n",
    "학목별 결측치/오류치/이상치 갯수 파악"
   ]
  },
  {
   "cell_type": "code",
   "execution_count": 34,
   "id": "04c261f3",
   "metadata": {},
   "outputs": [
    {
     "data": {
      "text/html": [
       "<div>\n",
       "<style scoped>\n",
       "    .dataframe tbody tr th:only-of-type {\n",
       "        vertical-align: middle;\n",
       "    }\n",
       "\n",
       "    .dataframe tbody tr th {\n",
       "        vertical-align: top;\n",
       "    }\n",
       "\n",
       "    .dataframe thead th {\n",
       "        text-align: right;\n",
       "    }\n",
       "</style>\n",
       "<table border=\"1\" class=\"dataframe\">\n",
       "  <thead>\n",
       "    <tr style=\"text-align: right;\">\n",
       "      <th></th>\n",
       "      <th>강좌명</th>\n",
       "      <th>강사명</th>\n",
       "      <th>교육시작일자</th>\n",
       "      <th>교육종료일자</th>\n",
       "      <th>교육대상구분</th>\n",
       "      <th>교육방법구분</th>\n",
       "      <th>운영요일</th>\n",
       "      <th>교육장소</th>\n",
       "      <th>강좌정원수</th>\n",
       "      <th>수강료</th>\n",
       "      <th>...</th>\n",
       "      <th>접수종료일자</th>\n",
       "      <th>접수방법구분</th>\n",
       "      <th>선정방법구분</th>\n",
       "      <th>홈페이지주소</th>\n",
       "      <th>직업능력개발훈련비지원강좌여부</th>\n",
       "      <th>학점은행제평가(학점)인정여부</th>\n",
       "      <th>평생학습계좌제평가인정여부</th>\n",
       "      <th>데이터기준일자</th>\n",
       "      <th>제공기관코드</th>\n",
       "      <th>제공기관명</th>\n",
       "    </tr>\n",
       "  </thead>\n",
       "  <tbody>\n",
       "    <tr>\n",
       "      <th>0</th>\n",
       "      <td>오늘의 점심레시피 - 곰돌이 함박스테이크, 고슴도치 주먹밥</td>\n",
       "      <td>MBC씨앤아이</td>\n",
       "      <td>2022-01-01</td>\n",
       "      <td>2022-12-31</td>\n",
       "      <td>지역주민</td>\n",
       "      <td>온라인</td>\n",
       "      <td>월+화+수+목+금+토+일</td>\n",
       "      <td>군산시청</td>\n",
       "      <td>100</td>\n",
       "      <td>0</td>\n",
       "      <td>...</td>\n",
       "      <td>2022-12-31</td>\n",
       "      <td>인터넷</td>\n",
       "      <td>선착순</td>\n",
       "      <td>cyberedu.gunsan.go.kr</td>\n",
       "      <td>N</td>\n",
       "      <td>N</td>\n",
       "      <td>N</td>\n",
       "      <td>2022-11-23</td>\n",
       "      <td>4670000</td>\n",
       "      <td>전라북도 군산시</td>\n",
       "    </tr>\n",
       "    <tr>\n",
       "      <th>1</th>\n",
       "      <td>오늘의 점심레시피 - 과일 볶음밥 및 감자 피자</td>\n",
       "      <td>MBC씨앤아이</td>\n",
       "      <td>2022-01-01</td>\n",
       "      <td>2022-12-31</td>\n",
       "      <td>지역주민</td>\n",
       "      <td>온라인</td>\n",
       "      <td>월+화+수+목+금+토+일</td>\n",
       "      <td>군산시청</td>\n",
       "      <td>100</td>\n",
       "      <td>0</td>\n",
       "      <td>...</td>\n",
       "      <td>2022-12-31</td>\n",
       "      <td>인터넷</td>\n",
       "      <td>선착순</td>\n",
       "      <td>cyberedu.gunsan.go.kr</td>\n",
       "      <td>N</td>\n",
       "      <td>N</td>\n",
       "      <td>N</td>\n",
       "      <td>2022-11-23</td>\n",
       "      <td>4670000</td>\n",
       "      <td>전라북도 군산시</td>\n",
       "    </tr>\n",
       "    <tr>\n",
       "      <th>2</th>\n",
       "      <td>오늘의 점심레시피 - 과일채소 쌈</td>\n",
       "      <td>MBC씨앤아이</td>\n",
       "      <td>2022-01-01</td>\n",
       "      <td>2022-12-31</td>\n",
       "      <td>지역주민</td>\n",
       "      <td>온라인</td>\n",
       "      <td>월+화+수+목+금+토+일</td>\n",
       "      <td>군산시청</td>\n",
       "      <td>100</td>\n",
       "      <td>0</td>\n",
       "      <td>...</td>\n",
       "      <td>2022-12-31</td>\n",
       "      <td>인터넷</td>\n",
       "      <td>선착순</td>\n",
       "      <td>cyberedu.gunsan.go.kr</td>\n",
       "      <td>N</td>\n",
       "      <td>N</td>\n",
       "      <td>N</td>\n",
       "      <td>2022-11-23</td>\n",
       "      <td>4670000</td>\n",
       "      <td>전라북도 군산시</td>\n",
       "    </tr>\n",
       "    <tr>\n",
       "      <th>3</th>\n",
       "      <td>오늘의 점심레시피 - 꼬치 궁중떡볶이</td>\n",
       "      <td>MBC씨앤아이</td>\n",
       "      <td>2022-01-01</td>\n",
       "      <td>2022-12-31</td>\n",
       "      <td>지역주민</td>\n",
       "      <td>온라인</td>\n",
       "      <td>월+화+수+목+금+토+일</td>\n",
       "      <td>군산시청</td>\n",
       "      <td>100</td>\n",
       "      <td>0</td>\n",
       "      <td>...</td>\n",
       "      <td>2022-12-31</td>\n",
       "      <td>인터넷</td>\n",
       "      <td>선착순</td>\n",
       "      <td>cyberedu.gunsan.go.kr</td>\n",
       "      <td>N</td>\n",
       "      <td>N</td>\n",
       "      <td>N</td>\n",
       "      <td>2022-11-23</td>\n",
       "      <td>4670000</td>\n",
       "      <td>전라북도 군산시</td>\n",
       "    </tr>\n",
       "    <tr>\n",
       "      <th>4</th>\n",
       "      <td>오늘의 점심레시피 - 냉 녹차밥, 매콤한 해산물 샐러드</td>\n",
       "      <td>MBC씨앤아이</td>\n",
       "      <td>2022-01-01</td>\n",
       "      <td>2022-12-31</td>\n",
       "      <td>지역주민</td>\n",
       "      <td>온라인</td>\n",
       "      <td>월+화+수+목+금+토+일</td>\n",
       "      <td>군산시청</td>\n",
       "      <td>100</td>\n",
       "      <td>0</td>\n",
       "      <td>...</td>\n",
       "      <td>2022-12-31</td>\n",
       "      <td>인터넷</td>\n",
       "      <td>선착순</td>\n",
       "      <td>cyberedu.gunsan.go.kr</td>\n",
       "      <td>N</td>\n",
       "      <td>N</td>\n",
       "      <td>N</td>\n",
       "      <td>2022-11-23</td>\n",
       "      <td>4670000</td>\n",
       "      <td>전라북도 군산시</td>\n",
       "    </tr>\n",
       "  </tbody>\n",
       "</table>\n",
       "<p>5 rows × 23 columns</p>\n",
       "</div>"
      ],
      "text/plain": [
       "                                강좌명      강사명      교육시작일자      교육종료일자 교육대상구분  \\\n",
       "0  오늘의 점심레시피 - 곰돌이 함박스테이크, 고슴도치 주먹밥  MBC씨앤아이  2022-01-01  2022-12-31   지역주민   \n",
       "1        오늘의 점심레시피 - 과일 볶음밥 및 감자 피자  MBC씨앤아이  2022-01-01  2022-12-31   지역주민   \n",
       "2                오늘의 점심레시피 - 과일채소 쌈  MBC씨앤아이  2022-01-01  2022-12-31   지역주민   \n",
       "3              오늘의 점심레시피 - 꼬치 궁중떡볶이  MBC씨앤아이  2022-01-01  2022-12-31   지역주민   \n",
       "4    오늘의 점심레시피 - 냉 녹차밥, 매콤한 해산물 샐러드  MBC씨앤아이  2022-01-01  2022-12-31   지역주민   \n",
       "\n",
       "  교육방법구분           운영요일  교육장소  강좌정원수  수강료  ...      접수종료일자 접수방법구분 선정방법구분  \\\n",
       "0    온라인  월+화+수+목+금+토+일  군산시청    100    0  ...  2022-12-31    인터넷    선착순   \n",
       "1    온라인  월+화+수+목+금+토+일  군산시청    100    0  ...  2022-12-31    인터넷    선착순   \n",
       "2    온라인  월+화+수+목+금+토+일  군산시청    100    0  ...  2022-12-31    인터넷    선착순   \n",
       "3    온라인  월+화+수+목+금+토+일  군산시청    100    0  ...  2022-12-31    인터넷    선착순   \n",
       "4    온라인  월+화+수+목+금+토+일  군산시청    100    0  ...  2022-12-31    인터넷    선착순   \n",
       "\n",
       "                  홈페이지주소 직업능력개발훈련비지원강좌여부 학점은행제평가(학점)인정여부 평생학습계좌제평가인정여부  \\\n",
       "0  cyberedu.gunsan.go.kr               N               N             N   \n",
       "1  cyberedu.gunsan.go.kr               N               N             N   \n",
       "2  cyberedu.gunsan.go.kr               N               N             N   \n",
       "3  cyberedu.gunsan.go.kr               N               N             N   \n",
       "4  cyberedu.gunsan.go.kr               N               N             N   \n",
       "\n",
       "      데이터기준일자   제공기관코드     제공기관명  \n",
       "0  2022-11-23  4670000  전라북도 군산시  \n",
       "1  2022-11-23  4670000  전라북도 군산시  \n",
       "2  2022-11-23  4670000  전라북도 군산시  \n",
       "3  2022-11-23  4670000  전라북도 군산시  \n",
       "4  2022-11-23  4670000  전라북도 군산시  \n",
       "\n",
       "[5 rows x 23 columns]"
      ]
     },
     "execution_count": 34,
     "metadata": {},
     "output_type": "execute_result"
    }
   ],
   "source": [
    "import numpy as np\n",
    "import pandas as pd\n",
    "\n",
    "data = pd.read_csv('전국평생학습강좌표준데이터.csv',encoding='cp949')\n",
    "drop_list = ['교육시작시각','교육종료시각','강좌내용','운영기관전화번호']\n",
    "data.drop(drop_list,axis=1,inplace = True)\n",
    "#data= data.drop(['교육시작시각','교육종료시각','강좌내용','운영기관전화번호'],axis=1)\n",
    "data.head()\n",
    "#data.describe()"
   ]
  },
  {
   "cell_type": "code",
   "execution_count": 44,
   "id": "d2a1f674",
   "metadata": {},
   "outputs": [
    {
     "name": "stdout",
     "output_type": "stream",
     "text": [
      "강좌명                        object\n",
      "강사명                        object\n",
      "교육시작일자             datetime64[ns]\n",
      "교육종료일자             datetime64[ns]\n",
      "교육대상구분                   category\n",
      "교육방법구분                   category\n",
      "운영요일                       object\n",
      "교육장소                       object\n",
      "강좌정원수                       int64\n",
      "수강료                         int64\n",
      "교육장도로명주소                   object\n",
      "운영기관명                      object\n",
      "접수시작일자             datetime64[ns]\n",
      "접수종료일자             datetime64[ns]\n",
      "접수방법구분                   category\n",
      "선정방법구분                   category\n",
      "홈페이지주소                     object\n",
      "직업능력개발훈련비지원강좌여부          category\n",
      "학점은행제평가(학점)인정여부          category\n",
      "평생학습계좌제평가인정여부            category\n",
      "데이터기준일자            datetime64[ns]\n",
      "제공기관코드                   category\n",
      "제공기관명                      object\n",
      "dtype: object\n"
     ]
    },
    {
     "name": "stderr",
     "output_type": "stream",
     "text": [
      "C:\\Users\\ITPS\\AppData\\Local\\Temp\\ipykernel_12352\\143587746.py:3: FutureWarning: Passing unit-less datetime64 dtype to .astype is deprecated and will raise in a future version. Pass 'datetime64[ns]' instead\n",
      "  data[col_name] = data[col_name].astype(np.datetime64)\n",
      "C:\\Users\\ITPS\\AppData\\Local\\Temp\\ipykernel_12352\\143587746.py:3: FutureWarning: Passing unit-less datetime64 dtype to .astype is deprecated and will raise in a future version. Pass 'datetime64[ns]' instead\n",
      "  data[col_name] = data[col_name].astype(np.datetime64)\n"
     ]
    }
   ],
   "source": [
    "for col_name in data.columns :\n",
    "    if '일자' in col_name :\n",
    "        data[col_name] = data[col_name].astype(np.datetime64)\n",
    "    elif '수강료' in col_name :\n",
    "        data[col_name] = data[col_name].astype(np.int64)\n",
    "    elif '구분' in col_name or '여부' in col_name or '코드' in col_name :\n",
    "        data[col_name] = data[col_name].astype('category')\n",
    "print(data.dtypes)"
   ]
  },
  {
   "cell_type": "code",
   "execution_count": 54,
   "id": "adeb0625",
   "metadata": {},
   "outputs": [
    {
     "name": "stdout",
     "output_type": "stream",
     "text": [
      "운영요일\n",
      "교육장소\n",
      "접수시작일자\n",
      "접수종료일자\n",
      "선정방법구분\n",
      "홈페이지주소\n",
      "Empty DataFrame\n",
      "Columns: []\n",
      "Index: []\n"
     ]
    }
   ],
   "source": [
    "#data['제공기관명'].hasnans #결측치 찾기+\n",
    "#data['제공기관명'].isna().count()\n",
    "for col_name in data.columns :\n",
    "    t = []\n",
    "    if data[col_name].hasnans == True :\n",
    "        print(col_name)\n",
    "        cnt_s = data[col_name].isna().value_counts()\n",
    "        cnt = cnt_s.to_numpy()\n",
    "        t.append([[col_name], cnt[0],cnt[1]])\n",
    "missing_df = pd.DataFrame(t)\n",
    "print(missing_df)"
   ]
  },
  {
   "cell_type": "code",
   "execution_count": 58,
   "id": "80d07f5c",
   "metadata": {},
   "outputs": [
    {
     "data": {
      "text/plain": [
       "목          2556\n",
       "화          2524\n",
       "수          2434\n",
       "월          1937\n",
       "금          1851\n",
       "           ... \n",
       "월+화+토         1\n",
       "수요일+일요일       1\n",
       "월요일+일요일       1\n",
       "격주토요일         1\n",
       "월 +수 +금       1\n",
       "Name: 운영요일, Length: 218, dtype: int64"
      ]
     },
     "execution_count": 58,
     "metadata": {},
     "output_type": "execute_result"
    }
   ],
   "source": [
    "#f1 = data['운영요일'].isna() #없는값\n",
    "#data['운영요일'][f1]\n",
    "data['운영요일'].value_counts()"
   ]
  },
  {
   "cell_type": "code",
   "execution_count": 75,
   "id": "115a48ee",
   "metadata": {},
   "outputs": [
    {
     "name": "stderr",
     "output_type": "stream",
     "text": [
      "C:\\Users\\ITPS\\AppData\\Local\\Temp\\ipykernel_12352\\1313457101.py:11: SettingWithCopyWarning: \n",
      "A value is trying to be set on a copy of a slice from a DataFrame\n",
      "\n",
      "See the caveats in the documentation: https://pandas.pydata.org/pandas-docs/stable/user_guide/indexing.html#returning-a-view-versus-a-copy\n",
      "  data['교육장소'][filter2] = '온라인'\n"
     ]
    },
    {
     "data": {
      "text/plain": [
       "False    24706\n",
       "True      1829\n",
       "Name: 교육장소, dtype: int64"
      ]
     },
     "execution_count": 75,
     "metadata": {},
     "output_type": "execute_result"
    }
   ],
   "source": [
    "\n",
    "#교육방법 구분이  온라인으로 되어있을경우 ,'온라인'으로 결치를 대체\n",
    "#그렇지 않을 경우 삭제\n",
    "\n",
    "data['교육장소'].value_counts()\n",
    "data['교육방법구분'].value_counts()\n",
    "\n",
    "filter1 = data['교육장소'].isna()\n",
    "#print(data['교육방법구분'][filter1].value_counts())\n",
    "\n",
    "filter2 = data['교육방법구분'] == '온라인'\n",
    "data['교육장소'][filter2] = '온라인'\n",
    "\n",
    "data['교육장소'].isna().value_counts()"
   ]
  },
  {
   "cell_type": "code",
   "execution_count": 81,
   "id": "0689d797",
   "metadata": {},
   "outputs": [
    {
     "data": {
      "text/plain": [
       "False    24706\n",
       "True      1829\n",
       "Name: 교육장소, dtype: int64"
      ]
     },
     "execution_count": 81,
     "metadata": {},
     "output_type": "execute_result"
    }
   ],
   "source": [
    "for i in range(data.shape[0]) :\n",
    "    row = data.iloc[i,:]\n",
    "    if (row['교육장소']==np.NaN) and (row['교육방법구분']=='온라인') :\n",
    "        row['교육장소']='온라인'\n",
    "        \n",
    "data['교육장소'].isna().value_counts()"
   ]
  }
 ],
 "metadata": {
  "kernelspec": {
   "display_name": "Python 3 (ipykernel)",
   "language": "python",
   "name": "python3"
  },
  "language_info": {
   "codemirror_mode": {
    "name": "ipython",
    "version": 3
   },
   "file_extension": ".py",
   "mimetype": "text/x-python",
   "name": "python",
   "nbconvert_exporter": "python",
   "pygments_lexer": "ipython3",
   "version": "3.10.9"
  }
 },
 "nbformat": 4,
 "nbformat_minor": 5
}
