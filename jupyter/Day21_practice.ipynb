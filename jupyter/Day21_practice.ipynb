{
 "cells": [
  {
   "cell_type": "markdown",
   "id": "00c51244",
   "metadata": {},
   "source": [
    "1. 전국일방통핸도로표준데이터\n",
    "    *시도명, 지정사유,지정연도,도로폭,도로차로수,보차분리여부\n",
    "    \n",
    "2. 전국어린이보호구역표준데이터 : 시도명 작업필요\n",
    "    *시설종류,관할경찰서명,CCTV설치여부,CCTV설치대수,제공기관명,보호구역도로폭\n",
    "  \n",
    "3. 전국노인장애인보호구연표준데이터\n",
    "    *시도명,제한속도,CTV설치여부,CCTV설치대수,보호구역도로폭\n"
   ]
  }
 ],
 "metadata": {
  "kernelspec": {
   "display_name": "Python 3 (ipykernel)",
   "language": "python",
   "name": "python3"
  },
  "language_info": {
   "codemirror_mode": {
    "name": "ipython",
    "version": 3
   },
   "file_extension": ".py",
   "mimetype": "text/x-python",
   "name": "python",
   "nbconvert_exporter": "python",
   "pygments_lexer": "ipython3",
   "version": "3.10.9"
  }
 },
 "nbformat": 4,
 "nbformat_minor": 5
}
