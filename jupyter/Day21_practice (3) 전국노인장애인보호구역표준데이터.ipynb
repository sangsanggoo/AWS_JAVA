{
 "cells": [
  {
   "cell_type": "code",
   "execution_count": 9,
   "id": "22112aa3",
   "metadata": {},
   "outputs": [],
   "source": [
    "def check(x) :\n",
    "    print(x.unique())\n",
    "    print(x.hasnans)"
   ]
  },
  {
   "cell_type": "code",
   "execution_count": 8,
   "id": "bf8924cd",
   "metadata": {},
   "outputs": [],
   "source": [
    "import numpy as np\n",
    "import pandas as pd\n",
    "\n",
    "pd_raw = pd.read_csv('전국노인장애인보호구역표준데이터.csv',encoding='cp949')\n",
    "\n",
    "col_selection = ['시도명','제한속도','CCTV설치여부','CCTV설치대수','보호구역도로폭']\n",
    "pd_data= pd_raw[col_selection]\n"
   ]
  },
  {
   "cell_type": "code",
   "execution_count": 5,
   "id": "698e6793",
   "metadata": {},
   "outputs": [
    {
     "name": "stdout",
     "output_type": "stream",
     "text": [
      "시도명 False\n",
      "제한속도 False\n",
      "CCTV설치여부 False\n",
      "CCTV설치대수 True\n",
      "보호구역도로폭 True\n"
     ]
    }
   ],
   "source": [
    "# 결측치 확인\n",
    "for e in pd_data:\n",
    "    print(e,pd_data[e].hasnans)\n"
   ]
  },
  {
   "cell_type": "code",
   "execution_count": 10,
   "id": "a24e46ac",
   "metadata": {},
   "outputs": [
    {
     "name": "stdout",
     "output_type": "stream",
     "text": [
      "['서울특별시' '경상북도' '충청남도' '강원도' '경기도' '전라북도' '대전광역시' '경상남도' '인천광역시' '울산광역시'\n",
      " '부산광역시' '대구광역시' '충청북도' '전라남도' '광주광역시' '세종특별자치시' '제주특별자치도']\n",
      "False\n",
      "['서울특별시' '경상북도' '충청남도' '강원도' '경기도' '전라북도' '대전광역시' '경상남도' '인천광역시' '울산광역시'\n",
      " '부산광역시' '대구광역시' '충청북도' '전라남도' '광주광역시' '세종특별자치시' '제주특별자치도']\n",
      "False\n"
     ]
    }
   ],
   "source": [
    "#시도명\n",
    "#결측치,이상치,오류치 없음\n",
    "check(pd_data['시도명'])\n",
    "\n"
   ]
  },
  {
   "cell_type": "code",
   "execution_count": 11,
   "id": "2c9eb91b",
   "metadata": {},
   "outputs": [
    {
     "name": "stdout",
     "output_type": "stream",
     "text": [
      "[30 50 60 40 38 39 41 42 43 44 45 46 47 48 49 51 52 53 54 55 31 32 33 34\n",
      " 35 36 37 20]\n",
      "False\n"
     ]
    }
   ],
   "source": [
    "#제한속도\n",
    "check(pd_data['제한속도'])\n",
    "#결측치 없음\n"
   ]
  }
 ],
 "metadata": {
  "kernelspec": {
   "display_name": "Python 3 (ipykernel)",
   "language": "python",
   "name": "python3"
  },
  "language_info": {
   "codemirror_mode": {
    "name": "ipython",
    "version": 3
   },
   "file_extension": ".py",
   "mimetype": "text/x-python",
   "name": "python",
   "nbconvert_exporter": "python",
   "pygments_lexer": "ipython3",
   "version": "3.10.9"
  }
 },
 "nbformat": 4,
 "nbformat_minor": 5
}
