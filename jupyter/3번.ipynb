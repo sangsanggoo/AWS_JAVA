{
 "cells": [
  {
   "cell_type": "code",
   "execution_count": 8,
   "id": "bde3553b",
   "metadata": {},
   "outputs": [
    {
     "name": "stdout",
     "output_type": "stream",
     "text": [
      "14400\n"
     ]
    }
   ],
   "source": [
    "import numpy as np\n",
    "import math\n",
    "def my_sq_prod3(np_list) :\n",
    "    return math.prod(np_list*np_list)\n",
    "python_list = [4,5,6]\n",
    "numpy_list = np.array(python_list)\n",
    "print(my_sq_prod3(numpy_list))\n",
    "assert my_sq_prod3(np.array([4,5,6])) == 14400"
   ]
  }
 ],
 "metadata": {
  "kernelspec": {
   "display_name": "Python 3 (ipykernel)",
   "language": "python",
   "name": "python3"
  },
  "language_info": {
   "codemirror_mode": {
    "name": "ipython",
    "version": 3
   },
   "file_extension": ".py",
   "mimetype": "text/x-python",
   "name": "python",
   "nbconvert_exporter": "python",
   "pygments_lexer": "ipython3",
   "version": "3.10.9"
  }
 },
 "nbformat": 4,
 "nbformat_minor": 5
}
