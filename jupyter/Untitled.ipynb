{
 "cells": [
  {
   "cell_type": "code",
   "execution_count": null,
   "id": "1f7a7a39",
   "metadata": {},
   "outputs": [],
   "source": [
    "import numpy as np\n",
    "def fact_r(r) :\n",
    "    result = 1\n",
    "    while(1<r) :\n",
    "        result *= r\n",
    "        r= r-1\n",
    "    return result\n",
    "        \n",
    "def perm(n,r) :\n",
    "    return fact_r(n) / fact_r(n-r)\n",
    "print(fact_r(4))"
   ]
  },
  {
   "cell_type": "code",
   "execution_count": null,
   "id": "839e7e38",
   "metadata": {},
   "outputs": [],
   "source": []
  }
 ],
 "metadata": {
  "kernelspec": {
   "display_name": "Python 3 (ipykernel)",
   "language": "python",
   "name": "python3"
  },
  "language_info": {
   "codemirror_mode": {
    "name": "ipython",
    "version": 3
   },
   "file_extension": ".py",
   "mimetype": "text/x-python",
   "name": "python",
   "nbconvert_exporter": "python",
   "pygments_lexer": "ipython3",
   "version": "3.10.9"
  }
 },
 "nbformat": 4,
 "nbformat_minor": 5
}
