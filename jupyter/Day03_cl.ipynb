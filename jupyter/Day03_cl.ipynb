{
 "cells": [
  {
   "cell_type": "code",
   "execution_count": 15,
   "id": "52826aaf",
   "metadata": {},
   "outputs": [
    {
     "name": "stdout",
     "output_type": "stream",
     "text": [
      "<class '__main__.myclass'>\n",
      "100 def\n"
     ]
    }
   ],
   "source": [
    "class myclass :\n",
    "    myvar1 = 10\n",
    "    myvar2 = 'abc'\n",
    "    def __init__(self,a = 0,b= 'aaa'): #java에서 기본생성자 역할을 얘가함\n",
    "        self.myvar1 = a\n",
    "        self.myvar2 = b\n",
    "    def mymethod1(self):\n",
    "        print(self.myvar1,self.myvar2)\n",
    "        \n",
    "a = myclass(100,'def')\n",
    "print(type(a))\n",
    "a.mymethod1()"
   ]
  }
 ],
 "metadata": {
  "kernelspec": {
   "display_name": "Python 3 (ipykernel)",
   "language": "python",
   "name": "python3"
  },
  "language_info": {
   "codemirror_mode": {
    "name": "ipython",
    "version": 3
   },
   "file_extension": ".py",
   "mimetype": "text/x-python",
   "name": "python",
   "nbconvert_exporter": "python",
   "pygments_lexer": "ipython3",
   "version": "3.10.9"
  }
 },
 "nbformat": 4,
 "nbformat_minor": 5
}
