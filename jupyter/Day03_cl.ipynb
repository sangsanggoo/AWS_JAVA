{
 "cells": [
  {
   "cell_type": "code",
   "execution_count": 4,
   "id": "52826aaf",
   "metadata": {},
   "outputs": [
    {
     "name": "stdout",
     "output_type": "stream",
     "text": [
      "<class '__main__.myclass'>\n",
      "100 def\n",
      "<function myclass.__str__ at 0x000002215E349CF0>\n"
     ]
    }
   ],
   "source": [
    "class myclass :\n",
    "    myvar1 = 10\n",
    "    myvar2 = 'abc'\n",
    "    def __init__(self,a = 0,b= 'aaa'): #java에서 기본생성자 역할을 얘가함\n",
    "        self.myvar1 = a\n",
    "        self.myvar2 = b\n",
    "    def mymethod1(self):\n",
    "        print(self.myvar1,self.myvar2)\n",
    "    def __str__(serlf) :\n",
    "        return 'my: {}, {}' , format(self.myvar,self.myvar2)\n",
    "        \n",
    "a = myclass(100,'def')\n",
    "print(type(a))\n",
    "a.mymethod1()"
   ]
  },
  {
   "cell_type": "code",
   "execution_count": 8,
   "id": "b54fe7cd",
   "metadata": {},
   "outputs": [
    {
     "name": "stdout",
     "output_type": "stream",
     "text": [
      "myclass2 - mymethod 0\n",
      "myclass2 - mymethod2\n"
     ]
    }
   ],
   "source": [
    "class myclass2(myclass) :\n",
    "    def mymethod1(self , n) :\n",
    "        print('myclass2 - mymethod', self.myvar1*n)\n",
    "        \n",
    "    def mymethod2(self) :\n",
    "        print('myclass2 - mymethod2')\n",
    "b= myclass2()\n",
    "b.mymethod1(10)\n",
    "b.mymethod2()"
   ]
  },
  {
   "cell_type": "code",
   "execution_count": 16,
   "id": "8f538da2",
   "metadata": {},
   "outputs": [
    {
     "name": "stdout",
     "output_type": "stream",
     "text": [
      "['a', 'b', 'c', 'd', 'e', 'f', 'c', 'g', 'h', 'i']\n",
      "['a', 'c', 'd', 'e', 'f', 'c', 'g', 'h', 'i']\n"
     ]
    }
   ],
   "source": [
    "list_1 = list('abcdefcghi')\n",
    "print(list_1)\n",
    "list_1.remove('b') #b 제거 (제일 먼저 나오는 b를 제거함)\n",
    "print(list_1)"
   ]
  },
  {
   "cell_type": "code",
   "execution_count": 20,
   "id": "2e6206e8",
   "metadata": {},
   "outputs": [
    {
     "name": "stdout",
     "output_type": "stream",
     "text": [
      "['a', 'b', 'd', 'e', 'f', 'g', 'h', 'i']\n"
     ]
    }
   ],
   "source": [
    "def list_remove_all(target_list,target_value):\n",
    "    count = 0\n",
    "    for n in target_list :\n",
    "        if (target_value == n) :\n",
    "            count = count + 1\n",
    "    for n in range(0,count) :\n",
    "        target_list.remove(target_value)\n",
    "    return target_list\n",
    "\n",
    "ret_list = list_remove_all(list('abcdefcghi'),'c')\n",
    "print(ret_list)"
   ]
  },
  {
   "cell_type": "code",
   "execution_count": 23,
   "id": "d088e377",
   "metadata": {},
   "outputs": [
    {
     "name": "stdout",
     "output_type": "stream",
     "text": [
      "['a', 'b', 'd', 'e', 'f', 'g', 'h', 'i']\n",
      "['a', 'b', 'd', 'e', 'f', 'g', 'h', 'i']\n"
     ]
    }
   ],
   "source": [
    "def list_remove_all_v1(target_list,target_value) : # 리스트 안에 밸류가 없을때까지 삭제 반복\n",
    "    while target_value in target_list :\n",
    "        target_list.remove(target_value)\n",
    "    return target_list\n",
    "def list_remove_all_v2(target_list,target_value) : # 리스트 안에 지울 밸류가 없어서 오류가 나면 리턴 시키기\n",
    "    while True :\n",
    "        try :\n",
    "            target_list.remove(target_value)\n",
    "        except :\n",
    "            return target_list\n",
    "\n",
    "print(list_remove_all_v1(list('abcdefcghi'),'c'))\n",
    "print(list_remove_all_v2(list('abcdefcghi'),'c'))"
   ]
  },
  {
   "cell_type": "code",
   "execution_count": 39,
   "id": "2d7028f9",
   "metadata": {},
   "outputs": [
    {
     "name": "stdout",
     "output_type": "stream",
     "text": [
      "['a', 'b', 'c', 1, 2]\n"
     ]
    },
    {
     "ename": "NameError",
     "evalue": "name 'csv_data' is not defined",
     "output_type": "error",
     "traceback": [
      "\u001b[1;31m---------------------------------------------------------------------------\u001b[0m",
      "\u001b[1;31mNameError\u001b[0m                                 Traceback (most recent call last)",
      "Cell \u001b[1;32mIn[39], line 21\u001b[0m\n\u001b[0;32m     18\u001b[0m         \u001b[38;5;28;01mfor\u001b[39;00m i \u001b[38;5;129;01min\u001b[39;00m \u001b[38;5;28mset\u001b[39m(len_list):\n\u001b[0;32m     19\u001b[0m             \u001b[38;5;28mprint\u001b[39m(i,len_list\u001b[38;5;241m.\u001b[39mcount(I))\n\u001b[1;32m---> 21\u001b[0m split_len(\u001b[43mcsv_data\u001b[49m)\n",
      "\u001b[1;31mNameError\u001b[0m: name 'csv_data' is not defined"
     ]
    }
   ],
   "source": [
    "class mylist(list) :\n",
    "    def remove_all(self,target_value) : # 리스트 안에 밸류가 없을때까지 삭제 반복\n",
    "        while target_value in self :\n",
    "            self.remove(target_value)\n",
    "        return self\n",
    "\n",
    "mylist_1 = mylist(list('abc'))\n",
    "mylist_1.append(1)\n",
    "mylist_1.append(2)\n",
    "print(mylist_1)\n",
    "mylist_1.remove_all('c')\n"
   ]
  }
 ],
 "metadata": {
  "kernelspec": {
   "display_name": "Python 3 (ipykernel)",
   "language": "python",
   "name": "python3"
  },
  "language_info": {
   "codemirror_mode": {
    "name": "ipython",
    "version": 3
   },
   "file_extension": ".py",
   "mimetype": "text/x-python",
   "name": "python",
   "nbconvert_exporter": "python",
   "pygments_lexer": "ipython3",
   "version": "3.10.9"
  }
 },
 "nbformat": 4,
 "nbformat_minor": 5
}
