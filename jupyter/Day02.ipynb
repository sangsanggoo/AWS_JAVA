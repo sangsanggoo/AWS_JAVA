{
 "cells": [
  {
   "cell_type": "code",
   "execution_count": 2,
   "id": "d508ec65",
   "metadata": {},
   "outputs": [
    {
     "name": "stdout",
     "output_type": "stream",
     "text": [
      "myfunction\n"
     ]
    }
   ],
   "source": [
    "#함수\n",
    "def fuction_name():\n",
    "    print('myfunction')\n",
    "    \n",
    "fuction_name()"
   ]
  },
  {
   "cell_type": "code",
   "execution_count": 30,
   "id": "1fbd03f4",
   "metadata": {},
   "outputs": [
    {
     "name": "stdout",
     "output_type": "stream",
     "text": [
      "myfn7 start\n",
      "a b\n"
     ]
    }
   ],
   "source": [
    "# function argument\n",
    "def myfn1():\n",
    "    print('myfn1')\n",
    "    \n",
    "def myfn2(arg1):\n",
    "    print(arg1)\n",
    "def myfn3(arg1 = 'a', arg2 = 'b'):\n",
    "    print(arg1,arg2)\n",
    "def myfn4(*arg1):\n",
    "   for i in arg1:\n",
    "        print(i)\n",
    "        \n",
    "def myfn5(arg1, * ,arg2,arg3) : # *뒤에는 keyword argument로만 쓴다\n",
    "    print(arg1,arg2,arg3)\n",
    "            \n",
    "def myfn6(arg1, / ,arg2,arg3) : # /앞네느 position argument\n",
    "    print(arg1,arg2,arg3)\n",
    "\n",
    "def myfn7(arg1, arg2):\n",
    "    print(arg1)\n",
    "    arg2()\n",
    "#myfn2(1)\n",
    "#myfn3(10,20)\n",
    "#myfn3(arg1 = 20 , arg2 = 10)\n",
    "#myfn3() #default값을 미리 정해두면 그냥 해도 실행이 된다\n",
    "#myfn4(1,2,3,4)\n",
    "#myfn2([1,2,3,4])\n",
    "#myfn5('a',arg2 = 'b',arg3 = 'c')\n",
    "#myfn5('a',arg3 = 'c',arg2 = 'b')\n",
    "#myfn6 ( 'a',arg2 ='b',arg3 = 'c')\n",
    "myfn7('myfn7 start',myfn3)"
   ]
  },
  {
   "cell_type": "code",
   "execution_count": 33,
   "id": "de2862d9",
   "metadata": {},
   "outputs": [
    {
     "name": "stdout",
     "output_type": "stream",
     "text": [
      "(10, 20)\n"
     ]
    }
   ],
   "source": [
    "#function return\n",
    "def myfn8():\n",
    "    pirnt('myfn8')\n",
    "def myfn9():\n",
    "    return 10\n",
    "def myfn10():\n",
    "    return 10,20\n",
    "\n",
    "#ret_value = myfn8()\n",
    "ret_value = myfn10()\n",
    "print(ret_value)"
   ]
  }
 ],
 "metadata": {
  "kernelspec": {
   "display_name": "Python 3 (ipykernel)",
   "language": "python",
   "name": "python3"
  },
  "language_info": {
   "codemirror_mode": {
    "name": "ipython",
    "version": 3
   },
   "file_extension": ".py",
   "mimetype": "text/x-python",
   "name": "python",
   "nbconvert_exporter": "python",
   "pygments_lexer": "ipython3",
   "version": "3.10.9"
  }
 },
 "nbformat": 4,
 "nbformat_minor": 5
}
