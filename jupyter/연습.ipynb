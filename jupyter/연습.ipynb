{
 "cells": [
  {
   "cell_type": "code",
   "execution_count": 40,
   "id": "a3943a50",
   "metadata": {},
   "outputs": [
    {
     "name": "stdout",
     "output_type": "stream",
     "text": [
      "\"울산광역시 1\n",
      " 1\n",
      "광주광역시 6\n",
      "\"대전광역시 1\n",
      "경북 1\n",
      "세종특별자치시 1\n",
      "경기도 59\n",
      "인천광역시 13\n",
      "\"경상남도 2\n",
      "\"경상북도 2\n",
      "\"광주광역시 5\n",
      "대구광역시 6\n",
      "제주특별자치도 10\n",
      "부산광역시 15\n",
      "\"전라북도 1\n",
      "울산광역시 6\n",
      "경상북도 19\n",
      "\"서울특별시 3\n",
      "경상남도 18\n",
      "\"대구광역시 2\n",
      "서울특별시 23\n",
      "충청남도 16\n",
      "\"부산광역시 3\n",
      "\"충청북도 1\n",
      "\"인천광역시 2\n",
      "강원도 16\n",
      "전라남도 20\n",
      "충청북도 11\n",
      "대전광역시 9\n",
      "전라북도 13\n",
      "\"경기도 6\n"
     ]
    }
   ],
   "source": [
    "data_list = []\n",
    "with open('전국건강증진센터표준데이터.csv') as f:\n",
    "    for line in f:\n",
    "        data_list.append(line.split(','))\n",
    "data_list = data_list[1:]\n",
    "center = []\n",
    "center_list = []\n",
    "for i in data_list :\n",
    "    center = i[2].split(' ')\n",
    "    center_list.append(center[0])\n",
    "#print(center_list)\n",
    "\n",
    "center_set = set(center_list)\n",
    "for i in center_set :\n",
    "    print(i, center_list.count(i))"
   ]
  }
 ],
 "metadata": {
  "kernelspec": {
   "display_name": "Python 3 (ipykernel)",
   "language": "python",
   "name": "python3"
  },
  "language_info": {
   "codemirror_mode": {
    "name": "ipython",
    "version": 3
   },
   "file_extension": ".py",
   "mimetype": "text/x-python",
   "name": "python",
   "nbconvert_exporter": "python",
   "pygments_lexer": "ipython3",
   "version": "3.10.9"
  }
 },
 "nbformat": 4,
 "nbformat_minor": 5
}
