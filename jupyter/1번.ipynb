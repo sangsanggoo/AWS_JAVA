{
 "cells": [
  {
   "cell_type": "code",
   "execution_count": 8,
   "id": "22f0cf89",
   "metadata": {},
   "outputs": [],
   "source": [
    "def my_sq_prod(number_list):\n",
    "   return_value = 1;\n",
    "   for number in number_list:\n",
    "        return_value = return_value * number**2\n",
    "   return return_value\n",
    "assert my_sq_prod([1,2,3]) == 36"
   ]
  }
 ],
 "metadata": {
  "kernelspec": {
   "display_name": "Python 3 (ipykernel)",
   "language": "python",
   "name": "python3"
  },
  "language_info": {
   "codemirror_mode": {
    "name": "ipython",
    "version": 3
   },
   "file_extension": ".py",
   "mimetype": "text/x-python",
   "name": "python",
   "nbconvert_exporter": "python",
   "pygments_lexer": "ipython3",
   "version": "3.10.9"
  }
 },
 "nbformat": 4,
 "nbformat_minor": 5
}
