{
 "cells": [
  {
   "cell_type": "code",
   "execution_count": 8,
   "id": "f84916bb",
   "metadata": {},
   "outputs": [
    {
     "name": "stdout",
     "output_type": "stream",
     "text": [
      "[0 1 2 3 4 5 6 7 8 9] [100 101 102 103 104 105 106 107 108 109]\n",
      "[10 10 10 10 10 10 10 10 10 10]\n"
     ]
    }
   ],
   "source": [
    "import numpy as np\n",
    "a1 = np.arange(10)\n",
    "a2 = np.arange(100,110)\n",
    "print(a1,a2)\n",
    "a3 = np.array([5]*10)\n",
    "print(a3+5)"
   ]
  },
  {
   "cell_type": "code",
   "execution_count": 11,
   "id": "73e7d990",
   "metadata": {},
   "outputs": [
    {
     "name": "stdout",
     "output_type": "stream",
     "text": [
      "[  5  11  17  23  29  35  41  47  53  59  65  71  77  83  89  95 101 107\n",
      " 113 119 125 131 137 143 149 155 161 167 173 179 185 191 197 203 209 215\n",
      " 221 227 233 239 245 251 257 263 269 275 281 287 293 299 305]\n"
     ]
    }
   ],
   "source": [
    "# f(x) = 3x +5\n",
    "# x = 0에서 100사이 작수일때 f(x)의 값\n",
    "x = np.arange(0,101,2)\n",
    "print(3*x+5)"
   ]
  },
  {
   "cell_type": "code",
   "execution_count": 22,
   "id": "f55cc26f",
   "metadata": {},
   "outputs": [
    {
     "name": "stdout",
     "output_type": "stream",
     "text": [
      "[[ 0  1  2  3  4  5]\n",
      " [ 6  7  8  9 10 11]\n",
      " [12 13 14 15 16 17]\n",
      " [18 19 20 21 22 23]\n",
      " [24 25 26 27 28 29]]\n",
      "[0 1 2 3 4 5]\n",
      "[[100 101 102 103 104 105]\n",
      " [106 107 108 109 110 111]\n",
      " [112 113 114 115 116 117]\n",
      " [118 119 120 121 122 123]\n",
      " [124 125 126 127 128 129]]\n"
     ]
    }
   ],
   "source": [
    "a2 = np.arange(30).reshape(5,6)\n",
    "print(a2)\n",
    "a3 = np.arange(6)\n",
    "print(a3)\n",
    "a4 = np.arange(100,130).reshape(5,6)\n",
    "print(a4)"
   ]
  },
  {
   "cell_type": "code",
   "execution_count": 26,
   "id": "1b8f40f4",
   "metadata": {},
   "outputs": [
    {
     "name": "stdout",
     "output_type": "stream",
     "text": [
      "[[100 102 104 106 108 110]\n",
      " [112 114 116 118 120 122]\n",
      " [124 126 128 130 132 134]\n",
      " [136 138 140 142 144 146]\n",
      " [148 150 152 154 156 158]]\n"
     ]
    }
   ],
   "source": [
    "print(a2+a4)\n",
    "\n",
    "# a2  : (5,6)\n",
    "# a3  : (6,)\n",
    "# a4  : (5,6)\n"
   ]
  },
  {
   "cell_type": "code",
   "execution_count": 30,
   "id": "74a2ff06",
   "metadata": {},
   "outputs": [
    {
     "name": "stdout",
     "output_type": "stream",
     "text": [
      "[   0    1    2 ... 1677 1678 1679]\n"
     ]
    }
   ],
   "source": [
    "a10 = np.arange(5*6*7*8)\n",
    "print(a10)"
   ]
  },
  {
   "cell_type": "code",
   "execution_count": 45,
   "id": "61eb5a98",
   "metadata": {},
   "outputs": [
    {
     "name": "stdout",
     "output_type": "stream",
     "text": [
      "[[ 0  1  2]\n",
      " [ 3  4  5]\n",
      " [ 6  7  8]\n",
      " [ 9 10 11]\n",
      " [12 13 14]]\n",
      "[ 34 106 178 250 322]\n"
     ]
    }
   ],
   "source": [
    "a15 = np.arange(15).reshape(5,3)\n",
    "print(a15)\n",
    "# axis 3개의 값 중\n",
    "# 첫번째는 곱하기 2\n",
    "# 두번째는 곱하기 10\n",
    "# 세번짼느 곱하기 12\n",
    "# axis1을 따라 합계 구하기\n",
    "a15[:,0]=a15[:,0]*2\n",
    "a15[:,1]=a15[:,1]*10\n",
    "a15[:,2]=a15[:,2]*12\n",
    "a16=np.sum(a15,axis=1)\n",
    "print(a16)\n",
    "      "
   ]
  },
  {
   "cell_type": "code",
   "execution_count": 47,
   "id": "45317694",
   "metadata": {},
   "outputs": [
    {
     "name": "stdout",
     "output_type": "stream",
     "text": [
      "[[ 0  1  2]\n",
      " [ 3  4  5]\n",
      " [ 6  7  8]\n",
      " [ 9 10 11]\n",
      " [12 13 14]]\n",
      "[ 34 106 178 250 322]\n"
     ]
    }
   ],
   "source": [
    "a15 = np.arange(15).reshape(5,3)\n",
    "print(a15)\n",
    "# axis 3개의 값 중\n",
    "# 첫번째는 곱하기 2\n",
    "# 두번째는 곱하기 10\n",
    "# 세번짼느 곱하기 12\n",
    "# axis1을 따라 합계 구하기\n",
    "# 강사님이 한거\n",
    "x = np.array([2,10,12])\n",
    "print(np.sum(a15*x,axis=1))\n"
   ]
  }
 ],
 "metadata": {
  "kernelspec": {
   "display_name": "Python 3 (ipykernel)",
   "language": "python",
   "name": "python3"
  },
  "language_info": {
   "codemirror_mode": {
    "name": "ipython",
    "version": 3
   },
   "file_extension": ".py",
   "mimetype": "text/x-python",
   "name": "python",
   "nbconvert_exporter": "python",
   "pygments_lexer": "ipython3",
   "version": "3.10.9"
  }
 },
 "nbformat": 4,
 "nbformat_minor": 5
}
