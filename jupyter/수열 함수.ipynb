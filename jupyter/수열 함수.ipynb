{
 "cells": [
  {
   "cell_type": "code",
   "execution_count": null,
   "id": "31b1c68f",
   "metadata": {},
   "outputs": [],
   "source": [
    "def fact(n):\n",
    "    ret = 1\n",
    "    while n>1:\n",
    "        ret *= n\n",
    "        n -= 1\n",
    "    return ret\n",
    "\n",
    "def fact_r(n):\n",
    "    if n==2:\n",
    "        return n\n",
    "    return fact_r(n-1)*n\n",
    "\n",
    "def perm_f(n, r):\n",
    "    return fact(n)/fact(n-r)\n",
    "\n",
    "def combi_f(n, r):\n",
    "    return fact(n)/(fact(n-r)*fact(r))\n",
    "\n",
    "def count_with_replacement_order(pool, sel_count):  # all\n",
    "    if sel_count == 1:\n",
    "        return len(pool), [[x] for x in pool]\n",
    "    a, b = count_with_replacement_order(pool, sel_count-1)\n",
    "    r = []\n",
    "    for x in pool:\n",
    "        for b_i in b:\n",
    "            r.append(b_i+[x])\n",
    "    return len(r), r    \n",
    "\n",
    "def perm_pool(pool, r):\n",
    "    if r == 1:\n",
    "        return len(pool), [[x] for x in pool]\n",
    "    ret = []\n",
    "    for x in pool:\n",
    "        pool_copy = [y for y in pool]\n",
    "        pool_copy.remove(x)\n",
    "        a, b = perm_pool(pool_copy, r-1)\n",
    "        for b_i in b:\n",
    "            ret.append(b_i+[x])\n",
    "    return len(ret), ret\n",
    "\n",
    "def combi_pool(pool, r):\n",
    "    a , b = perm_pool(pool, r)\n",
    "    r = []\n",
    "    for b_i in b:\n",
    "        r.append(set(b_i))\n",
    "    f = []\n",
    "    for r_i in r:\n",
    "        if r_i not in f:\n",
    "            f.append(r_i)\n",
    "    return len(f), f"
   ]
  }
 ],
 "metadata": {
  "kernelspec": {
   "display_name": "Python 3 (ipykernel)",
   "language": "python",
   "name": "python3"
  },
  "language_info": {
   "codemirror_mode": {
    "name": "ipython",
    "version": 3
   },
   "file_extension": ".py",
   "mimetype": "text/x-python",
   "name": "python",
   "nbconvert_exporter": "python",
   "pygments_lexer": "ipython3",
   "version": "3.10.9"
  }
 },
 "nbformat": 4,
 "nbformat_minor": 5
}
