{
 "cells": [
  {
   "cell_type": "code",
   "execution_count": 133,
   "id": "fb1a17be",
   "metadata": {},
   "outputs": [],
   "source": [
    "import seaborn as sns\n",
    "import numpy as np\n",
    "import pandas as pd\n",
    "import matplotlib.pyplot as plt\n",
    "from matplotlib import font_manager, rc\n",
    "f_path = \"c:/Windows/Fonts/malgun.ttf\"\n",
    "font_name = font_manager.FontProperties(fname=f_path).get_name()\n",
    "rc('font', family=font_name)\n",
    "#stack,unstack\n",
    "df1 = pd.read_csv('(행렬전환한거)이륜차신고현황_시도별_20230310142628.csv',encoding='cp949',header=1) #0,1 행이 헤더라는뜻\n",
    "df1.drop('시도명(1)',axis=1,inplace=True)\n",
    "#print(df1)\n",
    "\n",
    "df2 = pd.read_csv('(행렬전환안한거)이륜차신고현황_시도별_20230310142608.csv',encoding='cp949',header=[0,1,2])\n",
    "df2.drop(('시도명(1)','시도명(1)','시도명(1)'),axis=1,inplace=True)\n",
    "df2.columns.names = ['시점','소유','크기']\n",
    "\n",
    "a=df2.set_index(('시군구(1)','시군구(1)','시군구(1)'))\n",
    "b = a.stack(level=0)\n",
    "b.index.names=['지역','시점']\n",
    "c = b.swaplevel(0,1)\n",
    "d = c.stack(level=0)\n",
    "e = d.reset_index()\n",
    "e = e.replace('계',np.NaN).dropna()\n",
    "#print(df1)\n",
    "#print(df2)"
   ]
  },
  {
   "cell_type": "code",
   "execution_count": 134,
   "id": "b6605695",
   "metadata": {},
   "outputs": [
    {
     "data": {
      "text/html": [
       "<div>\n",
       "<style scoped>\n",
       "    .dataframe tbody tr th:only-of-type {\n",
       "        vertical-align: middle;\n",
       "    }\n",
       "\n",
       "    .dataframe tbody tr th {\n",
       "        vertical-align: top;\n",
       "    }\n",
       "\n",
       "    .dataframe thead th {\n",
       "        text-align: right;\n",
       "    }\n",
       "</style>\n",
       "<table border=\"1\" class=\"dataframe\">\n",
       "  <thead>\n",
       "    <tr style=\"text-align: right;\">\n",
       "      <th>크기</th>\n",
       "      <th>년</th>\n",
       "      <th>월</th>\n",
       "      <th>시점</th>\n",
       "      <th>지역</th>\n",
       "      <th>소유</th>\n",
       "      <th>경형</th>\n",
       "      <th>대형</th>\n",
       "      <th>소계</th>\n",
       "      <th>소형</th>\n",
       "      <th>중형</th>\n",
       "    </tr>\n",
       "  </thead>\n",
       "  <tbody>\n",
       "    <tr>\n",
       "      <th>4</th>\n",
       "      <td>2023</td>\n",
       "      <td>01</td>\n",
       "      <td>2023.01</td>\n",
       "      <td>강서구</td>\n",
       "      <td>관용</td>\n",
       "      <td>3</td>\n",
       "      <td>0</td>\n",
       "      <td>51</td>\n",
       "      <td>8</td>\n",
       "      <td>40</td>\n",
       "    </tr>\n",
       "    <tr>\n",
       "      <th>5</th>\n",
       "      <td>2023</td>\n",
       "      <td>01</td>\n",
       "      <td>2023.01</td>\n",
       "      <td>강서구</td>\n",
       "      <td>자가용</td>\n",
       "      <td>361</td>\n",
       "      <td>552</td>\n",
       "      <td>5868</td>\n",
       "      <td>1787</td>\n",
       "      <td>3168</td>\n",
       "    </tr>\n",
       "    <tr>\n",
       "      <th>7</th>\n",
       "      <td>2023</td>\n",
       "      <td>01</td>\n",
       "      <td>2023.01</td>\n",
       "      <td>중구</td>\n",
       "      <td>관용</td>\n",
       "      <td>0</td>\n",
       "      <td>0</td>\n",
       "      <td>89</td>\n",
       "      <td>20</td>\n",
       "      <td>69</td>\n",
       "    </tr>\n",
       "    <tr>\n",
       "      <th>8</th>\n",
       "      <td>2023</td>\n",
       "      <td>01</td>\n",
       "      <td>2023.01</td>\n",
       "      <td>중구</td>\n",
       "      <td>자가용</td>\n",
       "      <td>99</td>\n",
       "      <td>141</td>\n",
       "      <td>2928</td>\n",
       "      <td>658</td>\n",
       "      <td>2030</td>\n",
       "    </tr>\n",
       "    <tr>\n",
       "      <th>10</th>\n",
       "      <td>2023</td>\n",
       "      <td>01</td>\n",
       "      <td>2023.01</td>\n",
       "      <td>금정구</td>\n",
       "      <td>관용</td>\n",
       "      <td>5</td>\n",
       "      <td>2</td>\n",
       "      <td>79</td>\n",
       "      <td>4</td>\n",
       "      <td>68</td>\n",
       "    </tr>\n",
       "  </tbody>\n",
       "</table>\n",
       "</div>"
      ],
      "text/plain": [
       "크기     년   월       시점   지역   소유   경형   대형    소계    소형    중형\n",
       "4   2023  01  2023.01  강서구   관용    3    0    51     8    40\n",
       "5   2023  01  2023.01  강서구  자가용  361  552  5868  1787  3168\n",
       "7   2023  01  2023.01   중구   관용    0    0    89    20    69\n",
       "8   2023  01  2023.01   중구  자가용   99  141  2928   658  2030\n",
       "10  2023  01  2023.01  금정구   관용    5    2    79     4    68"
      ]
     },
     "execution_count": 134,
     "metadata": {},
     "output_type": "execute_result"
    }
   ],
   "source": [
    "e.insert(0,'년',e['시점'].apply(lambda x: str(x).split('.')[0]))\n",
    "e.insert(1,'월',e['시점'].apply(lambda x: str(x).split('.')[1]))\n",
    "e.head()"
   ]
  },
  {
   "cell_type": "code",
   "execution_count": 1,
   "id": "47f36960",
   "metadata": {},
   "outputs": [
    {
     "ename": "NameError",
     "evalue": "name 'sns' is not defined",
     "output_type": "error",
     "traceback": [
      "\u001b[1;31m---------------------------------------------------------------------------\u001b[0m",
      "\u001b[1;31mNameError\u001b[0m                                 Traceback (most recent call last)",
      "Cell \u001b[1;32mIn[1], line 1\u001b[0m\n\u001b[1;32m----> 1\u001b[0m \u001b[43msns\u001b[49m\u001b[38;5;241m.\u001b[39mcatplot(data\u001b[38;5;241m=\u001b[39me,x\u001b[38;5;241m=\u001b[39m\u001b[38;5;124m'\u001b[39m\u001b[38;5;124m월\u001b[39m\u001b[38;5;124m'\u001b[39m,y\u001b[38;5;241m=\u001b[39m\u001b[38;5;124m'\u001b[39m\u001b[38;5;124m소유\u001b[39m\u001b[38;5;124m'\u001b[39m)\n",
      "\u001b[1;31mNameError\u001b[0m: name 'sns' is not defined"
     ]
    }
   ],
   "source": [
    "sns.catplot(data=e,x='월',y='소유')"
   ]
  },
  {
   "cell_type": "code",
   "execution_count": null,
   "id": "149792dd",
   "metadata": {},
   "outputs": [],
   "source": []
  }
 ],
 "metadata": {
  "kernelspec": {
   "display_name": "Python 3 (ipykernel)",
   "language": "python",
   "name": "python3"
  },
  "language_info": {
   "codemirror_mode": {
    "name": "ipython",
    "version": 3
   },
   "file_extension": ".py",
   "mimetype": "text/x-python",
   "name": "python",
   "nbconvert_exporter": "python",
   "pygments_lexer": "ipython3",
   "version": "3.10.9"
  }
 },
 "nbformat": 4,
 "nbformat_minor": 5
}
