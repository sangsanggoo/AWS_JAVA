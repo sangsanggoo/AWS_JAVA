{
 "cells": [
  {
   "cell_type": "markdown",
   "metadata": {
    "id": "br-3M1JLyC5r"
   },
   "source": [
    "# 시도별 화재사건 현황분석\n",
    "- 2010~2021년 시도별 건수\n",
    "- 사건 건수와 사망자 상관관계\n",
    "- 2021년 기준 재산 피해가 가장 높은 시도"
   ]
  },
  {
   "cell_type": "code",
   "execution_count": 5,
   "metadata": {
    "colab": {
     "base_uri": "https://localhost:8080/",
     "height": 0
    },
    "id": "HRS__pRtxQce",
    "outputId": "65a69111-6244-464e-c754-05f8aac91121"
   },
   "outputs": [
    {
     "ename": "ModuleNotFoundError",
     "evalue": "No module named 'google.colab'",
     "output_type": "error",
     "traceback": [
      "\u001b[1;31m---------------------------------------------------------------------------\u001b[0m",
      "\u001b[1;31mModuleNotFoundError\u001b[0m                       Traceback (most recent call last)",
      "Cell \u001b[1;32mIn[5], line 1\u001b[0m\n\u001b[1;32m----> 1\u001b[0m \u001b[38;5;28;01mfrom\u001b[39;00m \u001b[38;5;21;01mgoogle\u001b[39;00m\u001b[38;5;21;01m.\u001b[39;00m\u001b[38;5;21;01mcolab\u001b[39;00m \u001b[38;5;28;01mimport\u001b[39;00m drive\n\u001b[0;32m      2\u001b[0m drive\u001b[38;5;241m.\u001b[39mmount(\u001b[38;5;124m'\u001b[39m\u001b[38;5;124m/content/drive\u001b[39m\u001b[38;5;124m'\u001b[39m)\n",
      "\u001b[1;31mModuleNotFoundError\u001b[0m: No module named 'google.colab'"
     ]
    }
   ],
   "source": [
    "from google.colab import drive\n",
    "drive.mount('/content/drive')"
   ]
  },
  {
   "cell_type": "code",
   "execution_count": 6,
   "metadata": {
    "id": "Epo9pORlxq5e"
   },
   "outputs": [],
   "source": [
    "import pandas as pd\n",
    "import numpy as np\n",
    "import matplotlib.pyplot as plt\n",
    "import seaborn as sns"
   ]
  },
  {
   "cell_type": "code",
   "execution_count": 7,
   "metadata": {
    "colab": {
     "base_uri": "https://localhost:8080/",
     "height": 0
    },
    "id": "Yy2px3pD3orC",
    "outputId": "d42d2706-d2a8-4e16-c52a-f4e0bb5fba84"
   },
   "outputs": [
    {
     "name": "stderr",
     "output_type": "stream",
     "text": [
      "'sudo'은(는) 내부 또는 외부 명령, 실행할 수 있는 프로그램, 또는\n",
      "배치 파일이 아닙니다.\n",
      "'sudo'은(는) 내부 또는 외부 명령, 실행할 수 있는 프로그램, 또는\n",
      "배치 파일이 아닙니다.\n",
      "'rm'은(는) 내부 또는 외부 명령, 실행할 수 있는 프로그램, 또는\n",
      "배치 파일이 아닙니다.\n"
     ]
    }
   ],
   "source": [
    "!sudo apt-get install -y fonts-nanum\n",
    "!sudo fc-cache -fv\n",
    "!rm ~/.cache/matplotlib -rf"
   ]
  },
  {
   "cell_type": "code",
   "execution_count": 8,
   "metadata": {
    "id": "4NpQk2lh3saJ"
   },
   "outputs": [],
   "source": [
    "plt.rc('font', family='NanumBarunGothic')"
   ]
  },
  {
   "cell_type": "code",
   "execution_count": null,
   "metadata": {
    "colab": {
     "base_uri": "https://localhost:8080/",
     "height": 206
    },
    "id": "3TrzWhVryAn-",
    "outputId": "31e26741-be8d-4309-a4e3-29a37ed23f8e"
   },
   "outputs": [],
   "source": [
    "pd_data = pd.read_csv('/content/drive/MyDrive/코리아_IT/데이터분석/시도별_화재발생_현황_총괄__20230307152937.csv', encoding = 'cp949')\n",
    "pd_data.head()"
   ]
  },
  {
   "cell_type": "code",
   "execution_count": null,
   "metadata": {
    "colab": {
     "base_uri": "https://localhost:8080/",
     "height": 0
    },
    "id": "Z9jYFh1QyWVr",
    "outputId": "1d494252-1162-4b65-b2bd-78373248012a"
   },
   "outputs": [],
   "source": [
    "pd_data.sort_values('행정구역별', inplace=True)\n",
    "#print(pd_data.head())\n",
    "print(pd_data.groupby('행정구역별')['시점'].count())\n",
    "#print(pd_data['시점'].value_counts())"
   ]
  },
  {
   "cell_type": "code",
   "execution_count": null,
   "metadata": {
    "colab": {
     "base_uri": "https://localhost:8080/",
     "height": 363
    },
    "id": "H40f_2nozdz9",
    "outputId": "82cfb8bc-bfc9-41f6-d774-70491f7f7f77"
   },
   "outputs": [],
   "source": [
    "filter1 = pd_data['행정구역별'] == '세종특별자치시'\n",
    "pd_data[filter1].sort_values('시점')"
   ]
  },
  {
   "cell_type": "markdown",
   "metadata": {
    "id": "YA08MzlI1ESK"
   },
   "source": [
    "세종시가 2012년 부터 정식으로 출범하였기에 2010,2011년의 자료가 없다.<br>\n",
    "그러한 상황을 고려하여 2012년 부터 2021년까지의 사건을 기준으로 한다."
   ]
  },
  {
   "cell_type": "markdown",
   "metadata": {
    "id": "jsgonveW_ovG"
   },
   "source": [
    "## 시도별 사건 총 합산"
   ]
  },
  {
   "cell_type": "code",
   "execution_count": 4,
   "metadata": {
    "colab": {
     "base_uri": "https://localhost:8080/",
     "height": 557
    },
    "id": "ozxyrH6B0uz-",
    "outputId": "642e0b43-b8ab-4b4e-a590-e70d9b36732c"
   },
   "outputs": [
    {
     "ename": "NameError",
     "evalue": "name 'pd_data' is not defined",
     "output_type": "error",
     "traceback": [
      "\u001b[1;31m---------------------------------------------------------------------------\u001b[0m",
      "\u001b[1;31mNameError\u001b[0m                                 Traceback (most recent call last)",
      "Cell \u001b[1;32mIn[4], line 1\u001b[0m\n\u001b[1;32m----> 1\u001b[0m filter2 \u001b[38;5;241m=\u001b[39m \u001b[43mpd_data\u001b[49m[\u001b[38;5;124m'\u001b[39m\u001b[38;5;124m시점\u001b[39m\u001b[38;5;124m'\u001b[39m] \u001b[38;5;241m>\u001b[39m \u001b[38;5;241m2011\u001b[39m\n\u001b[0;32m      2\u001b[0m df1 \u001b[38;5;241m=\u001b[39m pd_data[filter2]\n\u001b[0;32m      3\u001b[0m df1\u001b[38;5;241m.\u001b[39msort_values([\u001b[38;5;124m'\u001b[39m\u001b[38;5;124m행정구역별\u001b[39m\u001b[38;5;124m'\u001b[39m,\u001b[38;5;124m'\u001b[39m\u001b[38;5;124m시점\u001b[39m\u001b[38;5;124m'\u001b[39m], inplace\u001b[38;5;241m=\u001b[39m\u001b[38;5;28;01mTrue\u001b[39;00m)\n",
      "\u001b[1;31mNameError\u001b[0m: name 'pd_data' is not defined"
     ]
    }
   ],
   "source": [
    "filter2 = pd_data['시점'] > 2011\n",
    "df1 = pd_data[filter2]\n",
    "df1.sort_values(['행정구역별','시점'], inplace=True)\n",
    "numbers = [(lambda x: x)(i) for i in range(len(df1))]\n",
    "print(numbers)\n",
    "df1.index = numbers\n",
    "df1.head(12)"
   ]
  },
  {
   "cell_type": "code",
   "execution_count": null,
   "metadata": {
    "colab": {
     "base_uri": "https://localhost:8080/",
     "height": 535
    },
    "id": "i_NwFglrAoGX",
    "outputId": "c68893b4-a977-4054-a696-216ced808fae"
   },
   "outputs": [],
   "source": [
    "df1.loc[0, '사망 (명)']\n",
    "\n",
    "for i in range(len(df1)):\n",
    "    if '-' in df1.loc[i, '사망 (명)']:\n",
    "        df1.loc[i, '사망 (명)'] = '0'\n",
    "\n",
    "df1 = df1.astype({'사망 (명)' : 'int'})\n",
    "df1"
   ]
  },
  {
   "cell_type": "code",
   "execution_count": null,
   "metadata": {
    "colab": {
     "base_uri": "https://localhost:8080/",
     "height": 0
    },
    "id": "uL2sam7S1tXP",
    "outputId": "62c5fd72-479f-42aa-d438-38f778d1334c"
   },
   "outputs": [],
   "source": [
    "list_value = list(df1.groupby('행정구역별')['건수 (건)'].sum().values)\n",
    "print(len(list_value))\n",
    "list_index = list(df1.groupby('행정구역별')['건수 (건)'].sum().index)\n",
    "print(len(list_index))\n",
    "list_death = list(df1.groupby('행정구역별')['사망 (명)'].sum().values)"
   ]
  },
  {
   "cell_type": "code",
   "execution_count": null,
   "metadata": {
    "colab": {
     "base_uri": "https://localhost:8080/",
     "height": 601
    },
    "id": "0uV--voQ7-Qw",
    "outputId": "5ef18159-249e-49ae-dff3-2006a8a0aad5"
   },
   "outputs": [],
   "source": [
    "event1 = pd.DataFrame(zip(list_index,list_value,list_death))\n",
    "event1.columns = ['행정구역', '건수', '사망자']\n",
    "event1.sort_values('건수',ascending=False, inplace=True)\n",
    "numbers = [(lambda x: x)(i) for i in range(len(event1))]\n",
    "print(numbers)\n",
    "event1.index = numbers\n",
    "event1"
   ]
  },
  {
   "cell_type": "code",
   "execution_count": null,
   "metadata": {
    "colab": {
     "base_uri": "https://localhost:8080/",
     "height": 0
    },
    "id": "uqzrLQa3Nted",
    "outputId": "3adfa886-8cc0-4d33-cc8e-f6759e87950e"
   },
   "outputs": [],
   "source": [
    "lista = list(event1['건수'])\n",
    "print(lista)"
   ]
  },
  {
   "cell_type": "code",
   "execution_count": null,
   "metadata": {
    "colab": {
     "base_uri": "https://localhost:8080/",
     "height": 429
    },
    "id": "Rert6rkn3W-7",
    "outputId": "32b87309-fead-44c6-dbc8-8a38e5020973"
   },
   "outputs": [],
   "source": [
    "fig = sns.catplot(data=event1, kind='bar', x=\"행정구역\", y=\"건수\")\n",
    "fig.fig.set_size_inches(20,6)"
   ]
  },
  {
   "cell_type": "code",
   "execution_count": null,
   "metadata": {
    "colab": {
     "base_uri": "https://localhost:8080/",
     "height": 0
    },
    "id": "9AO1Xa_TFZgK",
    "outputId": "9a23d8ad-895a-40e1-e8f9-e7a8bb3c6d3b"
   },
   "outputs": [],
   "source": [
    "df1.columns"
   ]
  },
  {
   "cell_type": "code",
   "execution_count": null,
   "metadata": {
    "colab": {
     "base_uri": "https://localhost:8080/",
     "height": 360
    },
    "id": "bO5ozIw2ALUh",
    "outputId": "80c4e8f8-b36e-4933-b218-0019519e73a0"
   },
   "outputs": [],
   "source": [
    "sns.heatmap(df1[['건수 (건)', '사망 (명)', '부상 (명)', '재산피해(계) (천원)', '부동산 (천원)','동산 (천원)' ]].corr(),\n",
    "            annot=True, cmap='YlOrRd')"
   ]
  },
  {
   "cell_type": "code",
   "execution_count": null,
   "metadata": {
    "id": "t9eMLh24KDl5"
   },
   "outputs": [],
   "source": [
    "colors = sns.color_palette('pastel')[0:5]"
   ]
  },
  {
   "cell_type": "code",
   "execution_count": null,
   "metadata": {
    "colab": {
     "base_uri": "https://localhost:8080/",
     "height": 810
    },
    "id": "hTFz1KwDKLm4",
    "outputId": "57bb093b-611c-411b-ca13-2fe09603c53c"
   },
   "outputs": [],
   "source": [
    "plt.pie(list_value, labels = list_index, radius = 4.0 , textprops ={\"fontsize\":15},startangle = 270, colors = colors, autopct='%.0f%%')\n",
    "plt.show()"
   ]
  },
  {
   "cell_type": "code",
   "execution_count": null,
   "metadata": {
    "colab": {
     "base_uri": "https://localhost:8080/",
     "height": 335
    },
    "id": "tqNwP-FqOyPD",
    "outputId": "003890bf-4767-4a2e-dfcb-c2bcf96fcef9"
   },
   "outputs": [],
   "source": [
    "sns.lineplot(data=df1, x=df1[filter2]['시점'], y=df1[filter2]['사망 (명)'])"
   ]
  },
  {
   "cell_type": "markdown",
   "metadata": {
    "id": "dZqnCSBQ-2j7"
   },
   "source": [
    "## 총인구대비 사망자 비율 시각화"
   ]
  },
  {
   "cell_type": "code",
   "execution_count": null,
   "metadata": {
    "colab": {
     "base_uri": "https://localhost:8080/",
     "height": 582
    },
    "id": "YyWR3dET34PF",
    "outputId": "c555d9b6-8090-4d7d-f157-afe39b2e7c66"
   },
   "outputs": [],
   "source": [
    "# 총 인구 대비 사망자비율\n",
    "\n",
    "human = pd.read_csv('/content/drive/MyDrive/코리아_IT/데이터분석/시도별_주민등록_인구현황_20230308152235.csv',encoding='cp949')\n",
    "human.rename(columns={'행정구역명':'행정구역'}, inplace=True)\n",
    "human"
   ]
  },
  {
   "cell_type": "code",
   "execution_count": null,
   "metadata": {
    "colab": {
     "base_uri": "https://localhost:8080/",
     "height": 582
    },
    "id": "Wy6b1Wgl7OIE",
    "outputId": "8497c99b-e774-4c9a-9807-361e50a82e96"
   },
   "outputs": [],
   "source": [
    "event1"
   ]
  },
  {
   "cell_type": "code",
   "execution_count": null,
   "metadata": {
    "colab": {
     "base_uri": "https://localhost:8080/",
     "height": 36
    },
    "id": "p899R6UD5Q77",
    "outputId": "9b7863f9-7b91-4d67-f9ba-5589cd26f8e6"
   },
   "outputs": [],
   "source": [
    "event1.loc[0,'행정구역'][0:2]"
   ]
  },
  {
   "cell_type": "code",
   "execution_count": null,
   "metadata": {
    "colab": {
     "base_uri": "https://localhost:8080/",
     "height": 582
    },
    "id": "-df9LtjW5TnO",
    "outputId": "91666a6f-4acd-4d32-ba22-2377282cd5da"
   },
   "outputs": [],
   "source": [
    "for i in range(len(event1)):\n",
    "    if event1.loc[i, '행정구역'] == '경상남도':\n",
    "        event1.loc[i, '행정구역'] ='경남'\n",
    "    elif event1.loc[i, '행정구역'] == '경상북도':\n",
    "        event1.loc[i, '행정구역'] ='경북'\n",
    "    else:\n",
    "        event1.loc[i, '행정구역'] = event1.loc[i,'행정구역'][0:2]\n",
    "\n",
    "event1"
   ]
  },
  {
   "cell_type": "code",
   "execution_count": null,
   "metadata": {
    "colab": {
     "base_uri": "https://localhost:8080/",
     "height": 457
    },
    "id": "z8xDafIl6S05",
    "outputId": "935b02ed-7fa2-4a17-cd86-85a86960e251"
   },
   "outputs": [],
   "source": [
    "df2 = pd.merge(event1, human, on=\"행정구역\")\n",
    "df2"
   ]
  },
  {
   "cell_type": "code",
   "execution_count": null,
   "metadata": {
    "id": "Er8RjDY8788J"
   },
   "outputs": [],
   "source": [
    "df2['인구대비사망자'] = df2['사망자']/df2['총인구']*100"
   ]
  },
  {
   "cell_type": "code",
   "execution_count": null,
   "metadata": {
    "colab": {
     "base_uri": "https://localhost:8080/",
     "height": 475
    },
    "id": "yCrcSwvI8JOF",
    "outputId": "7160f80f-032b-4837-81ca-2e4e3e29f45a"
   },
   "outputs": [],
   "source": [
    "df2.sort_values('인구대비사망자',ascending=False, inplace=True)\n",
    "numbers = [(lambda x: x)(i) for i in range(len(df2))]\n",
    "print(numbers)\n",
    "df2.index = numbers\n",
    "df2"
   ]
  },
  {
   "cell_type": "markdown",
   "metadata": {
    "id": "RsUzxPoUEIQy"
   },
   "source": [
    "순수 사망자 수를 따지면 경기, 서울, 경남 순이며 <br>\n",
    "인구대비사망자 비율을 보았을 때 강원, 경남, 제주 순이다. <br>\n",
    "그렇다면 사망자 수와 인구수와의 상관관계를 살펴보겠다."
   ]
  },
  {
   "cell_type": "code",
   "execution_count": null,
   "metadata": {
    "colab": {
     "base_uri": "https://localhost:8080/",
     "height": 384
    },
    "id": "aTS0unPvDlBb",
    "outputId": "41c8c612-752b-4a66-b6a8-2358c188bc4a"
   },
   "outputs": [],
   "source": [
    "fig = sns.catplot(data=event1, kind='bar', x=\"행정구역\", y=\"사망자\")\n",
    "fig.fig.set_size_inches(20,6)"
   ]
  },
  {
   "cell_type": "code",
   "execution_count": null,
   "metadata": {
    "colab": {
     "base_uri": "https://localhost:8080/",
     "height": 391
    },
    "id": "iiuSWcf_93GO",
    "outputId": "ec881dc6-ba52-4790-ff65-4bb787ca1405"
   },
   "outputs": [],
   "source": [
    "fig = sns.catplot(data=df2, kind='bar', x=\"행정구역\", y=\"인구대비사망자\")\n",
    "fig.fig.set_size_inches(20,6)"
   ]
  },
  {
   "cell_type": "markdown",
   "metadata": {
    "id": "3XfHF7vRE5sr"
   },
   "source": [
    "인구가 많을 수록 사망자가 많다는 상관관계를 얻어내었다."
   ]
  },
  {
   "cell_type": "code",
   "execution_count": null,
   "metadata": {
    "colab": {
     "base_uri": "https://localhost:8080/",
     "height": 288
    },
    "id": "ExFJyFA9EjGl",
    "outputId": "047343e6-a164-4296-f1f9-4bee80a654a5"
   },
   "outputs": [],
   "source": [
    "sns.heatmap(df2[['사망자', '총인구']].corr(),\n",
    "            annot=True, cmap='YlOrRd')"
   ]
  },
  {
   "cell_type": "code",
   "execution_count": null,
   "metadata": {
    "colab": {
     "base_uri": "https://localhost:8080/",
     "height": 206
    },
    "id": "NptlCqMhFvbE",
    "outputId": "510d5290-61f2-45fc-c65c-49a430d5a76d"
   },
   "outputs": [],
   "source": [
    "pd_data.head()"
   ]
  },
  {
   "cell_type": "code",
   "execution_count": null,
   "metadata": {
    "colab": {
     "base_uri": "https://localhost:8080/",
     "height": 373
    },
    "id": "SQMCjWrxEuP_",
    "outputId": "29c7fda0-7fad-42dc-f625-0fe3dab36307"
   },
   "outputs": [],
   "source": [
    "fig = sns.catplot(data=pd_data, x = '행정구역별', y = '부상 (명)', hue='시점' ,dodge=True, kind='swarm')\n",
    "fig.fig.set_size_inches(20,6)"
   ]
  },
  {
   "cell_type": "code",
   "execution_count": null,
   "metadata": {
    "colab": {
     "base_uri": "https://localhost:8080/",
     "height": 1000
    },
    "id": "rkC2eMcLF-3w",
    "outputId": "a5ec6589-41a8-411d-ebaf-fbdfc91590a5"
   },
   "outputs": [],
   "source": [
    "sns.pairplot(pd_data, hue='시점')"
   ]
  },
  {
   "cell_type": "code",
   "execution_count": null,
   "metadata": {
    "id": "MrPt6dXHH4NQ"
   },
   "outputs": [],
   "source": [
    "sns.heatmap(pd_data)"
   ]
  }
 ],
 "metadata": {
  "colab": {
   "provenance": []
  },
  "kernelspec": {
   "display_name": "Python 3 (ipykernel)",
   "language": "python",
   "name": "python3"
  },
  "language_info": {
   "codemirror_mode": {
    "name": "ipython",
    "version": 3
   },
   "file_extension": ".py",
   "mimetype": "text/x-python",
   "name": "python",
   "nbconvert_exporter": "python",
   "pygments_lexer": "ipython3",
   "version": "3.10.9"
  }
 },
 "nbformat": 4,
 "nbformat_minor": 1
}
