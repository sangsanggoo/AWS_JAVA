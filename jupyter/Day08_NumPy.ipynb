{
 "cells": [
  {
   "cell_type": "code",
   "execution_count": 4,
   "id": "d25822b6",
   "metadata": {},
   "outputs": [],
   "source": [
    "import numpy as np"
   ]
  },
  {
   "cell_type": "code",
   "execution_count": 10,
   "id": "398dc9a3",
   "metadata": {},
   "outputs": [
    {
     "name": "stdout",
     "output_type": "stream",
     "text": [
      "[1, 2, 3, 4, 5]\n",
      "[1 2 3 4 5]\n",
      "<class 'numpy.ndarray'>\n"
     ]
    }
   ],
   "source": [
    "a1 = np.array([1,2,3,4,5])\n",
    "list1 = [1,2,3,4,5]\n",
    "print(list1)\n",
    "print(a1)\n",
    "print(type(a1))"
   ]
  },
  {
   "cell_type": "code",
   "execution_count": 22,
   "id": "e9f6dcad",
   "metadata": {},
   "outputs": [
    {
     "name": "stdout",
     "output_type": "stream",
     "text": [
      "[0 1 2 3 4 5 6 7 8 9]\n",
      "100이하 3의 배수 :  [ 3  6  9 12 15 18 21 24 27 30 33 36 39 42 45 48 51 54 57 60 63 66 69 72\n",
      " 75 78 81 84 87 90 93 96 99]\n",
      "[0.  0.3 0.6 0.9 1.2 1.5 1.8 2.1 2.4 2.7 3.  3.3 3.6 3.9 4.2 4.5 4.8 5.1\n",
      " 5.4 5.7 6.  6.3 6.6 6.9 7.2 7.5 7.8 8.1 8.4 8.7 9.  9.3 9.6 9.9]\n"
     ]
    }
   ],
   "source": [
    "a2 = np.arange(10)\n",
    "print(a2)\n",
    "# 100이하 3의 배수\n",
    "a3 = np.arange(3,100,3)\n",
    "print('100이하 3의 배수 : ',a3)\n",
    "\n",
    "# 1에서부터 10아래 0.5씩 증가는 숫자 \n",
    "a4 = np.arange(0,10,0.3)\n",
    "print(a4)\n",
    "\n",
    "# lista= [1 for i in range(1.3,10,0.5)] 실수는 안됨"
   ]
  },
  {
   "cell_type": "code",
   "execution_count": 26,
   "id": "a1633c4b",
   "metadata": {},
   "outputs": [
    {
     "name": "stdout",
     "output_type": "stream",
     "text": [
      "[ 0.          0.71428571  1.42857143  2.14285714  2.85714286  3.57142857\n",
      "  4.28571429  5.          5.71428571  6.42857143  7.14285714  7.85714286\n",
      "  8.57142857  9.28571429 10.        ]\n"
     ]
    }
   ],
   "source": [
    "a4 = np.linspace(0,10,15) #0에서 10까지 15개로 나누기\n",
    "print(a4)"
   ]
  },
  {
   "cell_type": "code",
   "execution_count": 30,
   "id": "f0566172",
   "metadata": {},
   "outputs": [
    {
     "name": "stdout",
     "output_type": "stream",
     "text": [
      "[0. 0. 0. 0. 0.]\n",
      "[1. 1. 1. 1. 1.]\n"
     ]
    }
   ],
   "source": [
    "a5 = np.zeros(5)\n",
    "print(a5)\n",
    "\n",
    "a6 = np.ones(5)\n",
    "print(a6)"
   ]
  },
  {
   "cell_type": "code",
   "execution_count": 35,
   "id": "df8c74b3",
   "metadata": {},
   "outputs": [
    {
     "name": "stdout",
     "output_type": "stream",
     "text": [
      "[1.  2.  3.4 4.2]\n",
      "['1' '2' 'abc' 'def']\n"
     ]
    }
   ],
   "source": [
    "lista= [1,2,3.4,4.2]\n",
    "a7 = np.array(lista)\n",
    "print(a7)\n",
    "\n",
    "listb = [1,2,'abc','def']\n",
    "a8 = np.array(listb)\n",
    "print(a8)"
   ]
  },
  {
   "cell_type": "code",
   "execution_count": 41,
   "id": "448254c3",
   "metadata": {},
   "outputs": [
    {
     "name": "stdout",
     "output_type": "stream",
     "text": [
      "float64\n",
      "1\n",
      "(4,)\n",
      "4\n",
      "8\n",
      "<memory at 0x00000157C73EF100>\n"
     ]
    }
   ],
   "source": [
    "print(a7.dtype)\n",
    "print(a7.ndim)\n",
    "print(a7.shape)\n",
    "print(a7.size)\n",
    "\n",
    "print(a7.itemsize)\n",
    "print(a7.data)"
   ]
  },
  {
   "cell_type": "code",
   "execution_count": 53,
   "id": "c7bb85f4",
   "metadata": {},
   "outputs": [
    {
     "name": "stdout",
     "output_type": "stream",
     "text": [
      "[10 15 20 25 30 35 40 45 50 55 60 65 70 75 80 85 90 95]\n",
      "[15 25 35 45 55 65 75 85 95]\n",
      "35\n",
      "[10 15 20 25]\n",
      "[False  True False  True False  True False  True False  True False  True\n",
      " False  True False  True False  True]\n"
     ]
    }
   ],
   "source": [
    "a10 = np.arange(10,100,5)\n",
    "print(a10)\n",
    "print(a10[a10%10==5])\n",
    "#특정 인덱스\n",
    "print(a10[5])\n",
    "#스타트, 스탑\n",
    "print(a10[:4])\n",
    "x = (a10%10 ==5)\n",
    "print(x)\n",
    "\n"
   ]
  },
  {
   "cell_type": "code",
   "execution_count": null,
   "id": "a0242d63",
   "metadata": {},
   "outputs": [],
   "source": [
    "a"
   ]
  }
 ],
 "metadata": {
  "kernelspec": {
   "display_name": "Python 3 (ipykernel)",
   "language": "python",
   "name": "python3"
  },
  "language_info": {
   "codemirror_mode": {
    "name": "ipython",
    "version": 3
   },
   "file_extension": ".py",
   "mimetype": "text/x-python",
   "name": "python",
   "nbconvert_exporter": "python",
   "pygments_lexer": "ipython3",
   "version": "3.10.9"
  }
 },
 "nbformat": 4,
 "nbformat_minor": 5
}
