{
 "cells": [
  {
   "cell_type": "code",
   "execution_count": 12,
   "id": "915dcf34",
   "metadata": {},
   "outputs": [],
   "source": [
    "import numpy as np\n",
    "def my_split(s):\n",
    "    block_start = False\n",
    "    start_index = 0\n",
    "    ret_list=[]\n",
    "    for i, c in enumerate(s):\n",
    "        if block_start==False:\n",
    "            if c=='+':\n",
    "                ret_list.append(s[start_index:i])\n",
    "                start_index=i+1\n",
    "            elif c=='\"':\n",
    "                block_start=True\n",
    "                start_index = i\n",
    "        else:\n",
    "            if c=='\"':\n",
    "                block_start=False\n",
    "    if s[-1]!='+':\n",
    "        ret_list.append(s[start_index:])\n",
    "    return ret_list\n"
   ]
  },
  {
   "cell_type": "code",
   "execution_count": 15,
   "id": "21ba864e",
   "metadata": {},
   "outputs": [
    {
     "name": "stdout",
     "output_type": "stream",
     "text": [
      "[['로컬푸드인증번호,인증유효시작일자,인증유효종료일자,인증취소일자,사업장도로명주소,사업장지번주소,생산지도로명주소,생산지지번주소,품목명,재배면적,재배규모,인증부여일자,사업자명,사업자등록번호,전화번호,관리기관명,데이터기준일자,제공기관코드,제공기관명'], ['HYG-162,2021-09-01,2031-09-01,,경상남도 함양군 수동면 산업단지길 209', '경상남도 함양군 수동면 우명하교로 174,,경상남도 함양군 병곡면 다볕길 94,,칡청', '달맞이꽃씨유,,122,2021-09-01,청운당농산,,070-7779-2122,경상남도 함양군청,2022-11-23,5460000,경상남도 함양군'], ['HYG-163,2021-09-01,2031-09-01,,경상남도 함양군 수동면 산업단지길 209', '경상남도 함양군 수동면 우명하교로 174,,경상남도 함양군 수동면 사근산성길 35-4,,굼벵이환,,123,2021-09-01,굼찬농장,,070-7779-2122,경상남도 함양군청,2022-11-23,5460000,경상남도 함양군']]\n"
     ]
    }
   ],
   "source": [
    "\n",
    "data_list=[]\n",
    "with open('전국로컬푸드인증정보표준데이터.csv') as f :\n",
    "    for line in f :\n",
    "        data_list.append(my_split(line[:-1]))\n",
    "print(data_list[:3])"
   ]
  },
  {
   "cell_type": "code",
   "execution_count": 16,
   "id": "78f975b9",
   "metadata": {},
   "outputs": [
    {
     "ename": "ValueError",
     "evalue": "setting an array element with a sequence. The requested array has an inhomogeneous shape after 1 dimensions. The detected shape was (7794,) + inhomogeneous part.",
     "output_type": "error",
     "traceback": [
      "\u001b[1;31m---------------------------------------------------------------------------\u001b[0m",
      "\u001b[1;31mValueError\u001b[0m                                Traceback (most recent call last)",
      "Cell \u001b[1;32mIn[16], line 1\u001b[0m\n\u001b[1;32m----> 1\u001b[0m np_data\u001b[38;5;241m=\u001b[39m\u001b[43mnp\u001b[49m\u001b[38;5;241;43m.\u001b[39;49m\u001b[43marray\u001b[49m\u001b[43m(\u001b[49m\u001b[43mdata_list\u001b[49m\u001b[43m)\u001b[49m\n\u001b[0;32m      2\u001b[0m \u001b[38;5;28mprint\u001b[39m(np_data)\n",
      "\u001b[1;31mValueError\u001b[0m: setting an array element with a sequence. The requested array has an inhomogeneous shape after 1 dimensions. The detected shape was (7794,) + inhomogeneous part."
     ]
    }
   ],
   "source": [
    "np_data=np.array(data_list)\n",
    "print(np_data)"
   ]
  }
 ],
 "metadata": {
  "kernelspec": {
   "display_name": "Python 3 (ipykernel)",
   "language": "python",
   "name": "python3"
  },
  "language_info": {
   "codemirror_mode": {
    "name": "ipython",
    "version": 3
   },
   "file_extension": ".py",
   "mimetype": "text/x-python",
   "name": "python",
   "nbconvert_exporter": "python",
   "pygments_lexer": "ipython3",
   "version": "3.10.9"
  }
 },
 "nbformat": 4,
 "nbformat_minor": 5
}
